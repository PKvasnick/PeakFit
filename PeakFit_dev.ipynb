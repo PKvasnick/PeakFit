{
  "nbformat": 4,
  "nbformat_minor": 0,
  "metadata": {
    "colab": {
      "name": "PeakFit_dev.ipynb",
      "provenance": [],
      "collapsed_sections": []
    },
    "kernelspec": {
      "name": "python3",
      "display_name": "Python 3"
    },
    "widgets": {
      "application/vnd.jupyter.widget-state+json": {
        "335d07b0637e4bec8adbf80ea6cb5a1d": {
          "model_module": "@jupyter-widgets/controls",
          "model_name": "FloatRangeSliderModel",
          "state": {
            "_view_name": "FloatRangeSliderView",
            "style": "IPY_MODEL_0cedc95c05724b8ab6beefb7cecf1144",
            "_dom_classes": [],
            "description": "ROI",
            "step": 0.05,
            "_model_name": "FloatRangeSliderModel",
            "orientation": "horizontal",
            "max": 84.514,
            "_view_module": "@jupyter-widgets/controls",
            "_model_module_version": "1.5.0",
            "value": [
              22.162,
              27.762
            ],
            "_view_count": null,
            "disabled": false,
            "_view_module_version": "1.5.0",
            "min": -0.33799999999999997,
            "continuous_update": false,
            "readout_format": ".1f",
            "description_tooltip": null,
            "readout": true,
            "_model_module": "@jupyter-widgets/controls",
            "layout": "IPY_MODEL_7973c73a7c4a428d9619d7a01244a88d"
          }
        },
        "0cedc95c05724b8ab6beefb7cecf1144": {
          "model_module": "@jupyter-widgets/controls",
          "model_name": "SliderStyleModel",
          "state": {
            "_view_name": "StyleView",
            "handle_color": null,
            "_model_name": "SliderStyleModel",
            "description_width": "",
            "_view_module": "@jupyter-widgets/base",
            "_model_module_version": "1.5.0",
            "_view_count": null,
            "_view_module_version": "1.2.0",
            "_model_module": "@jupyter-widgets/controls"
          }
        },
        "7973c73a7c4a428d9619d7a01244a88d": {
          "model_module": "@jupyter-widgets/base",
          "model_name": "LayoutModel",
          "state": {
            "_view_name": "LayoutView",
            "grid_template_rows": null,
            "right": null,
            "justify_content": null,
            "_view_module": "@jupyter-widgets/base",
            "overflow": null,
            "_model_module_version": "1.2.0",
            "_view_count": null,
            "flex_flow": null,
            "width": "94%",
            "min_width": null,
            "border": null,
            "align_items": null,
            "bottom": null,
            "_model_module": "@jupyter-widgets/base",
            "top": null,
            "grid_column": null,
            "overflow_y": null,
            "overflow_x": null,
            "grid_auto_flow": null,
            "grid_area": null,
            "grid_template_columns": null,
            "flex": null,
            "_model_name": "LayoutModel",
            "justify_items": null,
            "grid_row": null,
            "max_height": null,
            "align_content": null,
            "visibility": null,
            "align_self": null,
            "height": null,
            "min_height": null,
            "padding": null,
            "grid_auto_rows": null,
            "grid_gap": null,
            "max_width": null,
            "order": null,
            "_view_module_version": "1.2.0",
            "grid_template_areas": null,
            "object_position": null,
            "object_fit": null,
            "grid_auto_columns": null,
            "margin": null,
            "display": null,
            "left": null
          }
        },
        "94beb85ecd5d462489c11de3088f7da0": {
          "model_module": "@jupyter-widgets/controls",
          "model_name": "RadioButtonsModel",
          "state": {
            "_options_labels": [
              "Konstantní pozadí",
              "Lineární pozadí",
              "Kvadratické pozadí"
            ],
            "_view_name": "RadioButtonsView",
            "style": "IPY_MODEL_82d5eeb737f1498e9f63e11451bb1b05",
            "_dom_classes": [],
            "description": "Typ pozadí:",
            "_model_name": "RadioButtonsModel",
            "index": 1,
            "_view_module": "@jupyter-widgets/controls",
            "_model_module_version": "1.5.0",
            "_view_count": null,
            "disabled": false,
            "_view_module_version": "1.5.0",
            "description_tooltip": null,
            "_model_module": "@jupyter-widgets/controls",
            "layout": "IPY_MODEL_54fa4ad6d736410ba9f9f88048fcb2ec"
          }
        },
        "82d5eeb737f1498e9f63e11451bb1b05": {
          "model_module": "@jupyter-widgets/controls",
          "model_name": "DescriptionStyleModel",
          "state": {
            "_view_name": "StyleView",
            "_model_name": "DescriptionStyleModel",
            "description_width": "",
            "_view_module": "@jupyter-widgets/base",
            "_model_module_version": "1.5.0",
            "_view_count": null,
            "_view_module_version": "1.2.0",
            "_model_module": "@jupyter-widgets/controls"
          }
        },
        "54fa4ad6d736410ba9f9f88048fcb2ec": {
          "model_module": "@jupyter-widgets/base",
          "model_name": "LayoutModel",
          "state": {
            "_view_name": "LayoutView",
            "grid_template_rows": null,
            "right": null,
            "justify_content": null,
            "_view_module": "@jupyter-widgets/base",
            "overflow": null,
            "_model_module_version": "1.2.0",
            "_view_count": null,
            "flex_flow": null,
            "width": "max-content",
            "min_width": null,
            "border": null,
            "align_items": null,
            "bottom": null,
            "_model_module": "@jupyter-widgets/base",
            "top": null,
            "grid_column": null,
            "overflow_y": null,
            "overflow_x": null,
            "grid_auto_flow": null,
            "grid_area": null,
            "grid_template_columns": null,
            "flex": null,
            "_model_name": "LayoutModel",
            "justify_items": null,
            "grid_row": null,
            "max_height": null,
            "align_content": null,
            "visibility": null,
            "align_self": null,
            "height": null,
            "min_height": null,
            "padding": null,
            "grid_auto_rows": null,
            "grid_gap": null,
            "max_width": null,
            "order": null,
            "_view_module_version": "1.2.0",
            "grid_template_areas": null,
            "object_position": null,
            "object_fit": null,
            "grid_auto_columns": null,
            "margin": null,
            "display": null,
            "left": null
          }
        }
      }
    }
  },
  "cells": [
    {
      "cell_type": "markdown",
      "metadata": {
        "id": "nfTpf0BLJhoj"
      },
      "source": [
        "# Fitování píků\n",
        "\n",
        "Nacházíte se v Google Colab notebooku, který vám pomůže vybrat a nafitovat píky v spektru. \n",
        "\n",
        "**Důležité**  Než začnete s notebookem cokoli dělat, vytvořte si vlastní kopii - z menu `File` vyberte jednu z možností `Save a Copy to...`. Tím nejen získáte lookálni kopii notebooku, kterou si případně můžete modifikovat dle libosti, ale také vytvoříte nové cloudové Pythonovské prostředí pro spouštění notebooku - tedy odlišné od těch, v nichž se práve pokouší spustit notebook vaši spolužáci. \n",
        "\n",
        "Jednotlivými kroky procházíte klikaním na trojúhelníčky ▷ v černém poli na levém okraji příslušných buněk. Pokud se spletete, \n",
        "\n",
        "* jestli chcete zopakovat poslední krok, klikněte na symbol pro odchod pod šipkou (změní se na x, když na něj najedete myší). Tím se vymaže předchozí výstup buňky. Pak znova klikněte na trojúhelníček pro opakované spuštění kódu tohoto kroku.\n",
        "* prostě celý notebook znova načtěte, nebo zvolte z menu `Runtime -> Restart Runtime` a začněte znovu. \n",
        "\n",
        "Pokud vás zajímá kód, kterým se realizují jednotlivé kroky, klikněte pravým tlačítkem do šedého pásu kolem trojúhelníčku, a zvolte `Form -> Show code`.\n",
        "\n",
        "Jakékoli stížnosti a připomínky prosím na `peter.kvasnicka@mff.cuni.cz`\n",
        "\n"
      ]
    },
    {
      "cell_type": "markdown",
      "metadata": {
        "id": "3Kz-GAIyeOxE"
      },
      "source": [
        "## 1. Načtení spektra vybraného vzorku a spektra pozadí\n",
        "V tomto kroku načtete ze soubovorého systému vašeho počítače datové soubory pro požadovaný vzorek a pro pozadí,`Vzorek-X_YYYs.dat` a `Vzorek-Ref_YYYs.dat`.\n",
        "\n",
        "Klikněte na šípku v levém horném rohu u následujících dvou buněk, a když ikonka ožije, klikněte na `Prohledávat` a vyberte požadovaný soubor. "
      ]
    },
    {
      "cell_type": "code",
      "metadata": {
        "id": "8ldJhMfXkkVA",
        "cellView": "form",
        "outputId": "3d93639e-e763-4736-bbc2-8d0642567d08",
        "colab": {
          "resources": {
            "http://localhost:8080/nbextensions/google.colab/files.js": {
              "data": "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",
              "ok": true,
              "headers": [
                [
                  "content-type",
                  "application/javascript"
                ]
              ],
              "status": 200,
              "status_text": "OK"
            }
          },
          "base_uri": "https://localhost:8080/",
          "height": 148
        }
      },
      "source": [
        "#@title <-- Načtěte z počítače soubor pro požadovaný vzorek\n",
        "\n",
        "import sys\n",
        "from io import StringIO\n",
        "from google.colab import files\n",
        "import numpy as np\n",
        "import pandas as pd\n",
        "\n",
        "def read_spectrum():\n",
        "  '''\n",
        "  Načte datový soubor ze souborového systému do Pandas\n",
        "  dataframu a z názvu dekóduje označení dat a čas měření.\n",
        "  Název souboru se očekává ve tvaru Vzorek-XXX_YYYs.txt.\n",
        "  '''\n",
        "  uploaded = files.upload() # Widget, vrací dict (název, obsah)\n",
        "  filename = list(uploaded.keys())[0]\n",
        "\n",
        "  # Parse filename\n",
        "  print('Reading data from: {}'.format(filename))\n",
        "  sample_id = filename[(filename.find('-')+1):filename.find('_')]\n",
        "  print('Sample id        : {}'.format(sample_id))\n",
        "  acc_time_str = filename[(filename.find('_')+1):filename.find('s.txt')]\n",
        "  acc_time = int(acc_time_str)\n",
        "  print('Acc. time        : {} sec'.format(acc_time))\n",
        "  df = pd.read_table(filename, sep = \" \")\n",
        "  print('Read {} rows.'.format(len(df)))\n",
        "  return sample_id, acc_time, df\n",
        "\n",
        "sample_id, sample_time, df = read_spectrum()"
      ],
      "execution_count": 12,
      "outputs": [
        {
          "output_type": "display_data",
          "data": {
            "text/html": [
              "\n",
              "     <input type=\"file\" id=\"files-c62ec142-1e7d-4893-bdde-5d07babf9b08\" name=\"files[]\" multiple disabled\n",
              "        style=\"border:none\" />\n",
              "     <output id=\"result-c62ec142-1e7d-4893-bdde-5d07babf9b08\">\n",
              "      Upload widget is only available when the cell has been executed in the\n",
              "      current browser session. Please rerun this cell to enable.\n",
              "      </output>\n",
              "      <script src=\"/nbextensions/google.colab/files.js\"></script> "
            ],
            "text/plain": [
              "<IPython.core.display.HTML object>"
            ]
          },
          "metadata": {
            "tags": []
          }
        },
        {
          "output_type": "stream",
          "text": [
            "Saving Vzorek-2_134s.txt to Vzorek-2_134s.txt\n",
            "Reading data from: Vzorek-2_134s.txt\n",
            "Sample id        : 2\n",
            "Acc. time        : 134 sec\n",
            "Read 400 rows.\n"
          ],
          "name": "stdout"
        }
      ]
    },
    {
      "cell_type": "code",
      "metadata": {
        "id": "FEqirY2Tilk1",
        "cellView": "form",
        "outputId": "c2eae93e-08c6-4b15-fdf5-a774f151b685",
        "colab": {
          "resources": {
            "http://localhost:8080/nbextensions/google.colab/files.js": {
              "data": "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",
              "ok": true,
              "headers": [
                [
                  "content-type",
                  "application/javascript"
                ]
              ],
              "status": 200,
              "status_text": "OK"
            }
          },
          "base_uri": "https://localhost:8080/",
          "height": 148
        }
      },
      "source": [
        "#@title <-- Načtěte z počítače soubor pro pozadí\n",
        "\n",
        "bg_id, bg_time, bg_df = read_spectrum()\n",
        "\n",
        "# Kontrola\n",
        "if bg_id != 'Ref':\n",
        "  print('VAROVÁNÍ: Načtené spektrum není spektrum pozadí!')\n",
        "  print('Pokud jste se spletli, můžete tento krok zopakovat.')\n",
        "#\n",
        "\n",
        "\n",
        "\n"
      ],
      "execution_count": 14,
      "outputs": [
        {
          "output_type": "display_data",
          "data": {
            "text/html": [
              "\n",
              "     <input type=\"file\" id=\"files-676c1157-56d2-4027-953d-463a09257ff1\" name=\"files[]\" multiple disabled\n",
              "        style=\"border:none\" />\n",
              "     <output id=\"result-676c1157-56d2-4027-953d-463a09257ff1\">\n",
              "      Upload widget is only available when the cell has been executed in the\n",
              "      current browser session. Please rerun this cell to enable.\n",
              "      </output>\n",
              "      <script src=\"/nbextensions/google.colab/files.js\"></script> "
            ],
            "text/plain": [
              "<IPython.core.display.HTML object>"
            ]
          },
          "metadata": {
            "tags": []
          }
        },
        {
          "output_type": "stream",
          "text": [
            "Saving Vzorek-Ref_958s.txt to Vzorek-Ref_958s (1).txt\n",
            "Reading data from: Vzorek-Ref_958s.txt\n",
            "Sample id        : Ref\n",
            "Acc. time        : 958 sec\n",
            "Read 400 rows.\n"
          ],
          "name": "stdout"
        }
      ]
    },
    {
      "cell_type": "markdown",
      "metadata": {
        "id": "S47pqR2LwPNI"
      },
      "source": [
        "## Sjednocení a zobrazení dat\n",
        "\n",
        "Pozadí je nutno přeškálovat podle doby měření, aby ho bylo možno odečíst od spektra vzorku. Pak si zobrazíme výslednou tabulku, abychom viděli, že se data načetla rozumně. "
      ]
    },
    {
      "cell_type": "code",
      "metadata": {
        "id": "PVccC89bIjRk",
        "cellView": "both",
        "outputId": "973386c0-06bb-4319-e413-70b5cbcfbe89",
        "colab": {
          "base_uri": "https://localhost:8080/",
          "height": 423
        }
      },
      "source": [
        "#@title <-- Sjednocení a zobrazení dat\n",
        "\n",
        "# Sjednotíme data - careful with data types\n",
        "# FIXME: Normalizing with a Bulgarian constant\n",
        "amplif = sample_time / bg_time\n",
        "df['Bg_counts'] = (bg_df.Counts * amplif + 0.5).astype(int)\n",
        "df['Net_counts'] = df.Counts - df.Bg_counts\n",
        "\n",
        "# Initial range for plot\n",
        "xmin = np.min(df.Energy_keV.values)\n",
        "xmax = np.max(df.Energy_keV.values)\n",
        "xm = 0.5 * (xmin + xmax)\n",
        "d = 0.5 * (xmax - xmin)\n",
        "x0 = xm - 0.5 * d\n",
        "x1 = xm + 0.5 * d\n",
        "\n",
        "df"
      ],
      "execution_count": 15,
      "outputs": [
        {
          "output_type": "execute_result",
          "data": {
            "text/html": [
              "<div>\n",
              "<style scoped>\n",
              "    .dataframe tbody tr th:only-of-type {\n",
              "        vertical-align: middle;\n",
              "    }\n",
              "\n",
              "    .dataframe tbody tr th {\n",
              "        vertical-align: top;\n",
              "    }\n",
              "\n",
              "    .dataframe thead th {\n",
              "        text-align: right;\n",
              "    }\n",
              "</style>\n",
              "<table border=\"1\" class=\"dataframe\">\n",
              "  <thead>\n",
              "    <tr style=\"text-align: right;\">\n",
              "      <th></th>\n",
              "      <th>Energy_keV</th>\n",
              "      <th>Counts</th>\n",
              "      <th>Bg_counts</th>\n",
              "      <th>Net_counts</th>\n",
              "    </tr>\n",
              "  </thead>\n",
              "  <tbody>\n",
              "    <tr>\n",
              "      <th>0</th>\n",
              "      <td>-0.338</td>\n",
              "      <td>0</td>\n",
              "      <td>0</td>\n",
              "      <td>0</td>\n",
              "    </tr>\n",
              "    <tr>\n",
              "      <th>1</th>\n",
              "      <td>-0.125</td>\n",
              "      <td>0</td>\n",
              "      <td>0</td>\n",
              "      <td>0</td>\n",
              "    </tr>\n",
              "    <tr>\n",
              "      <th>2</th>\n",
              "      <td>0.087</td>\n",
              "      <td>0</td>\n",
              "      <td>0</td>\n",
              "      <td>0</td>\n",
              "    </tr>\n",
              "    <tr>\n",
              "      <th>3</th>\n",
              "      <td>0.300</td>\n",
              "      <td>0</td>\n",
              "      <td>0</td>\n",
              "      <td>0</td>\n",
              "    </tr>\n",
              "    <tr>\n",
              "      <th>4</th>\n",
              "      <td>0.513</td>\n",
              "      <td>0</td>\n",
              "      <td>0</td>\n",
              "      <td>0</td>\n",
              "    </tr>\n",
              "    <tr>\n",
              "      <th>...</th>\n",
              "      <td>...</td>\n",
              "      <td>...</td>\n",
              "      <td>...</td>\n",
              "      <td>...</td>\n",
              "    </tr>\n",
              "    <tr>\n",
              "      <th>395</th>\n",
              "      <td>83.663</td>\n",
              "      <td>52</td>\n",
              "      <td>36</td>\n",
              "      <td>16</td>\n",
              "    </tr>\n",
              "    <tr>\n",
              "      <th>396</th>\n",
              "      <td>83.876</td>\n",
              "      <td>63</td>\n",
              "      <td>34</td>\n",
              "      <td>29</td>\n",
              "    </tr>\n",
              "    <tr>\n",
              "      <th>397</th>\n",
              "      <td>84.089</td>\n",
              "      <td>65</td>\n",
              "      <td>33</td>\n",
              "      <td>32</td>\n",
              "    </tr>\n",
              "    <tr>\n",
              "      <th>398</th>\n",
              "      <td>84.301</td>\n",
              "      <td>72</td>\n",
              "      <td>32</td>\n",
              "      <td>40</td>\n",
              "    </tr>\n",
              "    <tr>\n",
              "      <th>399</th>\n",
              "      <td>84.514</td>\n",
              "      <td>58</td>\n",
              "      <td>35</td>\n",
              "      <td>23</td>\n",
              "    </tr>\n",
              "  </tbody>\n",
              "</table>\n",
              "<p>400 rows × 4 columns</p>\n",
              "</div>"
            ],
            "text/plain": [
              "     Energy_keV  Counts  Bg_counts  Net_counts\n",
              "0        -0.338       0          0           0\n",
              "1        -0.125       0          0           0\n",
              "2         0.087       0          0           0\n",
              "3         0.300       0          0           0\n",
              "4         0.513       0          0           0\n",
              "..          ...     ...        ...         ...\n",
              "395      83.663      52         36          16\n",
              "396      83.876      63         34          29\n",
              "397      84.089      65         33          32\n",
              "398      84.301      72         32          40\n",
              "399      84.514      58         35          23\n",
              "\n",
              "[400 rows x 4 columns]"
            ]
          },
          "metadata": {
            "tags": []
          },
          "execution_count": 15
        }
      ]
    },
    {
      "cell_type": "markdown",
      "metadata": {
        "id": "DXE5wP3MxRSc"
      },
      "source": [
        "## 3. Vykreslení spektra a pozadí\n",
        "\n",
        "V tomto kroku si nakreslíme spektrum a pozadí, abychom si mohli vybrat oblast, kde chceme nafitovat pík, a zvolit typ pozadí. "
      ]
    },
    {
      "cell_type": "code",
      "metadata": {
        "id": "Lt9tXtQ8nfli",
        "cellView": "both",
        "outputId": "52a823d9-43a0-4370-aff7-95d42ed74634",
        "colab": {
          "base_uri": "https://localhost:8080/",
          "height": 668,
          "referenced_widgets": [
            "335d07b0637e4bec8adbf80ea6cb5a1d",
            "0cedc95c05724b8ab6beefb7cecf1144",
            "7973c73a7c4a428d9619d7a01244a88d",
            "94beb85ecd5d462489c11de3088f7da0",
            "82d5eeb737f1498e9f63e11451bb1b05",
            "54fa4ad6d736410ba9f9f88048fcb2ec"
          ]
        }
      },
      "source": [
        "#@title <-- V zobrazeném spektru vyberte oblast kolem píku (ROI) a zvolte tvar pozadí\n",
        "\n",
        "from plotly import graph_objects as go\n",
        "from IPython.display import display, clear_output\n",
        "import ipywidgets as widgets\n",
        "\n",
        "# Create figure\n",
        "fig = go.Figure()\n",
        "\n",
        "fig.add_trace(\n",
        "    go.Scatter(x=df.Energy_keV, y=df.Bg_counts, name='Blank', mode = 'lines', line_width = 0.7)\n",
        "    ).add_trace(\n",
        "    go.Scatter(x=df.Energy_keV, y=df.Counts, name='Sample', mode = 'lines', line_width = 0.7)\n",
        "    ).add_trace(\n",
        "    go.Scatter(x=df.Energy_keV, y=df.Net_counts, name='Net sample')\n",
        "    )\n",
        "\n",
        "# Set title\n",
        "fig.update_layout(\n",
        "    title_text=\"Spektrum a pozadí\"\n",
        ")\n",
        "\n",
        "# -------------------------------------------------------\n",
        "# Oblast ROI\n",
        "# -------------------------------------------------------\n",
        "\n",
        "fig.update_layout(\n",
        "    shapes = [\n",
        "      {\n",
        "        \"x0\": x0,\n",
        "        \"x1\": x1,\n",
        "        \"y0\": 0,\n",
        "        \"y1\": 1,\n",
        "        \"type\": \"rect\",\n",
        "        \"xref\": \"x\",\n",
        "        \"yref\": \"paper\",\n",
        "        \"opacity\": 0.2,\n",
        "        \"fillcolor\": \"#d3d3d3\"\n",
        "      }]\n",
        ")\n",
        "\n",
        "# -------------------------------------------------------\n",
        "# ROI slider\n",
        "# -------------------------------------------------------\n",
        "\n",
        "rs = widgets.FloatRangeSlider(\n",
        "    value=[x0, x1],\n",
        "    min=xmin,\n",
        "    max=xmax,\n",
        "    step=0.05,\n",
        "    description='ROI',\n",
        "    disabled=False,\n",
        "    continuous_update=False,\n",
        "    orientation='horizontal',\n",
        "    readout=True,\n",
        "    readout_format='.1f',\n",
        "    layout = widgets.Layout(width = '94%')\n",
        ")\n",
        "\n",
        "def on_range_update(slider):\n",
        "  fig.update_shapes(dict(x0 = rs.value[0], x1 = rs.value[1]))\n",
        "  clear_output()\n",
        "  fig.show()\n",
        "  display(rs)\n",
        "  display(bg_buttons)\n",
        "\n",
        "rs.observe(on_range_update)\n",
        "\n",
        "# -----------------------------------------------------------------------\n",
        "# Tvar pozadí\n",
        "# -----------------------------------------------------------------------\n",
        "bg_labels = ['Konstantní pozadí', \n",
        "             'Lineární pozadí', \n",
        "             'Kvadratické pozadí']\n",
        "\n",
        "output_radio_selected = widgets.Text('Kvadratické pozadí')\n",
        "\n",
        "bg_buttons = widgets.RadioButtons(\n",
        "    options=bg_labels,\n",
        "    value=bg_labels[2],\n",
        "    description='Typ pozadí:',\n",
        "    layout={'width': 'max-content'}, \n",
        "    disabled=False\n",
        ")\n",
        "\n",
        "def bg_buttons_observer(sender):\n",
        "    output_radio_selected.value = bg_buttons.value\n",
        "\n",
        "bg_buttons.observe(bg_buttons_observer, names=['value'])\n",
        "# -------------------------------------------------------\n",
        "# Vysypeme na displej\n",
        "# -------------------------------------------------------\n",
        "\n",
        "fig.show()\n",
        "display(rs)\n",
        "display(bg_buttons)"
      ],
      "execution_count": 22,
      "outputs": [
        {
          "output_type": "display_data",
          "data": {
            "text/html": [
              "<html>\n",
              "<head><meta charset=\"utf-8\" /></head>\n",
              "<body>\n",
              "    <div>\n",
              "            <script src=\"https://cdnjs.cloudflare.com/ajax/libs/mathjax/2.7.5/MathJax.js?config=TeX-AMS-MML_SVG\"></script><script type=\"text/javascript\">if (window.MathJax) {MathJax.Hub.Config({SVG: {font: \"STIX-Web\"}});}</script>\n",
              "                <script type=\"text/javascript\">window.PlotlyConfig = {MathJaxConfig: 'local'};</script>\n",
              "        <script src=\"https://cdn.plot.ly/plotly-latest.min.js\"></script>    \n",
              "            <div id=\"302050ed-10dd-4e86-a20f-50f1f75d7045\" class=\"plotly-graph-div\" style=\"height:525px; width:100%;\"></div>\n",
              "            <script type=\"text/javascript\">\n",
              "                \n",
              "                    window.PLOTLYENV=window.PLOTLYENV || {};\n",
              "                    \n",
              "                if (document.getElementById(\"302050ed-10dd-4e86-a20f-50f1f75d7045\")) {\n",
              "                    Plotly.newPlot(\n",
              "                        '302050ed-10dd-4e86-a20f-50f1f75d7045',\n",
              "                        [{\"line\": {\"width\": 0.7}, \"mode\": \"lines\", \"name\": \"Blank\", \"type\": \"scatter\", \"x\": [-0.33799999999999997, -0.125, 0.087, 0.3, 0.513, 0.725, 0.938, 1.15, 1.3630000000000002, 1.5759999999999998, 1.788, 2.001, 2.214, 2.426, 2.639, 2.852, 3.0639999999999996, 3.2769999999999997, 3.49, 3.702, 3.915, 4.128, 4.34, 4.553, 4.766, 4.978, 5.191, 5.404, 5.6160000000000005, 5.829, 6.042000000000001, 6.254, 6.4670000000000005, 6.68, 6.892, 7.105, 7.318, 7.53, 7.742999999999999, 7.956, 8.168, 8.381, 8.594, 8.806000000000001, 9.019, 9.232000000000001, 9.443999999999999, 9.657, 9.87, 10.082, 10.295, 10.508, 10.72, 10.933, 11.145999999999999, 11.357999999999999, 11.571, 11.784, 11.995999999999999, 12.209000000000001, 12.422, 12.634, 12.847000000000001, 13.06, 13.272, 13.485, 13.698, 13.91, 14.123, 14.335999999999999, 14.548, 14.761, 14.974, 15.186, 15.399000000000001, 15.610999999999999, 15.824000000000002, 16.037, 16.249000000000002, 16.462, 16.675, 16.887, 17.1, 17.313, 17.525, 17.738, 17.951, 18.163, 18.375999999999998, 18.589000000000002, 18.801, 19.014, 19.227, 19.439, 19.652, 19.865, 20.077, 20.29, 20.503, 20.715, 20.928, 21.141, 21.353, 21.566, 21.779, 21.991, 22.204, 22.416999999999998, 22.629, 22.842, 23.055, 23.267, 23.48, 23.693, 23.905, 24.118000000000002, 24.331, 24.543000000000003, 24.756, 24.969, 25.180999999999997, 25.394000000000002, 25.607, 25.819000000000003, 26.031999999999996, 26.245, 26.456999999999997, 26.67, 26.883000000000003, 27.095, 27.308000000000003, 27.521, 27.733, 27.945999999999998, 28.159000000000002, 28.371, 28.584, 28.796999999999997, 29.009, 29.221999999999998, 29.435, 29.647, 29.86, 30.072, 30.285, 30.498, 30.71, 30.923000000000002, 31.136, 31.348000000000003, 31.561, 31.774, 31.986, 32.199, 32.412, 32.624, 32.836999999999996, 33.05, 33.262, 33.475, 33.688, 33.9, 34.113, 34.326, 34.538000000000004, 34.751, 34.964, 35.176, 35.389, 35.602, 35.814, 36.027, 36.24, 36.452, 36.665, 36.878, 37.09, 37.303000000000004, 37.516, 37.728, 37.941, 38.154, 38.366, 38.579, 38.792, 39.004, 39.217, 39.43, 39.641999999999996, 39.855, 40.068000000000005, 40.28, 40.493, 40.705999999999996, 40.918, 41.131, 41.343999999999994, 41.556000000000004, 41.769, 41.982, 42.193999999999996, 42.407, 42.62, 42.832, 43.045, 43.258, 43.47, 43.683, 43.895, 44.108000000000004, 44.321000000000005, 44.533, 44.746, 44.958999999999996, 45.17100000000001, 45.38399999999999, 45.597, 45.809, 46.022, 46.235, 46.446999999999996, 46.66, 46.873000000000005, 47.085, 47.298, 47.511, 47.723, 47.93600000000001, 48.148999999999994, 48.361000000000004, 48.574, 48.787, 48.998999999999995, 49.211999999999996, 49.425, 49.637, 49.85, 50.063, 50.275, 50.488, 50.701, 50.913000000000004, 51.126000000000005, 51.339, 51.551, 51.763999999999996, 51.977, 52.18899999999999, 52.402, 52.615, 52.827, 53.04, 53.253, 53.465, 53.678000000000004, 53.891000000000005, 54.103, 54.316, 54.528999999999996, 54.74100000000001, 54.95399999999999, 55.167, 55.379, 55.592, 55.805, 56.016999999999996, 56.23, 56.443000000000005, 56.655, 56.868, 57.081, 57.293, 57.506, 57.718999999999994, 57.931000000000004, 58.144, 58.356, 58.568999999999996, 58.782, 58.994, 59.207, 59.42, 59.632, 59.845, 60.058, 60.27, 60.483000000000004, 60.696000000000005, 60.908, 61.121, 61.333999999999996, 61.54600000000001, 61.75899999999999, 61.972, 62.184, 62.397, 62.61, 62.821999999999996, 63.035, 63.248000000000005, 63.46, 63.673, 63.886, 64.098, 64.311, 64.524, 64.736, 64.949, 65.16199999999999, 65.374, 65.587, 65.8, 66.012, 66.225, 66.438, 66.65, 66.863, 67.07600000000001, 67.288, 67.501, 67.714, 67.926, 68.139, 68.352, 68.564, 68.777, 68.99, 69.202, 69.415, 69.628, 69.84, 70.053, 70.266, 70.47800000000001, 70.691, 70.904, 71.116, 71.329, 71.542, 71.75399999999999, 71.967, 72.18, 72.392, 72.605, 72.817, 73.03, 73.243, 73.455, 73.668, 73.881, 74.093, 74.306, 74.51899999999999, 74.73100000000001, 74.944, 75.157, 75.369, 75.582, 75.795, 76.007, 76.22, 76.433, 76.645, 76.858, 77.071, 77.283, 77.49600000000001, 77.709, 77.921, 78.134, 78.347, 78.559, 78.77199999999999, 78.985, 79.197, 79.41, 79.623, 79.835, 80.048, 80.26100000000001, 80.473, 80.686, 80.899, 81.111, 81.324, 81.53699999999999, 81.749, 81.962, 82.175, 82.387, 82.6, 82.81299999999999, 83.025, 83.238, 83.45100000000001, 83.663, 83.876, 84.089, 84.301, 84.514], \"y\": [0, 0, 0, 0, 0, 635, 472, 314, 201, 120, 64, 34, 15, 5, 2, 2, 0, 1, 1, 1, 2, 2, 3, 4, 4, 4, 6, 5, 9, 11, 13, 16, 20, 27, 28, 29, 37, 40, 39, 47, 48, 41, 47, 43, 35, 42, 38, 43, 50, 56, 61, 59, 62, 61, 58, 54, 52, 56, 65, 69, 77, 85, 96, 100, 104, 97, 100, 91, 88, 82, 66, 60, 64, 58, 55, 63, 74, 86, 100, 115, 126, 148, 145, 152, 141, 130, 113, 82, 77, 65, 56, 54, 47, 49, 51, 58, 54, 62, 58, 53, 53, 45, 38, 37, 31, 27, 21, 20, 20, 19, 21, 21, 25, 30, 34, 40, 45, 48, 52, 55, 58, 52, 53, 46, 47, 39, 33, 32, 24, 24, 19, 21, 17, 16, 18, 19, 19, 16, 17, 17, 18, 17, 15, 13, 17, 14, 14, 15, 16, 15, 17, 15, 18, 18, 16, 20, 17, 15, 19, 15, 20, 23, 19, 19, 21, 19, 20, 21, 22, 25, 29, 29, 29, 28, 34, 31, 40, 37, 38, 48, 46, 51, 52, 60, 63, 59, 70, 64, 72, 79, 85, 83, 100, 101, 107, 118, 117, 119, 142, 148, 145, 165, 160, 180, 184, 193, 203, 209, 213, 215, 226, 222, 243, 233, 246, 245, 259, 252, 261, 275, 279, 299, 312, 326, 334, 366, 385, 403, 440, 460, 520, 572, 637, 684, 763, 827, 886, 958, 1017, 1066, 1133, 1156, 1200, 1221, 1265, 1268, 1316, 1301, 1281, 1255, 1304, 1270, 1266, 1233, 1208, 1159, 1151, 1084, 1082, 1026, 984, 975, 916, 901, 856, 814, 777, 734, 676, 672, 614, 603, 561, 539, 573, 585, 658, 746, 852, 956, 962, 967, 892, 757, 586, 430, 296, 194, 116, 72, 51, 36, 28, 27, 27, 28, 29, 28, 30, 28, 27, 28, 28, 28, 32, 27, 29, 29, 28, 27, 29, 30, 26, 28, 27, 28, 30, 30, 29, 28, 31, 28, 30, 28, 31, 31, 29, 28, 30, 32, 30, 28, 30, 27, 32, 32, 32, 33, 33, 33, 34, 35, 37, 38, 40, 39, 37, 40, 38, 37, 42, 41, 47, 47, 47, 41, 44, 34, 40, 41, 35, 33, 32, 32, 36, 33, 40, 35, 31, 32, 32, 30, 34, 32, 33, 33, 27, 35, 30, 36, 30, 32, 31, 30, 35, 29, 33, 34, 31, 32, 33, 31, 31, 35, 37, 36, 34, 33, 32, 35]}, {\"line\": {\"width\": 0.7}, \"mode\": \"lines\", \"name\": \"Sample\", \"type\": \"scatter\", \"x\": [-0.33799999999999997, -0.125, 0.087, 0.3, 0.513, 0.725, 0.938, 1.15, 1.3630000000000002, 1.5759999999999998, 1.788, 2.001, 2.214, 2.426, 2.639, 2.852, 3.0639999999999996, 3.2769999999999997, 3.49, 3.702, 3.915, 4.128, 4.34, 4.553, 4.766, 4.978, 5.191, 5.404, 5.6160000000000005, 5.829, 6.042000000000001, 6.254, 6.4670000000000005, 6.68, 6.892, 7.105, 7.318, 7.53, 7.742999999999999, 7.956, 8.168, 8.381, 8.594, 8.806000000000001, 9.019, 9.232000000000001, 9.443999999999999, 9.657, 9.87, 10.082, 10.295, 10.508, 10.72, 10.933, 11.145999999999999, 11.357999999999999, 11.571, 11.784, 11.995999999999999, 12.209000000000001, 12.422, 12.634, 12.847000000000001, 13.06, 13.272, 13.485, 13.698, 13.91, 14.123, 14.335999999999999, 14.548, 14.761, 14.974, 15.186, 15.399000000000001, 15.610999999999999, 15.824000000000002, 16.037, 16.249000000000002, 16.462, 16.675, 16.887, 17.1, 17.313, 17.525, 17.738, 17.951, 18.163, 18.375999999999998, 18.589000000000002, 18.801, 19.014, 19.227, 19.439, 19.652, 19.865, 20.077, 20.29, 20.503, 20.715, 20.928, 21.141, 21.353, 21.566, 21.779, 21.991, 22.204, 22.416999999999998, 22.629, 22.842, 23.055, 23.267, 23.48, 23.693, 23.905, 24.118000000000002, 24.331, 24.543000000000003, 24.756, 24.969, 25.180999999999997, 25.394000000000002, 25.607, 25.819000000000003, 26.031999999999996, 26.245, 26.456999999999997, 26.67, 26.883000000000003, 27.095, 27.308000000000003, 27.521, 27.733, 27.945999999999998, 28.159000000000002, 28.371, 28.584, 28.796999999999997, 29.009, 29.221999999999998, 29.435, 29.647, 29.86, 30.072, 30.285, 30.498, 30.71, 30.923000000000002, 31.136, 31.348000000000003, 31.561, 31.774, 31.986, 32.199, 32.412, 32.624, 32.836999999999996, 33.05, 33.262, 33.475, 33.688, 33.9, 34.113, 34.326, 34.538000000000004, 34.751, 34.964, 35.176, 35.389, 35.602, 35.814, 36.027, 36.24, 36.452, 36.665, 36.878, 37.09, 37.303000000000004, 37.516, 37.728, 37.941, 38.154, 38.366, 38.579, 38.792, 39.004, 39.217, 39.43, 39.641999999999996, 39.855, 40.068000000000005, 40.28, 40.493, 40.705999999999996, 40.918, 41.131, 41.343999999999994, 41.556000000000004, 41.769, 41.982, 42.193999999999996, 42.407, 42.62, 42.832, 43.045, 43.258, 43.47, 43.683, 43.895, 44.108000000000004, 44.321000000000005, 44.533, 44.746, 44.958999999999996, 45.17100000000001, 45.38399999999999, 45.597, 45.809, 46.022, 46.235, 46.446999999999996, 46.66, 46.873000000000005, 47.085, 47.298, 47.511, 47.723, 47.93600000000001, 48.148999999999994, 48.361000000000004, 48.574, 48.787, 48.998999999999995, 49.211999999999996, 49.425, 49.637, 49.85, 50.063, 50.275, 50.488, 50.701, 50.913000000000004, 51.126000000000005, 51.339, 51.551, 51.763999999999996, 51.977, 52.18899999999999, 52.402, 52.615, 52.827, 53.04, 53.253, 53.465, 53.678000000000004, 53.891000000000005, 54.103, 54.316, 54.528999999999996, 54.74100000000001, 54.95399999999999, 55.167, 55.379, 55.592, 55.805, 56.016999999999996, 56.23, 56.443000000000005, 56.655, 56.868, 57.081, 57.293, 57.506, 57.718999999999994, 57.931000000000004, 58.144, 58.356, 58.568999999999996, 58.782, 58.994, 59.207, 59.42, 59.632, 59.845, 60.058, 60.27, 60.483000000000004, 60.696000000000005, 60.908, 61.121, 61.333999999999996, 61.54600000000001, 61.75899999999999, 61.972, 62.184, 62.397, 62.61, 62.821999999999996, 63.035, 63.248000000000005, 63.46, 63.673, 63.886, 64.098, 64.311, 64.524, 64.736, 64.949, 65.16199999999999, 65.374, 65.587, 65.8, 66.012, 66.225, 66.438, 66.65, 66.863, 67.07600000000001, 67.288, 67.501, 67.714, 67.926, 68.139, 68.352, 68.564, 68.777, 68.99, 69.202, 69.415, 69.628, 69.84, 70.053, 70.266, 70.47800000000001, 70.691, 70.904, 71.116, 71.329, 71.542, 71.75399999999999, 71.967, 72.18, 72.392, 72.605, 72.817, 73.03, 73.243, 73.455, 73.668, 73.881, 74.093, 74.306, 74.51899999999999, 74.73100000000001, 74.944, 75.157, 75.369, 75.582, 75.795, 76.007, 76.22, 76.433, 76.645, 76.858, 77.071, 77.283, 77.49600000000001, 77.709, 77.921, 78.134, 78.347, 78.559, 78.77199999999999, 78.985, 79.197, 79.41, 79.623, 79.835, 80.048, 80.26100000000001, 80.473, 80.686, 80.899, 81.111, 81.324, 81.53699999999999, 81.749, 81.962, 82.175, 82.387, 82.6, 82.81299999999999, 83.025, 83.238, 83.45100000000001, 83.663, 83.876, 84.089, 84.301, 84.514], \"y\": [0, 0, 0, 0, 0, 819, 637, 478, 299, 181, 98, 40, 22, 12, 1, 3, 1, 1, 3, 2, 5, 1, 4, 3, 12, 6, 7, 13, 16, 12, 20, 33, 34, 34, 39, 46, 58, 69, 69, 60, 66, 70, 80, 53, 73, 71, 58, 70, 75, 82, 81, 73, 74, 76, 74, 85, 75, 77, 104, 96, 100, 119, 135, 161, 149, 146, 146, 152, 184, 183, 153, 187, 149, 190, 168, 179, 162, 200, 183, 201, 224, 231, 208, 212, 221, 176, 184, 160, 147, 116, 121, 91, 95, 105, 83, 99, 102, 80, 82, 76, 79, 90, 66, 60, 61, 54, 39, 45, 55, 83, 76, 134, 183, 268, 440, 660, 963, 1163, 1465, 1611, 1682, 1619, 1503, 1197, 968, 681, 457, 331, 238, 169, 204, 262, 282, 360, 373, 453, 414, 385, 346, 302, 212, 179, 130, 80, 65, 39, 42, 31, 22, 15, 21, 26, 33, 21, 23, 26, 25, 33, 31, 22, 18, 27, 24, 26, 30, 24, 29, 31, 29, 29, 31, 35, 39, 45, 39, 44, 49, 46, 57, 46, 45, 64, 61, 67, 67, 75, 77, 102, 85, 89, 94, 107, 111, 134, 131, 136, 145, 159, 156, 179, 182, 202, 181, 216, 208, 216, 239, 253, 246, 242, 241, 262, 255, 288, 308, 315, 312, 327, 309, 295, 396, 355, 362, 414, 405, 434, 473, 534, 553, 608, 693, 696, 771, 885, 937, 1037, 1077, 1150, 1208, 1247, 1311, 1419, 1498, 1443, 1436, 1542, 1529, 1478, 1539, 1556, 1597, 1546, 1677, 1582, 1535, 1479, 1504, 1450, 1454, 1566, 1367, 1415, 1315, 1347, 1239, 1283, 1211, 1070, 1086, 1022, 995, 906, 888, 863, 899, 918, 1079, 1247, 1442, 1528, 1600, 1596, 1425, 1206, 949, 736, 509, 332, 192, 130, 83, 70, 48, 39, 33, 47, 45, 58, 45, 59, 35, 45, 38, 32, 50, 48, 51, 53, 48, 50, 52, 52, 37, 39, 45, 53, 44, 60, 53, 48, 48, 54, 44, 27, 44, 52, 42, 47, 42, 37, 52, 50, 57, 63, 39, 47, 48, 59, 47, 48, 65, 61, 78, 53, 64, 56, 51, 64, 66, 59, 68, 67, 67, 73, 71, 57, 56, 79, 53, 54, 62, 46, 57, 59, 47, 49, 40, 44, 43, 53, 40, 40, 59, 49, 51, 58, 61, 47, 36, 43, 44, 50, 31, 38, 45, 49, 41, 51, 47, 50, 55, 54, 49, 53, 64, 52, 63, 65, 72, 58]}, {\"name\": \"Net sample\", \"type\": \"scatter\", \"x\": [-0.33799999999999997, -0.125, 0.087, 0.3, 0.513, 0.725, 0.938, 1.15, 1.3630000000000002, 1.5759999999999998, 1.788, 2.001, 2.214, 2.426, 2.639, 2.852, 3.0639999999999996, 3.2769999999999997, 3.49, 3.702, 3.915, 4.128, 4.34, 4.553, 4.766, 4.978, 5.191, 5.404, 5.6160000000000005, 5.829, 6.042000000000001, 6.254, 6.4670000000000005, 6.68, 6.892, 7.105, 7.318, 7.53, 7.742999999999999, 7.956, 8.168, 8.381, 8.594, 8.806000000000001, 9.019, 9.232000000000001, 9.443999999999999, 9.657, 9.87, 10.082, 10.295, 10.508, 10.72, 10.933, 11.145999999999999, 11.357999999999999, 11.571, 11.784, 11.995999999999999, 12.209000000000001, 12.422, 12.634, 12.847000000000001, 13.06, 13.272, 13.485, 13.698, 13.91, 14.123, 14.335999999999999, 14.548, 14.761, 14.974, 15.186, 15.399000000000001, 15.610999999999999, 15.824000000000002, 16.037, 16.249000000000002, 16.462, 16.675, 16.887, 17.1, 17.313, 17.525, 17.738, 17.951, 18.163, 18.375999999999998, 18.589000000000002, 18.801, 19.014, 19.227, 19.439, 19.652, 19.865, 20.077, 20.29, 20.503, 20.715, 20.928, 21.141, 21.353, 21.566, 21.779, 21.991, 22.204, 22.416999999999998, 22.629, 22.842, 23.055, 23.267, 23.48, 23.693, 23.905, 24.118000000000002, 24.331, 24.543000000000003, 24.756, 24.969, 25.180999999999997, 25.394000000000002, 25.607, 25.819000000000003, 26.031999999999996, 26.245, 26.456999999999997, 26.67, 26.883000000000003, 27.095, 27.308000000000003, 27.521, 27.733, 27.945999999999998, 28.159000000000002, 28.371, 28.584, 28.796999999999997, 29.009, 29.221999999999998, 29.435, 29.647, 29.86, 30.072, 30.285, 30.498, 30.71, 30.923000000000002, 31.136, 31.348000000000003, 31.561, 31.774, 31.986, 32.199, 32.412, 32.624, 32.836999999999996, 33.05, 33.262, 33.475, 33.688, 33.9, 34.113, 34.326, 34.538000000000004, 34.751, 34.964, 35.176, 35.389, 35.602, 35.814, 36.027, 36.24, 36.452, 36.665, 36.878, 37.09, 37.303000000000004, 37.516, 37.728, 37.941, 38.154, 38.366, 38.579, 38.792, 39.004, 39.217, 39.43, 39.641999999999996, 39.855, 40.068000000000005, 40.28, 40.493, 40.705999999999996, 40.918, 41.131, 41.343999999999994, 41.556000000000004, 41.769, 41.982, 42.193999999999996, 42.407, 42.62, 42.832, 43.045, 43.258, 43.47, 43.683, 43.895, 44.108000000000004, 44.321000000000005, 44.533, 44.746, 44.958999999999996, 45.17100000000001, 45.38399999999999, 45.597, 45.809, 46.022, 46.235, 46.446999999999996, 46.66, 46.873000000000005, 47.085, 47.298, 47.511, 47.723, 47.93600000000001, 48.148999999999994, 48.361000000000004, 48.574, 48.787, 48.998999999999995, 49.211999999999996, 49.425, 49.637, 49.85, 50.063, 50.275, 50.488, 50.701, 50.913000000000004, 51.126000000000005, 51.339, 51.551, 51.763999999999996, 51.977, 52.18899999999999, 52.402, 52.615, 52.827, 53.04, 53.253, 53.465, 53.678000000000004, 53.891000000000005, 54.103, 54.316, 54.528999999999996, 54.74100000000001, 54.95399999999999, 55.167, 55.379, 55.592, 55.805, 56.016999999999996, 56.23, 56.443000000000005, 56.655, 56.868, 57.081, 57.293, 57.506, 57.718999999999994, 57.931000000000004, 58.144, 58.356, 58.568999999999996, 58.782, 58.994, 59.207, 59.42, 59.632, 59.845, 60.058, 60.27, 60.483000000000004, 60.696000000000005, 60.908, 61.121, 61.333999999999996, 61.54600000000001, 61.75899999999999, 61.972, 62.184, 62.397, 62.61, 62.821999999999996, 63.035, 63.248000000000005, 63.46, 63.673, 63.886, 64.098, 64.311, 64.524, 64.736, 64.949, 65.16199999999999, 65.374, 65.587, 65.8, 66.012, 66.225, 66.438, 66.65, 66.863, 67.07600000000001, 67.288, 67.501, 67.714, 67.926, 68.139, 68.352, 68.564, 68.777, 68.99, 69.202, 69.415, 69.628, 69.84, 70.053, 70.266, 70.47800000000001, 70.691, 70.904, 71.116, 71.329, 71.542, 71.75399999999999, 71.967, 72.18, 72.392, 72.605, 72.817, 73.03, 73.243, 73.455, 73.668, 73.881, 74.093, 74.306, 74.51899999999999, 74.73100000000001, 74.944, 75.157, 75.369, 75.582, 75.795, 76.007, 76.22, 76.433, 76.645, 76.858, 77.071, 77.283, 77.49600000000001, 77.709, 77.921, 78.134, 78.347, 78.559, 78.77199999999999, 78.985, 79.197, 79.41, 79.623, 79.835, 80.048, 80.26100000000001, 80.473, 80.686, 80.899, 81.111, 81.324, 81.53699999999999, 81.749, 81.962, 82.175, 82.387, 82.6, 82.81299999999999, 83.025, 83.238, 83.45100000000001, 83.663, 83.876, 84.089, 84.301, 84.514], \"y\": [0, 0, 0, 0, 0, 184, 165, 164, 98, 61, 34, 6, 7, 7, -1, 1, 1, 0, 2, 1, 3, -1, 1, -1, 8, 2, 1, 8, 7, 1, 7, 17, 14, 7, 11, 17, 21, 29, 30, 13, 18, 29, 33, 10, 38, 29, 20, 27, 25, 26, 20, 14, 12, 15, 16, 31, 23, 21, 39, 27, 23, 34, 39, 61, 45, 49, 46, 61, 96, 101, 87, 127, 85, 132, 113, 116, 88, 114, 83, 86, 98, 83, 63, 60, 80, 46, 71, 78, 70, 51, 65, 37, 48, 56, 32, 41, 48, 18, 24, 23, 26, 45, 28, 23, 30, 27, 18, 25, 35, 64, 55, 113, 158, 238, 406, 620, 918, 1115, 1413, 1556, 1624, 1567, 1450, 1151, 921, 642, 424, 299, 214, 145, 185, 241, 265, 344, 355, 434, 395, 369, 329, 285, 194, 162, 115, 67, 48, 25, 28, 16, 6, 0, 4, 11, 15, 3, 7, 6, 8, 18, 12, 7, -2, 4, 5, 7, 9, 5, 9, 10, 7, 4, 2, 6, 10, 17, 5, 13, 9, 9, 19, -2, -1, 13, 9, 7, 4, 16, 7, 38, 13, 10, 9, 24, 11, 33, 24, 18, 28, 40, 14, 31, 37, 37, 21, 36, 24, 23, 36, 44, 33, 27, 15, 40, 12, 55, 62, 70, 53, 75, 48, 20, 117, 56, 50, 88, 71, 68, 88, 131, 113, 148, 173, 124, 134, 201, 174, 210, 191, 192, 191, 181, 178, 263, 298, 222, 171, 274, 213, 177, 258, 301, 293, 276, 411, 349, 327, 320, 353, 366, 372, 540, 383, 440, 399, 446, 383, 469, 434, 336, 410, 350, 381, 303, 327, 324, 326, 333, 421, 501, 590, 572, 638, 629, 533, 449, 363, 306, 213, 138, 76, 58, 32, 34, 20, 12, 6, 19, 16, 30, 15, 31, 8, 17, 10, 4, 18, 21, 22, 24, 20, 23, 23, 22, 11, 11, 18, 25, 14, 30, 24, 20, 17, 26, 14, -1, 13, 21, 13, 19, 12, 5, 22, 22, 27, 36, 7, 15, 16, 26, 14, 15, 31, 26, 41, 15, 24, 17, 14, 24, 28, 22, 26, 26, 20, 26, 24, 16, 12, 45, 13, 13, 27, 13, 25, 27, 11, 16, 0, 9, 12, 21, 8, 10, 25, 17, 18, 25, 34, 12, 6, 7, 14, 18, 0, 8, 10, 20, 8, 17, 16, 18, 22, 23, 18, 18, 27, 16, 29, 32, 40, 23]}, {\"type\": \"scatter\", \"x\": [22.204, 22.416999999999998, 22.629, 22.842, 23.055, 23.267, 23.48, 23.693, 23.905, 24.118000000000002, 24.331, 24.543000000000003, 24.756, 24.969, 25.180999999999997, 25.394000000000002, 25.607, 25.819000000000003, 26.031999999999996, 26.245, 26.456999999999997, 26.67, 26.883000000000003, 27.095], \"y\": [25.594513090482533, 29.261705139948386, 34.761728758499004, 44.50853924170066, 62.969591290559215, 97.42939779058338, 158.9926457522464, 260.4870326594378, 412.55864780260845, 620.767862773993, 874.7775589873362, 1145.848390120959, 1394.0128489576207, 1570.1835784415957, 1636.3149414098016, 1578.3120140039769, 1409.5811918955199, 1168.933815968031, 901.683584803025, 651.8283618575034, 448.13162054495604, 298.8406005480582, 201.2007077244343, 144.01912060960922]}, {\"type\": \"scatter\", \"x\": [22.204, 22.416999999999998, 22.629, 22.842, 23.055, 23.267, 23.48, 23.693, 23.905, 24.118000000000002, 24.331, 24.543000000000003, 24.756, 24.969, 25.180999999999997, 25.394000000000002, 25.607, 25.819000000000003, 26.031999999999996, 26.245, 26.456999999999997, 26.67, 26.883000000000003, 27.095], \"y\": [25.01228260234589, 27.53104461388122, 30.037981451653508, 32.55674346318878, 35.07550547472411, 37.5824423124964, 40.10120432403173, 42.61996633556706, 45.12690317333929, 47.645665184874616, 50.164427196409946, 52.67136403418223, 55.190126045717506, 57.708888057252835, 60.215824895025065, 62.73458690656045, 65.25334891809572, 67.76028575586801, 70.27904776740328, 72.79780977893867, 75.30474661671084, 77.82350862824623, 80.34227063978156, 82.84920747755379]}],\n",
              "                        {\"shapes\": [{\"fillcolor\": \"#d3d3d3\", \"opacity\": 0.2, \"type\": \"rect\", \"x0\": 22.162, \"x1\": 27.762, \"xref\": \"x\", \"y0\": 0, \"y1\": 1, \"yref\": \"paper\"}], \"template\": {\"data\": {\"bar\": [{\"error_x\": {\"color\": \"#2a3f5f\"}, \"error_y\": {\"color\": \"#2a3f5f\"}, \"marker\": {\"line\": {\"color\": \"#E5ECF6\", \"width\": 0.5}}, \"type\": \"bar\"}], \"barpolar\": [{\"marker\": {\"line\": {\"color\": \"#E5ECF6\", \"width\": 0.5}}, \"type\": \"barpolar\"}], \"carpet\": [{\"aaxis\": {\"endlinecolor\": \"#2a3f5f\", \"gridcolor\": \"white\", \"linecolor\": \"white\", \"minorgridcolor\": \"white\", \"startlinecolor\": \"#2a3f5f\"}, \"baxis\": {\"endlinecolor\": \"#2a3f5f\", \"gridcolor\": \"white\", \"linecolor\": \"white\", \"minorgridcolor\": \"white\", \"startlinecolor\": \"#2a3f5f\"}, \"type\": \"carpet\"}], \"choropleth\": [{\"colorbar\": {\"outlinewidth\": 0, \"ticks\": \"\"}, \"type\": \"choropleth\"}], \"contour\": [{\"colorbar\": {\"outlinewidth\": 0, \"ticks\": \"\"}, \"colorscale\": [[0.0, \"#0d0887\"], [0.1111111111111111, \"#46039f\"], [0.2222222222222222, \"#7201a8\"], [0.3333333333333333, \"#9c179e\"], [0.4444444444444444, \"#bd3786\"], [0.5555555555555556, \"#d8576b\"], [0.6666666666666666, \"#ed7953\"], [0.7777777777777778, \"#fb9f3a\"], [0.8888888888888888, \"#fdca26\"], [1.0, \"#f0f921\"]], \"type\": \"contour\"}], \"contourcarpet\": [{\"colorbar\": {\"outlinewidth\": 0, \"ticks\": \"\"}, \"type\": \"contourcarpet\"}], \"heatmap\": [{\"colorbar\": {\"outlinewidth\": 0, \"ticks\": \"\"}, \"colorscale\": [[0.0, \"#0d0887\"], [0.1111111111111111, \"#46039f\"], [0.2222222222222222, \"#7201a8\"], [0.3333333333333333, \"#9c179e\"], [0.4444444444444444, \"#bd3786\"], [0.5555555555555556, \"#d8576b\"], [0.6666666666666666, \"#ed7953\"], [0.7777777777777778, \"#fb9f3a\"], [0.8888888888888888, \"#fdca26\"], [1.0, \"#f0f921\"]], \"type\": \"heatmap\"}], \"heatmapgl\": [{\"colorbar\": {\"outlinewidth\": 0, \"ticks\": \"\"}, \"colorscale\": [[0.0, \"#0d0887\"], [0.1111111111111111, \"#46039f\"], [0.2222222222222222, \"#7201a8\"], [0.3333333333333333, \"#9c179e\"], [0.4444444444444444, \"#bd3786\"], [0.5555555555555556, \"#d8576b\"], [0.6666666666666666, \"#ed7953\"], [0.7777777777777778, \"#fb9f3a\"], [0.8888888888888888, \"#fdca26\"], [1.0, \"#f0f921\"]], \"type\": \"heatmapgl\"}], \"histogram\": [{\"marker\": {\"colorbar\": {\"outlinewidth\": 0, \"ticks\": \"\"}}, \"type\": \"histogram\"}], \"histogram2d\": [{\"colorbar\": {\"outlinewidth\": 0, \"ticks\": \"\"}, \"colorscale\": [[0.0, \"#0d0887\"], [0.1111111111111111, \"#46039f\"], [0.2222222222222222, \"#7201a8\"], [0.3333333333333333, \"#9c179e\"], [0.4444444444444444, \"#bd3786\"], [0.5555555555555556, \"#d8576b\"], [0.6666666666666666, \"#ed7953\"], [0.7777777777777778, \"#fb9f3a\"], [0.8888888888888888, \"#fdca26\"], [1.0, \"#f0f921\"]], \"type\": \"histogram2d\"}], \"histogram2dcontour\": [{\"colorbar\": {\"outlinewidth\": 0, \"ticks\": \"\"}, \"colorscale\": [[0.0, \"#0d0887\"], [0.1111111111111111, \"#46039f\"], [0.2222222222222222, \"#7201a8\"], [0.3333333333333333, \"#9c179e\"], [0.4444444444444444, \"#bd3786\"], [0.5555555555555556, \"#d8576b\"], [0.6666666666666666, \"#ed7953\"], [0.7777777777777778, \"#fb9f3a\"], [0.8888888888888888, \"#fdca26\"], [1.0, \"#f0f921\"]], \"type\": \"histogram2dcontour\"}], \"mesh3d\": [{\"colorbar\": {\"outlinewidth\": 0, \"ticks\": \"\"}, \"type\": \"mesh3d\"}], \"parcoords\": [{\"line\": {\"colorbar\": {\"outlinewidth\": 0, \"ticks\": \"\"}}, \"type\": \"parcoords\"}], \"pie\": [{\"automargin\": true, \"type\": \"pie\"}], \"scatter\": [{\"marker\": {\"colorbar\": {\"outlinewidth\": 0, \"ticks\": \"\"}}, \"type\": \"scatter\"}], \"scatter3d\": [{\"line\": {\"colorbar\": {\"outlinewidth\": 0, \"ticks\": \"\"}}, \"marker\": {\"colorbar\": {\"outlinewidth\": 0, \"ticks\": \"\"}}, \"type\": \"scatter3d\"}], \"scattercarpet\": [{\"marker\": {\"colorbar\": {\"outlinewidth\": 0, \"ticks\": \"\"}}, \"type\": \"scattercarpet\"}], \"scattergeo\": [{\"marker\": {\"colorbar\": {\"outlinewidth\": 0, \"ticks\": \"\"}}, \"type\": \"scattergeo\"}], \"scattergl\": [{\"marker\": {\"colorbar\": {\"outlinewidth\": 0, \"ticks\": \"\"}}, \"type\": \"scattergl\"}], \"scattermapbox\": [{\"marker\": {\"colorbar\": {\"outlinewidth\": 0, \"ticks\": \"\"}}, \"type\": \"scattermapbox\"}], \"scatterpolar\": [{\"marker\": {\"colorbar\": {\"outlinewidth\": 0, \"ticks\": \"\"}}, \"type\": \"scatterpolar\"}], \"scatterpolargl\": [{\"marker\": {\"colorbar\": {\"outlinewidth\": 0, \"ticks\": \"\"}}, \"type\": \"scatterpolargl\"}], \"scatterternary\": [{\"marker\": {\"colorbar\": {\"outlinewidth\": 0, \"ticks\": \"\"}}, \"type\": \"scatterternary\"}], \"surface\": [{\"colorbar\": {\"outlinewidth\": 0, \"ticks\": \"\"}, \"colorscale\": [[0.0, \"#0d0887\"], [0.1111111111111111, \"#46039f\"], [0.2222222222222222, \"#7201a8\"], [0.3333333333333333, \"#9c179e\"], [0.4444444444444444, \"#bd3786\"], [0.5555555555555556, \"#d8576b\"], [0.6666666666666666, \"#ed7953\"], [0.7777777777777778, \"#fb9f3a\"], [0.8888888888888888, \"#fdca26\"], [1.0, \"#f0f921\"]], \"type\": \"surface\"}], \"table\": [{\"cells\": {\"fill\": {\"color\": \"#EBF0F8\"}, \"line\": {\"color\": \"white\"}}, \"header\": {\"fill\": {\"color\": \"#C8D4E3\"}, \"line\": {\"color\": \"white\"}}, \"type\": \"table\"}]}, \"layout\": {\"annotationdefaults\": {\"arrowcolor\": \"#2a3f5f\", \"arrowhead\": 0, \"arrowwidth\": 1}, \"coloraxis\": {\"colorbar\": {\"outlinewidth\": 0, \"ticks\": \"\"}}, \"colorscale\": {\"diverging\": [[0, \"#8e0152\"], [0.1, \"#c51b7d\"], [0.2, \"#de77ae\"], [0.3, \"#f1b6da\"], [0.4, \"#fde0ef\"], [0.5, \"#f7f7f7\"], [0.6, \"#e6f5d0\"], [0.7, \"#b8e186\"], [0.8, \"#7fbc41\"], [0.9, \"#4d9221\"], [1, \"#276419\"]], \"sequential\": [[0.0, \"#0d0887\"], [0.1111111111111111, \"#46039f\"], [0.2222222222222222, \"#7201a8\"], [0.3333333333333333, \"#9c179e\"], [0.4444444444444444, \"#bd3786\"], [0.5555555555555556, \"#d8576b\"], [0.6666666666666666, \"#ed7953\"], [0.7777777777777778, \"#fb9f3a\"], [0.8888888888888888, \"#fdca26\"], [1.0, \"#f0f921\"]], \"sequentialminus\": [[0.0, \"#0d0887\"], [0.1111111111111111, \"#46039f\"], [0.2222222222222222, \"#7201a8\"], [0.3333333333333333, \"#9c179e\"], [0.4444444444444444, \"#bd3786\"], [0.5555555555555556, \"#d8576b\"], [0.6666666666666666, \"#ed7953\"], [0.7777777777777778, \"#fb9f3a\"], [0.8888888888888888, \"#fdca26\"], [1.0, \"#f0f921\"]]}, \"colorway\": [\"#636efa\", \"#EF553B\", \"#00cc96\", \"#ab63fa\", \"#FFA15A\", \"#19d3f3\", \"#FF6692\", \"#B6E880\", \"#FF97FF\", \"#FECB52\"], \"font\": {\"color\": \"#2a3f5f\"}, \"geo\": {\"bgcolor\": \"white\", \"lakecolor\": \"white\", \"landcolor\": \"#E5ECF6\", \"showlakes\": true, \"showland\": true, \"subunitcolor\": \"white\"}, \"hoverlabel\": {\"align\": \"left\"}, \"hovermode\": \"closest\", \"mapbox\": {\"style\": \"light\"}, \"paper_bgcolor\": \"white\", \"plot_bgcolor\": \"#E5ECF6\", \"polar\": {\"angularaxis\": {\"gridcolor\": \"white\", \"linecolor\": \"white\", \"ticks\": \"\"}, \"bgcolor\": \"#E5ECF6\", \"radialaxis\": {\"gridcolor\": \"white\", \"linecolor\": \"white\", \"ticks\": \"\"}}, \"scene\": {\"xaxis\": {\"backgroundcolor\": \"#E5ECF6\", \"gridcolor\": \"white\", \"gridwidth\": 2, \"linecolor\": \"white\", \"showbackground\": true, \"ticks\": \"\", \"zerolinecolor\": \"white\"}, \"yaxis\": {\"backgroundcolor\": \"#E5ECF6\", \"gridcolor\": \"white\", \"gridwidth\": 2, \"linecolor\": \"white\", \"showbackground\": true, \"ticks\": \"\", \"zerolinecolor\": \"white\"}, \"zaxis\": {\"backgroundcolor\": \"#E5ECF6\", \"gridcolor\": \"white\", \"gridwidth\": 2, \"linecolor\": \"white\", \"showbackground\": true, \"ticks\": \"\", \"zerolinecolor\": \"white\"}}, \"shapedefaults\": {\"line\": {\"color\": \"#2a3f5f\"}}, \"ternary\": {\"aaxis\": {\"gridcolor\": \"white\", \"linecolor\": \"white\", \"ticks\": \"\"}, \"baxis\": {\"gridcolor\": \"white\", \"linecolor\": \"white\", \"ticks\": \"\"}, \"bgcolor\": \"#E5ECF6\", \"caxis\": {\"gridcolor\": \"white\", \"linecolor\": \"white\", \"ticks\": \"\"}}, \"title\": {\"x\": 0.05}, \"xaxis\": {\"automargin\": true, \"gridcolor\": \"white\", \"linecolor\": \"white\", \"ticks\": \"\", \"title\": {\"standoff\": 15}, \"zerolinecolor\": \"white\", \"zerolinewidth\": 2}, \"yaxis\": {\"automargin\": true, \"gridcolor\": \"white\", \"linecolor\": \"white\", \"ticks\": \"\", \"title\": {\"standoff\": 15}, \"zerolinecolor\": \"white\", \"zerolinewidth\": 2}}}, \"title\": {\"text\": \"Spektrum a pozad\\u00ed\"}},\n",
              "                        {\"responsive\": true}\n",
              "                    ).then(function(){\n",
              "                            \n",
              "var gd = document.getElementById('302050ed-10dd-4e86-a20f-50f1f75d7045');\n",
              "var x = new MutationObserver(function (mutations, observer) {{\n",
              "        var display = window.getComputedStyle(gd).display;\n",
              "        if (!display || display === 'none') {{\n",
              "            console.log([gd, 'removed!']);\n",
              "            Plotly.purge(gd);\n",
              "            observer.disconnect();\n",
              "        }}\n",
              "}});\n",
              "\n",
              "// Listen for the removal of the full notebook cells\n",
              "var notebookContainer = gd.closest('#notebook-container');\n",
              "if (notebookContainer) {{\n",
              "    x.observe(notebookContainer, {childList: true});\n",
              "}}\n",
              "\n",
              "// Listen for the clearing of the current output cell\n",
              "var outputEl = gd.closest('.output');\n",
              "if (outputEl) {{\n",
              "    x.observe(outputEl, {childList: true});\n",
              "}}\n",
              "\n",
              "                        })\n",
              "                };\n",
              "                \n",
              "            </script>\n",
              "        </div>\n",
              "</body>\n",
              "</html>"
            ]
          },
          "metadata": {
            "tags": []
          }
        },
        {
          "output_type": "display_data",
          "data": {
            "application/vnd.jupyter.widget-view+json": {
              "model_id": "335d07b0637e4bec8adbf80ea6cb5a1d",
              "version_minor": 0,
              "version_major": 2
            },
            "text/plain": [
              "FloatRangeSlider(value=(22.162, 27.762), continuous_update=False, description='ROI', layout=Layout(width='94%'…"
            ]
          },
          "metadata": {
            "tags": []
          }
        },
        {
          "output_type": "display_data",
          "data": {
            "application/vnd.jupyter.widget-view+json": {
              "model_id": "94beb85ecd5d462489c11de3088f7da0",
              "version_minor": 0,
              "version_major": 2
            },
            "text/plain": [
              "RadioButtons(description='Typ pozadí:', layout=Layout(width='max-content'), options=('Konstantní pozadí', 'Lin…"
            ]
          },
          "metadata": {
            "tags": []
          }
        }
      ]
    },
    {
      "cell_type": "markdown",
      "metadata": {
        "id": "SYWEpahMKaS3"
      },
      "source": [
        "Několik rad:\n",
        "* Může se stát, že vaše spektrum je široké a úzký pík se vám pomocí slajdru špatně vybírá. Nic nezkazíte, když ze zdrojových dat odmažete nezajímavou část spektra a začnete znovu, z užšího spektra se vám bude vybírat pohodlněji. \n",
        "* Vybírejte pík vždy i s malým okolím. Pozadí se fituje kvadratickým polynomem, a fit bude hezčí, když se bude mít čeho chytit. \n",
        "* Pokud fitujete hodně asymetrický pík, zkuste fit s lineárním nebo konstantním pozadím.\n",
        "* Zvolte konstantní pozadí, fitujete-li osamělý pík."
      ]
    },
    {
      "cell_type": "markdown",
      "metadata": {
        "id": "q43WR4llyIjK"
      },
      "source": [
        "## 4. Fitování píku\n",
        "\n",
        "Po spuštění se program pokusí nalézt optimální kombinaci gaussiánu a polynomu zvoleného stupně, která co nejlépe vystihujte spektrum ve zvolené oblasti. Nemusí se vám to povest napoprvé, v případě neúspěchu klidně začněte od 3. kroku."
      ]
    },
    {
      "cell_type": "code",
      "metadata": {
        "id": "P2qnMzX6XekC",
        "cellView": "both",
        "outputId": "2f3e01f1-7079-4d05-acc2-bf4f6711edbc",
        "colab": {
          "base_uri": "https://localhost:8080/",
          "height": 875
        }
      },
      "source": [
        "#@title <-- Nafitujte vybraný pík\n",
        "\n",
        "from scipy.stats import norm\n",
        "from scipy.optimize import curve_fit\n",
        "from math import sqrt, exp, log\n",
        "\n",
        "# Subset df acc to ROI\n",
        "low, high = rs.value\n",
        "\n",
        "df_fit = df[np.logical_and(df.Energy_keV > low, df.Energy_keV < high)].copy()\n",
        "df_fit['Errors'] = np.sqrt(df_fit.Counts)\n",
        "\n",
        "# Dynamic definition of polynomial part\n",
        "bg_degree = 0\n",
        "while bg_buttons.value != bg_labels[bg_degree]:\n",
        "  bg_degree += 1\n",
        "\n",
        "init_polyvals = [0] * (bg_degree + 1)\n",
        "\n",
        "def bg_poly(x, a):\n",
        "  p = np.zeros_like(x)\n",
        "  for i in range(len(a)):\n",
        "    p = p*x + a[i]\n",
        "  return p\n",
        "\n",
        "def gauss(x, N0, mean, sigma):\n",
        "  return N0 * norm.pdf(x, mean, sigma)\n",
        "\n",
        "def gauss_and_bg(x, N0, mean, sigma, *polyvals):\n",
        "  return bg_poly(x, polyvals) + gauss(x, N0, mean, sigma)\n",
        "  \n",
        "popt, pcov = curve_fit(\n",
        "    gauss_and_bg, \n",
        "    df_fit.Energy_keV, \n",
        "    df_fit.Net_counts, \n",
        "    [1000,0.5*(high+low), 0.5*(high-low), *init_polyvals] \n",
        ")\n",
        "\n",
        "# Peak stats:\n",
        "N0 = np.sum(df_fit.Net_counts)\n",
        "dE = np.mean(np.diff(df.Energy_keV))\n",
        "sig2fwhm = 2*sqrt(2*log(2))\n",
        "peak_stats = pd.DataFrame(dict(\n",
        "    Parameter=['left_edge', 'right_edge','centroid', 'FWHM', 'N_total', 'N_peak', 'N_bg', 'Acc. time', 'Rate'],\n",
        "    Unit=['keV', 'keV', 'keV', 'keV', '', '', '', 's', 'Hz'],\n",
        "    Value=[low, high, popt[1], sig2fwhm*popt[2], N0, popt[0]/dE, N0 - popt[0]/dE, sample_time, popt[0]/dE/sample_time],\n",
        "    Error=[None,None,sqrt(pcov[1,1]),sig2fwhm*sqrt(pcov[2,2]),None,sqrt(pcov[0,0])/dE,sqrt(pcov[0,0])/dE, 0, sqrt(pcov[0,0])/dE/sample_time]\n",
        "))\n",
        "\n",
        "df_fit['Fit'] = df_fit.apply(lambda row: gauss_and_bg(row.Energy_keV, *popt), axis = 1)\n",
        "df_fit['Bg'] = df_fit.apply(lambda row: bg_poly(row.Energy_keV, popt[3:]), axis = 1)\n",
        "\n",
        "fig.add_trace(\n",
        "    go.Scatter(x=df_fit.Energy_keV, y=df_fit.Fit)\n",
        ")\n",
        "fig.add_trace(\n",
        "    go.Scatter(x=df_fit.Energy_keV, y=df_fit.Bg)\n",
        ")\n",
        "fig.show()\n",
        "\n",
        "print('PEAK FIT SUMMARY:')\n",
        "pd.options.display.float_format = '{:.2f}'.format\n",
        "peak_stats"
      ],
      "execution_count": 28,
      "outputs": [
        {
          "output_type": "display_data",
          "data": {
            "text/html": [
              "<html>\n",
              "<head><meta charset=\"utf-8\" /></head>\n",
              "<body>\n",
              "    <div>\n",
              "            <script src=\"https://cdnjs.cloudflare.com/ajax/libs/mathjax/2.7.5/MathJax.js?config=TeX-AMS-MML_SVG\"></script><script type=\"text/javascript\">if (window.MathJax) {MathJax.Hub.Config({SVG: {font: \"STIX-Web\"}});}</script>\n",
              "                <script type=\"text/javascript\">window.PlotlyConfig = {MathJaxConfig: 'local'};</script>\n",
              "        <script src=\"https://cdn.plot.ly/plotly-latest.min.js\"></script>    \n",
              "            <div id=\"a2319250-2d8f-4738-ac02-fc076854d3ad\" class=\"plotly-graph-div\" style=\"height:525px; width:100%;\"></div>\n",
              "            <script type=\"text/javascript\">\n",
              "                \n",
              "                    window.PLOTLYENV=window.PLOTLYENV || {};\n",
              "                    \n",
              "                if (document.getElementById(\"a2319250-2d8f-4738-ac02-fc076854d3ad\")) {\n",
              "                    Plotly.newPlot(\n",
              "                        'a2319250-2d8f-4738-ac02-fc076854d3ad',\n",
              "                        [{\"line\": {\"width\": 0.7}, \"mode\": \"lines\", \"name\": \"Blank\", \"type\": \"scatter\", \"x\": [-0.33799999999999997, -0.125, 0.087, 0.3, 0.513, 0.725, 0.938, 1.15, 1.3630000000000002, 1.5759999999999998, 1.788, 2.001, 2.214, 2.426, 2.639, 2.852, 3.0639999999999996, 3.2769999999999997, 3.49, 3.702, 3.915, 4.128, 4.34, 4.553, 4.766, 4.978, 5.191, 5.404, 5.6160000000000005, 5.829, 6.042000000000001, 6.254, 6.4670000000000005, 6.68, 6.892, 7.105, 7.318, 7.53, 7.742999999999999, 7.956, 8.168, 8.381, 8.594, 8.806000000000001, 9.019, 9.232000000000001, 9.443999999999999, 9.657, 9.87, 10.082, 10.295, 10.508, 10.72, 10.933, 11.145999999999999, 11.357999999999999, 11.571, 11.784, 11.995999999999999, 12.209000000000001, 12.422, 12.634, 12.847000000000001, 13.06, 13.272, 13.485, 13.698, 13.91, 14.123, 14.335999999999999, 14.548, 14.761, 14.974, 15.186, 15.399000000000001, 15.610999999999999, 15.824000000000002, 16.037, 16.249000000000002, 16.462, 16.675, 16.887, 17.1, 17.313, 17.525, 17.738, 17.951, 18.163, 18.375999999999998, 18.589000000000002, 18.801, 19.014, 19.227, 19.439, 19.652, 19.865, 20.077, 20.29, 20.503, 20.715, 20.928, 21.141, 21.353, 21.566, 21.779, 21.991, 22.204, 22.416999999999998, 22.629, 22.842, 23.055, 23.267, 23.48, 23.693, 23.905, 24.118000000000002, 24.331, 24.543000000000003, 24.756, 24.969, 25.180999999999997, 25.394000000000002, 25.607, 25.819000000000003, 26.031999999999996, 26.245, 26.456999999999997, 26.67, 26.883000000000003, 27.095, 27.308000000000003, 27.521, 27.733, 27.945999999999998, 28.159000000000002, 28.371, 28.584, 28.796999999999997, 29.009, 29.221999999999998, 29.435, 29.647, 29.86, 30.072, 30.285, 30.498, 30.71, 30.923000000000002, 31.136, 31.348000000000003, 31.561, 31.774, 31.986, 32.199, 32.412, 32.624, 32.836999999999996, 33.05, 33.262, 33.475, 33.688, 33.9, 34.113, 34.326, 34.538000000000004, 34.751, 34.964, 35.176, 35.389, 35.602, 35.814, 36.027, 36.24, 36.452, 36.665, 36.878, 37.09, 37.303000000000004, 37.516, 37.728, 37.941, 38.154, 38.366, 38.579, 38.792, 39.004, 39.217, 39.43, 39.641999999999996, 39.855, 40.068000000000005, 40.28, 40.493, 40.705999999999996, 40.918, 41.131, 41.343999999999994, 41.556000000000004, 41.769, 41.982, 42.193999999999996, 42.407, 42.62, 42.832, 43.045, 43.258, 43.47, 43.683, 43.895, 44.108000000000004, 44.321000000000005, 44.533, 44.746, 44.958999999999996, 45.17100000000001, 45.38399999999999, 45.597, 45.809, 46.022, 46.235, 46.446999999999996, 46.66, 46.873000000000005, 47.085, 47.298, 47.511, 47.723, 47.93600000000001, 48.148999999999994, 48.361000000000004, 48.574, 48.787, 48.998999999999995, 49.211999999999996, 49.425, 49.637, 49.85, 50.063, 50.275, 50.488, 50.701, 50.913000000000004, 51.126000000000005, 51.339, 51.551, 51.763999999999996, 51.977, 52.18899999999999, 52.402, 52.615, 52.827, 53.04, 53.253, 53.465, 53.678000000000004, 53.891000000000005, 54.103, 54.316, 54.528999999999996, 54.74100000000001, 54.95399999999999, 55.167, 55.379, 55.592, 55.805, 56.016999999999996, 56.23, 56.443000000000005, 56.655, 56.868, 57.081, 57.293, 57.506, 57.718999999999994, 57.931000000000004, 58.144, 58.356, 58.568999999999996, 58.782, 58.994, 59.207, 59.42, 59.632, 59.845, 60.058, 60.27, 60.483000000000004, 60.696000000000005, 60.908, 61.121, 61.333999999999996, 61.54600000000001, 61.75899999999999, 61.972, 62.184, 62.397, 62.61, 62.821999999999996, 63.035, 63.248000000000005, 63.46, 63.673, 63.886, 64.098, 64.311, 64.524, 64.736, 64.949, 65.16199999999999, 65.374, 65.587, 65.8, 66.012, 66.225, 66.438, 66.65, 66.863, 67.07600000000001, 67.288, 67.501, 67.714, 67.926, 68.139, 68.352, 68.564, 68.777, 68.99, 69.202, 69.415, 69.628, 69.84, 70.053, 70.266, 70.47800000000001, 70.691, 70.904, 71.116, 71.329, 71.542, 71.75399999999999, 71.967, 72.18, 72.392, 72.605, 72.817, 73.03, 73.243, 73.455, 73.668, 73.881, 74.093, 74.306, 74.51899999999999, 74.73100000000001, 74.944, 75.157, 75.369, 75.582, 75.795, 76.007, 76.22, 76.433, 76.645, 76.858, 77.071, 77.283, 77.49600000000001, 77.709, 77.921, 78.134, 78.347, 78.559, 78.77199999999999, 78.985, 79.197, 79.41, 79.623, 79.835, 80.048, 80.26100000000001, 80.473, 80.686, 80.899, 81.111, 81.324, 81.53699999999999, 81.749, 81.962, 82.175, 82.387, 82.6, 82.81299999999999, 83.025, 83.238, 83.45100000000001, 83.663, 83.876, 84.089, 84.301, 84.514], \"y\": [0, 0, 0, 0, 0, 635, 472, 314, 201, 120, 64, 34, 15, 5, 2, 2, 0, 1, 1, 1, 2, 2, 3, 4, 4, 4, 6, 5, 9, 11, 13, 16, 20, 27, 28, 29, 37, 40, 39, 47, 48, 41, 47, 43, 35, 42, 38, 43, 50, 56, 61, 59, 62, 61, 58, 54, 52, 56, 65, 69, 77, 85, 96, 100, 104, 97, 100, 91, 88, 82, 66, 60, 64, 58, 55, 63, 74, 86, 100, 115, 126, 148, 145, 152, 141, 130, 113, 82, 77, 65, 56, 54, 47, 49, 51, 58, 54, 62, 58, 53, 53, 45, 38, 37, 31, 27, 21, 20, 20, 19, 21, 21, 25, 30, 34, 40, 45, 48, 52, 55, 58, 52, 53, 46, 47, 39, 33, 32, 24, 24, 19, 21, 17, 16, 18, 19, 19, 16, 17, 17, 18, 17, 15, 13, 17, 14, 14, 15, 16, 15, 17, 15, 18, 18, 16, 20, 17, 15, 19, 15, 20, 23, 19, 19, 21, 19, 20, 21, 22, 25, 29, 29, 29, 28, 34, 31, 40, 37, 38, 48, 46, 51, 52, 60, 63, 59, 70, 64, 72, 79, 85, 83, 100, 101, 107, 118, 117, 119, 142, 148, 145, 165, 160, 180, 184, 193, 203, 209, 213, 215, 226, 222, 243, 233, 246, 245, 259, 252, 261, 275, 279, 299, 312, 326, 334, 366, 385, 403, 440, 460, 520, 572, 637, 684, 763, 827, 886, 958, 1017, 1066, 1133, 1156, 1200, 1221, 1265, 1268, 1316, 1301, 1281, 1255, 1304, 1270, 1266, 1233, 1208, 1159, 1151, 1084, 1082, 1026, 984, 975, 916, 901, 856, 814, 777, 734, 676, 672, 614, 603, 561, 539, 573, 585, 658, 746, 852, 956, 962, 967, 892, 757, 586, 430, 296, 194, 116, 72, 51, 36, 28, 27, 27, 28, 29, 28, 30, 28, 27, 28, 28, 28, 32, 27, 29, 29, 28, 27, 29, 30, 26, 28, 27, 28, 30, 30, 29, 28, 31, 28, 30, 28, 31, 31, 29, 28, 30, 32, 30, 28, 30, 27, 32, 32, 32, 33, 33, 33, 34, 35, 37, 38, 40, 39, 37, 40, 38, 37, 42, 41, 47, 47, 47, 41, 44, 34, 40, 41, 35, 33, 32, 32, 36, 33, 40, 35, 31, 32, 32, 30, 34, 32, 33, 33, 27, 35, 30, 36, 30, 32, 31, 30, 35, 29, 33, 34, 31, 32, 33, 31, 31, 35, 37, 36, 34, 33, 32, 35]}, {\"line\": {\"width\": 0.7}, \"mode\": \"lines\", \"name\": \"Sample\", \"type\": \"scatter\", \"x\": [-0.33799999999999997, -0.125, 0.087, 0.3, 0.513, 0.725, 0.938, 1.15, 1.3630000000000002, 1.5759999999999998, 1.788, 2.001, 2.214, 2.426, 2.639, 2.852, 3.0639999999999996, 3.2769999999999997, 3.49, 3.702, 3.915, 4.128, 4.34, 4.553, 4.766, 4.978, 5.191, 5.404, 5.6160000000000005, 5.829, 6.042000000000001, 6.254, 6.4670000000000005, 6.68, 6.892, 7.105, 7.318, 7.53, 7.742999999999999, 7.956, 8.168, 8.381, 8.594, 8.806000000000001, 9.019, 9.232000000000001, 9.443999999999999, 9.657, 9.87, 10.082, 10.295, 10.508, 10.72, 10.933, 11.145999999999999, 11.357999999999999, 11.571, 11.784, 11.995999999999999, 12.209000000000001, 12.422, 12.634, 12.847000000000001, 13.06, 13.272, 13.485, 13.698, 13.91, 14.123, 14.335999999999999, 14.548, 14.761, 14.974, 15.186, 15.399000000000001, 15.610999999999999, 15.824000000000002, 16.037, 16.249000000000002, 16.462, 16.675, 16.887, 17.1, 17.313, 17.525, 17.738, 17.951, 18.163, 18.375999999999998, 18.589000000000002, 18.801, 19.014, 19.227, 19.439, 19.652, 19.865, 20.077, 20.29, 20.503, 20.715, 20.928, 21.141, 21.353, 21.566, 21.779, 21.991, 22.204, 22.416999999999998, 22.629, 22.842, 23.055, 23.267, 23.48, 23.693, 23.905, 24.118000000000002, 24.331, 24.543000000000003, 24.756, 24.969, 25.180999999999997, 25.394000000000002, 25.607, 25.819000000000003, 26.031999999999996, 26.245, 26.456999999999997, 26.67, 26.883000000000003, 27.095, 27.308000000000003, 27.521, 27.733, 27.945999999999998, 28.159000000000002, 28.371, 28.584, 28.796999999999997, 29.009, 29.221999999999998, 29.435, 29.647, 29.86, 30.072, 30.285, 30.498, 30.71, 30.923000000000002, 31.136, 31.348000000000003, 31.561, 31.774, 31.986, 32.199, 32.412, 32.624, 32.836999999999996, 33.05, 33.262, 33.475, 33.688, 33.9, 34.113, 34.326, 34.538000000000004, 34.751, 34.964, 35.176, 35.389, 35.602, 35.814, 36.027, 36.24, 36.452, 36.665, 36.878, 37.09, 37.303000000000004, 37.516, 37.728, 37.941, 38.154, 38.366, 38.579, 38.792, 39.004, 39.217, 39.43, 39.641999999999996, 39.855, 40.068000000000005, 40.28, 40.493, 40.705999999999996, 40.918, 41.131, 41.343999999999994, 41.556000000000004, 41.769, 41.982, 42.193999999999996, 42.407, 42.62, 42.832, 43.045, 43.258, 43.47, 43.683, 43.895, 44.108000000000004, 44.321000000000005, 44.533, 44.746, 44.958999999999996, 45.17100000000001, 45.38399999999999, 45.597, 45.809, 46.022, 46.235, 46.446999999999996, 46.66, 46.873000000000005, 47.085, 47.298, 47.511, 47.723, 47.93600000000001, 48.148999999999994, 48.361000000000004, 48.574, 48.787, 48.998999999999995, 49.211999999999996, 49.425, 49.637, 49.85, 50.063, 50.275, 50.488, 50.701, 50.913000000000004, 51.126000000000005, 51.339, 51.551, 51.763999999999996, 51.977, 52.18899999999999, 52.402, 52.615, 52.827, 53.04, 53.253, 53.465, 53.678000000000004, 53.891000000000005, 54.103, 54.316, 54.528999999999996, 54.74100000000001, 54.95399999999999, 55.167, 55.379, 55.592, 55.805, 56.016999999999996, 56.23, 56.443000000000005, 56.655, 56.868, 57.081, 57.293, 57.506, 57.718999999999994, 57.931000000000004, 58.144, 58.356, 58.568999999999996, 58.782, 58.994, 59.207, 59.42, 59.632, 59.845, 60.058, 60.27, 60.483000000000004, 60.696000000000005, 60.908, 61.121, 61.333999999999996, 61.54600000000001, 61.75899999999999, 61.972, 62.184, 62.397, 62.61, 62.821999999999996, 63.035, 63.248000000000005, 63.46, 63.673, 63.886, 64.098, 64.311, 64.524, 64.736, 64.949, 65.16199999999999, 65.374, 65.587, 65.8, 66.012, 66.225, 66.438, 66.65, 66.863, 67.07600000000001, 67.288, 67.501, 67.714, 67.926, 68.139, 68.352, 68.564, 68.777, 68.99, 69.202, 69.415, 69.628, 69.84, 70.053, 70.266, 70.47800000000001, 70.691, 70.904, 71.116, 71.329, 71.542, 71.75399999999999, 71.967, 72.18, 72.392, 72.605, 72.817, 73.03, 73.243, 73.455, 73.668, 73.881, 74.093, 74.306, 74.51899999999999, 74.73100000000001, 74.944, 75.157, 75.369, 75.582, 75.795, 76.007, 76.22, 76.433, 76.645, 76.858, 77.071, 77.283, 77.49600000000001, 77.709, 77.921, 78.134, 78.347, 78.559, 78.77199999999999, 78.985, 79.197, 79.41, 79.623, 79.835, 80.048, 80.26100000000001, 80.473, 80.686, 80.899, 81.111, 81.324, 81.53699999999999, 81.749, 81.962, 82.175, 82.387, 82.6, 82.81299999999999, 83.025, 83.238, 83.45100000000001, 83.663, 83.876, 84.089, 84.301, 84.514], \"y\": [0, 0, 0, 0, 0, 819, 637, 478, 299, 181, 98, 40, 22, 12, 1, 3, 1, 1, 3, 2, 5, 1, 4, 3, 12, 6, 7, 13, 16, 12, 20, 33, 34, 34, 39, 46, 58, 69, 69, 60, 66, 70, 80, 53, 73, 71, 58, 70, 75, 82, 81, 73, 74, 76, 74, 85, 75, 77, 104, 96, 100, 119, 135, 161, 149, 146, 146, 152, 184, 183, 153, 187, 149, 190, 168, 179, 162, 200, 183, 201, 224, 231, 208, 212, 221, 176, 184, 160, 147, 116, 121, 91, 95, 105, 83, 99, 102, 80, 82, 76, 79, 90, 66, 60, 61, 54, 39, 45, 55, 83, 76, 134, 183, 268, 440, 660, 963, 1163, 1465, 1611, 1682, 1619, 1503, 1197, 968, 681, 457, 331, 238, 169, 204, 262, 282, 360, 373, 453, 414, 385, 346, 302, 212, 179, 130, 80, 65, 39, 42, 31, 22, 15, 21, 26, 33, 21, 23, 26, 25, 33, 31, 22, 18, 27, 24, 26, 30, 24, 29, 31, 29, 29, 31, 35, 39, 45, 39, 44, 49, 46, 57, 46, 45, 64, 61, 67, 67, 75, 77, 102, 85, 89, 94, 107, 111, 134, 131, 136, 145, 159, 156, 179, 182, 202, 181, 216, 208, 216, 239, 253, 246, 242, 241, 262, 255, 288, 308, 315, 312, 327, 309, 295, 396, 355, 362, 414, 405, 434, 473, 534, 553, 608, 693, 696, 771, 885, 937, 1037, 1077, 1150, 1208, 1247, 1311, 1419, 1498, 1443, 1436, 1542, 1529, 1478, 1539, 1556, 1597, 1546, 1677, 1582, 1535, 1479, 1504, 1450, 1454, 1566, 1367, 1415, 1315, 1347, 1239, 1283, 1211, 1070, 1086, 1022, 995, 906, 888, 863, 899, 918, 1079, 1247, 1442, 1528, 1600, 1596, 1425, 1206, 949, 736, 509, 332, 192, 130, 83, 70, 48, 39, 33, 47, 45, 58, 45, 59, 35, 45, 38, 32, 50, 48, 51, 53, 48, 50, 52, 52, 37, 39, 45, 53, 44, 60, 53, 48, 48, 54, 44, 27, 44, 52, 42, 47, 42, 37, 52, 50, 57, 63, 39, 47, 48, 59, 47, 48, 65, 61, 78, 53, 64, 56, 51, 64, 66, 59, 68, 67, 67, 73, 71, 57, 56, 79, 53, 54, 62, 46, 57, 59, 47, 49, 40, 44, 43, 53, 40, 40, 59, 49, 51, 58, 61, 47, 36, 43, 44, 50, 31, 38, 45, 49, 41, 51, 47, 50, 55, 54, 49, 53, 64, 52, 63, 65, 72, 58]}, {\"name\": \"Net sample\", \"type\": \"scatter\", \"x\": [-0.33799999999999997, -0.125, 0.087, 0.3, 0.513, 0.725, 0.938, 1.15, 1.3630000000000002, 1.5759999999999998, 1.788, 2.001, 2.214, 2.426, 2.639, 2.852, 3.0639999999999996, 3.2769999999999997, 3.49, 3.702, 3.915, 4.128, 4.34, 4.553, 4.766, 4.978, 5.191, 5.404, 5.6160000000000005, 5.829, 6.042000000000001, 6.254, 6.4670000000000005, 6.68, 6.892, 7.105, 7.318, 7.53, 7.742999999999999, 7.956, 8.168, 8.381, 8.594, 8.806000000000001, 9.019, 9.232000000000001, 9.443999999999999, 9.657, 9.87, 10.082, 10.295, 10.508, 10.72, 10.933, 11.145999999999999, 11.357999999999999, 11.571, 11.784, 11.995999999999999, 12.209000000000001, 12.422, 12.634, 12.847000000000001, 13.06, 13.272, 13.485, 13.698, 13.91, 14.123, 14.335999999999999, 14.548, 14.761, 14.974, 15.186, 15.399000000000001, 15.610999999999999, 15.824000000000002, 16.037, 16.249000000000002, 16.462, 16.675, 16.887, 17.1, 17.313, 17.525, 17.738, 17.951, 18.163, 18.375999999999998, 18.589000000000002, 18.801, 19.014, 19.227, 19.439, 19.652, 19.865, 20.077, 20.29, 20.503, 20.715, 20.928, 21.141, 21.353, 21.566, 21.779, 21.991, 22.204, 22.416999999999998, 22.629, 22.842, 23.055, 23.267, 23.48, 23.693, 23.905, 24.118000000000002, 24.331, 24.543000000000003, 24.756, 24.969, 25.180999999999997, 25.394000000000002, 25.607, 25.819000000000003, 26.031999999999996, 26.245, 26.456999999999997, 26.67, 26.883000000000003, 27.095, 27.308000000000003, 27.521, 27.733, 27.945999999999998, 28.159000000000002, 28.371, 28.584, 28.796999999999997, 29.009, 29.221999999999998, 29.435, 29.647, 29.86, 30.072, 30.285, 30.498, 30.71, 30.923000000000002, 31.136, 31.348000000000003, 31.561, 31.774, 31.986, 32.199, 32.412, 32.624, 32.836999999999996, 33.05, 33.262, 33.475, 33.688, 33.9, 34.113, 34.326, 34.538000000000004, 34.751, 34.964, 35.176, 35.389, 35.602, 35.814, 36.027, 36.24, 36.452, 36.665, 36.878, 37.09, 37.303000000000004, 37.516, 37.728, 37.941, 38.154, 38.366, 38.579, 38.792, 39.004, 39.217, 39.43, 39.641999999999996, 39.855, 40.068000000000005, 40.28, 40.493, 40.705999999999996, 40.918, 41.131, 41.343999999999994, 41.556000000000004, 41.769, 41.982, 42.193999999999996, 42.407, 42.62, 42.832, 43.045, 43.258, 43.47, 43.683, 43.895, 44.108000000000004, 44.321000000000005, 44.533, 44.746, 44.958999999999996, 45.17100000000001, 45.38399999999999, 45.597, 45.809, 46.022, 46.235, 46.446999999999996, 46.66, 46.873000000000005, 47.085, 47.298, 47.511, 47.723, 47.93600000000001, 48.148999999999994, 48.361000000000004, 48.574, 48.787, 48.998999999999995, 49.211999999999996, 49.425, 49.637, 49.85, 50.063, 50.275, 50.488, 50.701, 50.913000000000004, 51.126000000000005, 51.339, 51.551, 51.763999999999996, 51.977, 52.18899999999999, 52.402, 52.615, 52.827, 53.04, 53.253, 53.465, 53.678000000000004, 53.891000000000005, 54.103, 54.316, 54.528999999999996, 54.74100000000001, 54.95399999999999, 55.167, 55.379, 55.592, 55.805, 56.016999999999996, 56.23, 56.443000000000005, 56.655, 56.868, 57.081, 57.293, 57.506, 57.718999999999994, 57.931000000000004, 58.144, 58.356, 58.568999999999996, 58.782, 58.994, 59.207, 59.42, 59.632, 59.845, 60.058, 60.27, 60.483000000000004, 60.696000000000005, 60.908, 61.121, 61.333999999999996, 61.54600000000001, 61.75899999999999, 61.972, 62.184, 62.397, 62.61, 62.821999999999996, 63.035, 63.248000000000005, 63.46, 63.673, 63.886, 64.098, 64.311, 64.524, 64.736, 64.949, 65.16199999999999, 65.374, 65.587, 65.8, 66.012, 66.225, 66.438, 66.65, 66.863, 67.07600000000001, 67.288, 67.501, 67.714, 67.926, 68.139, 68.352, 68.564, 68.777, 68.99, 69.202, 69.415, 69.628, 69.84, 70.053, 70.266, 70.47800000000001, 70.691, 70.904, 71.116, 71.329, 71.542, 71.75399999999999, 71.967, 72.18, 72.392, 72.605, 72.817, 73.03, 73.243, 73.455, 73.668, 73.881, 74.093, 74.306, 74.51899999999999, 74.73100000000001, 74.944, 75.157, 75.369, 75.582, 75.795, 76.007, 76.22, 76.433, 76.645, 76.858, 77.071, 77.283, 77.49600000000001, 77.709, 77.921, 78.134, 78.347, 78.559, 78.77199999999999, 78.985, 79.197, 79.41, 79.623, 79.835, 80.048, 80.26100000000001, 80.473, 80.686, 80.899, 81.111, 81.324, 81.53699999999999, 81.749, 81.962, 82.175, 82.387, 82.6, 82.81299999999999, 83.025, 83.238, 83.45100000000001, 83.663, 83.876, 84.089, 84.301, 84.514], \"y\": [0, 0, 0, 0, 0, 184, 165, 164, 98, 61, 34, 6, 7, 7, -1, 1, 1, 0, 2, 1, 3, -1, 1, -1, 8, 2, 1, 8, 7, 1, 7, 17, 14, 7, 11, 17, 21, 29, 30, 13, 18, 29, 33, 10, 38, 29, 20, 27, 25, 26, 20, 14, 12, 15, 16, 31, 23, 21, 39, 27, 23, 34, 39, 61, 45, 49, 46, 61, 96, 101, 87, 127, 85, 132, 113, 116, 88, 114, 83, 86, 98, 83, 63, 60, 80, 46, 71, 78, 70, 51, 65, 37, 48, 56, 32, 41, 48, 18, 24, 23, 26, 45, 28, 23, 30, 27, 18, 25, 35, 64, 55, 113, 158, 238, 406, 620, 918, 1115, 1413, 1556, 1624, 1567, 1450, 1151, 921, 642, 424, 299, 214, 145, 185, 241, 265, 344, 355, 434, 395, 369, 329, 285, 194, 162, 115, 67, 48, 25, 28, 16, 6, 0, 4, 11, 15, 3, 7, 6, 8, 18, 12, 7, -2, 4, 5, 7, 9, 5, 9, 10, 7, 4, 2, 6, 10, 17, 5, 13, 9, 9, 19, -2, -1, 13, 9, 7, 4, 16, 7, 38, 13, 10, 9, 24, 11, 33, 24, 18, 28, 40, 14, 31, 37, 37, 21, 36, 24, 23, 36, 44, 33, 27, 15, 40, 12, 55, 62, 70, 53, 75, 48, 20, 117, 56, 50, 88, 71, 68, 88, 131, 113, 148, 173, 124, 134, 201, 174, 210, 191, 192, 191, 181, 178, 263, 298, 222, 171, 274, 213, 177, 258, 301, 293, 276, 411, 349, 327, 320, 353, 366, 372, 540, 383, 440, 399, 446, 383, 469, 434, 336, 410, 350, 381, 303, 327, 324, 326, 333, 421, 501, 590, 572, 638, 629, 533, 449, 363, 306, 213, 138, 76, 58, 32, 34, 20, 12, 6, 19, 16, 30, 15, 31, 8, 17, 10, 4, 18, 21, 22, 24, 20, 23, 23, 22, 11, 11, 18, 25, 14, 30, 24, 20, 17, 26, 14, -1, 13, 21, 13, 19, 12, 5, 22, 22, 27, 36, 7, 15, 16, 26, 14, 15, 31, 26, 41, 15, 24, 17, 14, 24, 28, 22, 26, 26, 20, 26, 24, 16, 12, 45, 13, 13, 27, 13, 25, 27, 11, 16, 0, 9, 12, 21, 8, 10, 25, 17, 18, 25, 34, 12, 6, 7, 14, 18, 0, 8, 10, 20, 8, 17, 16, 18, 22, 23, 18, 18, 27, 16, 29, 32, 40, 23]}, {\"type\": \"scatter\", \"x\": [22.204, 22.416999999999998, 22.629, 22.842, 23.055, 23.267, 23.48, 23.693, 23.905, 24.118000000000002, 24.331, 24.543000000000003, 24.756, 24.969, 25.180999999999997, 25.394000000000002, 25.607, 25.819000000000003, 26.031999999999996, 26.245, 26.456999999999997, 26.67, 26.883000000000003, 27.095], \"y\": [25.594513090482533, 29.261705139948386, 34.761728758499004, 44.50853924170066, 62.969591290559215, 97.42939779058338, 158.9926457522464, 260.4870326594378, 412.55864780260845, 620.767862773993, 874.7775589873362, 1145.848390120959, 1394.0128489576207, 1570.1835784415957, 1636.3149414098016, 1578.3120140039769, 1409.5811918955199, 1168.933815968031, 901.683584803025, 651.8283618575034, 448.13162054495604, 298.8406005480582, 201.2007077244343, 144.01912060960922]}, {\"type\": \"scatter\", \"x\": [22.204, 22.416999999999998, 22.629, 22.842, 23.055, 23.267, 23.48, 23.693, 23.905, 24.118000000000002, 24.331, 24.543000000000003, 24.756, 24.969, 25.180999999999997, 25.394000000000002, 25.607, 25.819000000000003, 26.031999999999996, 26.245, 26.456999999999997, 26.67, 26.883000000000003, 27.095], \"y\": [25.01228260234589, 27.53104461388122, 30.037981451653508, 32.55674346318878, 35.07550547472411, 37.5824423124964, 40.10120432403173, 42.61996633556706, 45.12690317333929, 47.645665184874616, 50.164427196409946, 52.67136403418223, 55.190126045717506, 57.708888057252835, 60.215824895025065, 62.73458690656045, 65.25334891809572, 67.76028575586801, 70.27904776740328, 72.79780977893867, 75.30474661671084, 77.82350862824623, 80.34227063978156, 82.84920747755379]}, {\"type\": \"scatter\", \"x\": [22.204, 22.416999999999998, 22.629, 22.842, 23.055, 23.267, 23.48, 23.693, 23.905, 24.118000000000002, 24.331, 24.543000000000003, 24.756, 24.969, 25.180999999999997, 25.394000000000002, 25.607, 25.819000000000003, 26.031999999999996, 26.245, 26.456999999999997, 26.67, 26.883000000000003, 27.095, 27.308000000000003, 27.521, 27.733], \"y\": [20.103358013170908, 27.383422255574846, 35.94231538180823, 47.77190478447862, 66.74672705490994, 99.67113779304646, 157.62085267813978, 254.32358001017252, 402.37382006043737, 609.6794129341368, 867.4735389914886, 1146.2679973405343, 1402.8281221339917, 1583.4080394883902, 1646.766546645247, 1579.2743042431205, 1398.788294091257, 1150.37155503039, 884.0298353322013, 644.9535252643084, 459.30533878170434, 331.15551155766804, 253.61910724049503, 213.02046288384219, 195.45700456689002, 190.89150097029696, 192.77278352273075]}, {\"type\": \"scatter\", \"x\": [22.204, 22.416999999999998, 22.629, 22.842, 23.055, 23.267, 23.48, 23.693, 23.905, 24.118000000000002, 24.331, 24.543000000000003, 24.756, 24.969, 25.180999999999997, 25.394000000000002, 25.607, 25.819000000000003, 26.031999999999996, 26.245, 26.456999999999997, 26.67, 26.883000000000003, 27.095, 27.308000000000003, 27.521, 27.733], \"y\": [19.78167820532326, 26.342789744280253, 32.87309794267901, 39.434209481636, 45.99532102059311, 52.52562921899164, 59.086740757948746, 65.64785229690585, 72.1781604953045, 78.7392720342616, 85.3003835732186, 91.83069177161735, 98.39180331057435, 104.95291484953145, 111.48322304792987, 118.04433458688709, 124.60544612584408, 131.13575432424284, 137.69686586319972, 144.25797740215694, 150.78828560055535, 157.34939713951258, 163.91050867846968, 170.4408168768682, 177.00192841582543, 183.56303995478243, 190.09334815318107]}, {\"type\": \"scatter\", \"x\": [22.204, 22.416999999999998, 22.629, 22.842, 23.055, 23.267, 23.48, 23.693, 23.905, 24.118000000000002, 24.331, 24.543000000000003, 24.756, 24.969, 25.180999999999997, 25.394000000000002, 25.607, 25.819000000000003, 26.031999999999996, 26.245, 26.456999999999997, 26.67, 26.883000000000003, 27.095, 27.308000000000003, 27.521, 27.733], \"y\": [20.103358013170908, 27.383422255574846, 35.94231538180823, 47.77190478447862, 66.74672705490994, 99.67113779304646, 157.62085267813978, 254.32358001017252, 402.37382006043737, 609.6794129341368, 867.4735389914886, 1146.2679973405343, 1402.8281221339917, 1583.4080394883902, 1646.766546645247, 1579.2743042431205, 1398.788294091257, 1150.37155503039, 884.0298353322013, 644.9535252643084, 459.30533878170434, 331.15551155766804, 253.61910724049503, 213.02046288384219, 195.45700456689002, 190.89150097029696, 192.77278352273075]}, {\"type\": \"scatter\", \"x\": [22.204, 22.416999999999998, 22.629, 22.842, 23.055, 23.267, 23.48, 23.693, 23.905, 24.118000000000002, 24.331, 24.543000000000003, 24.756, 24.969, 25.180999999999997, 25.394000000000002, 25.607, 25.819000000000003, 26.031999999999996, 26.245, 26.456999999999997, 26.67, 26.883000000000003, 27.095, 27.308000000000003, 27.521, 27.733], \"y\": [19.78167820532326, 26.342789744280253, 32.87309794267901, 39.434209481636, 45.99532102059311, 52.52562921899164, 59.086740757948746, 65.64785229690585, 72.1781604953045, 78.7392720342616, 85.3003835732186, 91.83069177161735, 98.39180331057435, 104.95291484953145, 111.48322304792987, 118.04433458688709, 124.60544612584408, 131.13575432424284, 137.69686586319972, 144.25797740215694, 150.78828560055535, 157.34939713951258, 163.91050867846968, 170.4408168768682, 177.00192841582543, 183.56303995478243, 190.09334815318107]}, {\"type\": \"scatter\", \"x\": [22.204, 22.416999999999998, 22.629, 22.842, 23.055, 23.267, 23.48, 23.693, 23.905, 24.118000000000002, 24.331, 24.543000000000003, 24.756, 24.969, 25.180999999999997, 25.394000000000002, 25.607, 25.819000000000003, 26.031999999999996, 26.245, 26.456999999999997, 26.67, 26.883000000000003, 27.095, 27.308000000000003, 27.521, 27.733], \"y\": [20.103358013170908, 27.383422255574846, 35.94231538180823, 47.77190478447862, 66.74672705490994, 99.67113779304646, 157.62085267813978, 254.32358001017252, 402.37382006043737, 609.6794129341368, 867.4735389914886, 1146.2679973405343, 1402.8281221339917, 1583.4080394883902, 1646.766546645247, 1579.2743042431205, 1398.788294091257, 1150.37155503039, 884.0298353322013, 644.9535252643084, 459.30533878170434, 331.15551155766804, 253.61910724049503, 213.02046288384219, 195.45700456689002, 190.89150097029696, 192.77278352273075]}, {\"type\": \"scatter\", \"x\": [22.204, 22.416999999999998, 22.629, 22.842, 23.055, 23.267, 23.48, 23.693, 23.905, 24.118000000000002, 24.331, 24.543000000000003, 24.756, 24.969, 25.180999999999997, 25.394000000000002, 25.607, 25.819000000000003, 26.031999999999996, 26.245, 26.456999999999997, 26.67, 26.883000000000003, 27.095, 27.308000000000003, 27.521, 27.733], \"y\": [19.78167820532326, 26.342789744280253, 32.87309794267901, 39.434209481636, 45.99532102059311, 52.52562921899164, 59.086740757948746, 65.64785229690585, 72.1781604953045, 78.7392720342616, 85.3003835732186, 91.83069177161735, 98.39180331057435, 104.95291484953145, 111.48322304792987, 118.04433458688709, 124.60544612584408, 131.13575432424284, 137.69686586319972, 144.25797740215694, 150.78828560055535, 157.34939713951258, 163.91050867846968, 170.4408168768682, 177.00192841582543, 183.56303995478243, 190.09334815318107]}, {\"type\": \"scatter\", \"x\": [22.204, 22.416999999999998, 22.629, 22.842, 23.055, 23.267, 23.48, 23.693, 23.905, 24.118000000000002, 24.331, 24.543000000000003, 24.756, 24.969, 25.180999999999997, 25.394000000000002, 25.607, 25.819000000000003, 26.031999999999996, 26.245, 26.456999999999997, 26.67, 26.883000000000003, 27.095, 27.308000000000003, 27.521, 27.733], \"y\": [20.103358013170908, 27.383422255574846, 35.94231538180823, 47.77190478447862, 66.74672705490994, 99.67113779304646, 157.62085267813978, 254.32358001017252, 402.37382006043737, 609.6794129341368, 867.4735389914886, 1146.2679973405343, 1402.8281221339917, 1583.4080394883902, 1646.766546645247, 1579.2743042431205, 1398.788294091257, 1150.37155503039, 884.0298353322013, 644.9535252643084, 459.30533878170434, 331.15551155766804, 253.61910724049503, 213.02046288384219, 195.45700456689002, 190.89150097029696, 192.77278352273075]}, {\"type\": \"scatter\", \"x\": [22.204, 22.416999999999998, 22.629, 22.842, 23.055, 23.267, 23.48, 23.693, 23.905, 24.118000000000002, 24.331, 24.543000000000003, 24.756, 24.969, 25.180999999999997, 25.394000000000002, 25.607, 25.819000000000003, 26.031999999999996, 26.245, 26.456999999999997, 26.67, 26.883000000000003, 27.095, 27.308000000000003, 27.521, 27.733], \"y\": [19.78167820532326, 26.342789744280253, 32.87309794267901, 39.434209481636, 45.99532102059311, 52.52562921899164, 59.086740757948746, 65.64785229690585, 72.1781604953045, 78.7392720342616, 85.3003835732186, 91.83069177161735, 98.39180331057435, 104.95291484953145, 111.48322304792987, 118.04433458688709, 124.60544612584408, 131.13575432424284, 137.69686586319972, 144.25797740215694, 150.78828560055535, 157.34939713951258, 163.91050867846968, 170.4408168768682, 177.00192841582543, 183.56303995478243, 190.09334815318107]}, {\"type\": \"scatter\", \"x\": [22.204, 22.416999999999998, 22.629, 22.842, 23.055, 23.267, 23.48, 23.693, 23.905, 24.118000000000002, 24.331, 24.543000000000003, 24.756, 24.969, 25.180999999999997, 25.394000000000002, 25.607, 25.819000000000003, 26.031999999999996, 26.245, 26.456999999999997, 26.67, 26.883000000000003, 27.095, 27.308000000000003, 27.521, 27.733], \"y\": [20.103358013170908, 27.383422255574846, 35.94231538180823, 47.77190478447862, 66.74672705490994, 99.67113779304646, 157.62085267813978, 254.32358001017252, 402.37382006043737, 609.6794129341368, 867.4735389914886, 1146.2679973405343, 1402.8281221339917, 1583.4080394883902, 1646.766546645247, 1579.2743042431205, 1398.788294091257, 1150.37155503039, 884.0298353322013, 644.9535252643084, 459.30533878170434, 331.15551155766804, 253.61910724049503, 213.02046288384219, 195.45700456689002, 190.89150097029696, 192.77278352273075]}, {\"type\": \"scatter\", \"x\": [22.204, 22.416999999999998, 22.629, 22.842, 23.055, 23.267, 23.48, 23.693, 23.905, 24.118000000000002, 24.331, 24.543000000000003, 24.756, 24.969, 25.180999999999997, 25.394000000000002, 25.607, 25.819000000000003, 26.031999999999996, 26.245, 26.456999999999997, 26.67, 26.883000000000003, 27.095, 27.308000000000003, 27.521, 27.733], \"y\": [19.78167820532326, 26.342789744280253, 32.87309794267901, 39.434209481636, 45.99532102059311, 52.52562921899164, 59.086740757948746, 65.64785229690585, 72.1781604953045, 78.7392720342616, 85.3003835732186, 91.83069177161735, 98.39180331057435, 104.95291484953145, 111.48322304792987, 118.04433458688709, 124.60544612584408, 131.13575432424284, 137.69686586319972, 144.25797740215694, 150.78828560055535, 157.34939713951258, 163.91050867846968, 170.4408168768682, 177.00192841582543, 183.56303995478243, 190.09334815318107]}],\n",
              "                        {\"shapes\": [{\"fillcolor\": \"#d3d3d3\", \"opacity\": 0.2, \"type\": \"rect\", \"x0\": 22.162, \"x1\": 27.762, \"xref\": \"x\", \"y0\": 0, \"y1\": 1, \"yref\": \"paper\"}], \"template\": {\"data\": {\"bar\": [{\"error_x\": {\"color\": \"#2a3f5f\"}, \"error_y\": {\"color\": \"#2a3f5f\"}, \"marker\": {\"line\": {\"color\": \"#E5ECF6\", \"width\": 0.5}}, \"type\": \"bar\"}], \"barpolar\": [{\"marker\": {\"line\": {\"color\": \"#E5ECF6\", \"width\": 0.5}}, \"type\": \"barpolar\"}], \"carpet\": [{\"aaxis\": {\"endlinecolor\": \"#2a3f5f\", \"gridcolor\": \"white\", \"linecolor\": \"white\", \"minorgridcolor\": \"white\", \"startlinecolor\": \"#2a3f5f\"}, \"baxis\": {\"endlinecolor\": \"#2a3f5f\", \"gridcolor\": \"white\", \"linecolor\": \"white\", \"minorgridcolor\": \"white\", \"startlinecolor\": \"#2a3f5f\"}, \"type\": \"carpet\"}], \"choropleth\": [{\"colorbar\": {\"outlinewidth\": 0, \"ticks\": \"\"}, \"type\": \"choropleth\"}], \"contour\": [{\"colorbar\": {\"outlinewidth\": 0, \"ticks\": \"\"}, \"colorscale\": [[0.0, \"#0d0887\"], [0.1111111111111111, \"#46039f\"], [0.2222222222222222, \"#7201a8\"], [0.3333333333333333, \"#9c179e\"], [0.4444444444444444, \"#bd3786\"], [0.5555555555555556, \"#d8576b\"], [0.6666666666666666, \"#ed7953\"], [0.7777777777777778, \"#fb9f3a\"], [0.8888888888888888, \"#fdca26\"], [1.0, \"#f0f921\"]], \"type\": \"contour\"}], \"contourcarpet\": [{\"colorbar\": {\"outlinewidth\": 0, \"ticks\": \"\"}, \"type\": \"contourcarpet\"}], \"heatmap\": [{\"colorbar\": {\"outlinewidth\": 0, \"ticks\": \"\"}, \"colorscale\": [[0.0, \"#0d0887\"], [0.1111111111111111, \"#46039f\"], [0.2222222222222222, \"#7201a8\"], [0.3333333333333333, \"#9c179e\"], [0.4444444444444444, \"#bd3786\"], [0.5555555555555556, \"#d8576b\"], [0.6666666666666666, \"#ed7953\"], [0.7777777777777778, \"#fb9f3a\"], [0.8888888888888888, \"#fdca26\"], [1.0, \"#f0f921\"]], \"type\": \"heatmap\"}], \"heatmapgl\": [{\"colorbar\": {\"outlinewidth\": 0, \"ticks\": \"\"}, \"colorscale\": [[0.0, \"#0d0887\"], [0.1111111111111111, \"#46039f\"], [0.2222222222222222, \"#7201a8\"], [0.3333333333333333, \"#9c179e\"], [0.4444444444444444, \"#bd3786\"], [0.5555555555555556, \"#d8576b\"], [0.6666666666666666, \"#ed7953\"], [0.7777777777777778, \"#fb9f3a\"], [0.8888888888888888, \"#fdca26\"], [1.0, \"#f0f921\"]], \"type\": \"heatmapgl\"}], \"histogram\": [{\"marker\": {\"colorbar\": {\"outlinewidth\": 0, \"ticks\": \"\"}}, \"type\": \"histogram\"}], \"histogram2d\": [{\"colorbar\": {\"outlinewidth\": 0, \"ticks\": \"\"}, \"colorscale\": [[0.0, \"#0d0887\"], [0.1111111111111111, \"#46039f\"], [0.2222222222222222, \"#7201a8\"], [0.3333333333333333, \"#9c179e\"], [0.4444444444444444, \"#bd3786\"], [0.5555555555555556, \"#d8576b\"], [0.6666666666666666, \"#ed7953\"], [0.7777777777777778, \"#fb9f3a\"], [0.8888888888888888, \"#fdca26\"], [1.0, \"#f0f921\"]], \"type\": \"histogram2d\"}], \"histogram2dcontour\": [{\"colorbar\": {\"outlinewidth\": 0, \"ticks\": \"\"}, \"colorscale\": [[0.0, \"#0d0887\"], [0.1111111111111111, \"#46039f\"], [0.2222222222222222, \"#7201a8\"], [0.3333333333333333, \"#9c179e\"], [0.4444444444444444, \"#bd3786\"], [0.5555555555555556, \"#d8576b\"], [0.6666666666666666, \"#ed7953\"], [0.7777777777777778, \"#fb9f3a\"], [0.8888888888888888, \"#fdca26\"], [1.0, \"#f0f921\"]], \"type\": \"histogram2dcontour\"}], \"mesh3d\": [{\"colorbar\": {\"outlinewidth\": 0, \"ticks\": \"\"}, \"type\": \"mesh3d\"}], \"parcoords\": [{\"line\": {\"colorbar\": {\"outlinewidth\": 0, \"ticks\": \"\"}}, \"type\": \"parcoords\"}], \"pie\": [{\"automargin\": true, \"type\": \"pie\"}], \"scatter\": [{\"marker\": {\"colorbar\": {\"outlinewidth\": 0, \"ticks\": \"\"}}, \"type\": \"scatter\"}], \"scatter3d\": [{\"line\": {\"colorbar\": {\"outlinewidth\": 0, \"ticks\": \"\"}}, \"marker\": {\"colorbar\": {\"outlinewidth\": 0, \"ticks\": \"\"}}, \"type\": \"scatter3d\"}], \"scattercarpet\": [{\"marker\": {\"colorbar\": {\"outlinewidth\": 0, \"ticks\": \"\"}}, \"type\": \"scattercarpet\"}], \"scattergeo\": [{\"marker\": {\"colorbar\": {\"outlinewidth\": 0, \"ticks\": \"\"}}, \"type\": \"scattergeo\"}], \"scattergl\": [{\"marker\": {\"colorbar\": {\"outlinewidth\": 0, \"ticks\": \"\"}}, \"type\": \"scattergl\"}], \"scattermapbox\": [{\"marker\": {\"colorbar\": {\"outlinewidth\": 0, \"ticks\": \"\"}}, \"type\": \"scattermapbox\"}], \"scatterpolar\": [{\"marker\": {\"colorbar\": {\"outlinewidth\": 0, \"ticks\": \"\"}}, \"type\": \"scatterpolar\"}], \"scatterpolargl\": [{\"marker\": {\"colorbar\": {\"outlinewidth\": 0, \"ticks\": \"\"}}, \"type\": \"scatterpolargl\"}], \"scatterternary\": [{\"marker\": {\"colorbar\": {\"outlinewidth\": 0, \"ticks\": \"\"}}, \"type\": \"scatterternary\"}], \"surface\": [{\"colorbar\": {\"outlinewidth\": 0, \"ticks\": \"\"}, \"colorscale\": [[0.0, \"#0d0887\"], [0.1111111111111111, \"#46039f\"], [0.2222222222222222, \"#7201a8\"], [0.3333333333333333, \"#9c179e\"], [0.4444444444444444, \"#bd3786\"], [0.5555555555555556, \"#d8576b\"], [0.6666666666666666, \"#ed7953\"], [0.7777777777777778, \"#fb9f3a\"], [0.8888888888888888, \"#fdca26\"], [1.0, \"#f0f921\"]], \"type\": \"surface\"}], \"table\": [{\"cells\": {\"fill\": {\"color\": \"#EBF0F8\"}, \"line\": {\"color\": \"white\"}}, \"header\": {\"fill\": {\"color\": \"#C8D4E3\"}, \"line\": {\"color\": \"white\"}}, \"type\": \"table\"}]}, \"layout\": {\"annotationdefaults\": {\"arrowcolor\": \"#2a3f5f\", \"arrowhead\": 0, \"arrowwidth\": 1}, \"coloraxis\": {\"colorbar\": {\"outlinewidth\": 0, \"ticks\": \"\"}}, \"colorscale\": {\"diverging\": [[0, \"#8e0152\"], [0.1, \"#c51b7d\"], [0.2, \"#de77ae\"], [0.3, \"#f1b6da\"], [0.4, \"#fde0ef\"], [0.5, \"#f7f7f7\"], [0.6, \"#e6f5d0\"], [0.7, \"#b8e186\"], [0.8, \"#7fbc41\"], [0.9, \"#4d9221\"], [1, \"#276419\"]], \"sequential\": [[0.0, \"#0d0887\"], [0.1111111111111111, \"#46039f\"], [0.2222222222222222, \"#7201a8\"], [0.3333333333333333, \"#9c179e\"], [0.4444444444444444, \"#bd3786\"], [0.5555555555555556, \"#d8576b\"], [0.6666666666666666, \"#ed7953\"], [0.7777777777777778, \"#fb9f3a\"], [0.8888888888888888, \"#fdca26\"], [1.0, \"#f0f921\"]], \"sequentialminus\": [[0.0, \"#0d0887\"], [0.1111111111111111, \"#46039f\"], [0.2222222222222222, \"#7201a8\"], [0.3333333333333333, \"#9c179e\"], [0.4444444444444444, \"#bd3786\"], [0.5555555555555556, \"#d8576b\"], [0.6666666666666666, \"#ed7953\"], [0.7777777777777778, \"#fb9f3a\"], [0.8888888888888888, \"#fdca26\"], [1.0, \"#f0f921\"]]}, \"colorway\": [\"#636efa\", \"#EF553B\", \"#00cc96\", \"#ab63fa\", \"#FFA15A\", \"#19d3f3\", \"#FF6692\", \"#B6E880\", \"#FF97FF\", \"#FECB52\"], \"font\": {\"color\": \"#2a3f5f\"}, \"geo\": {\"bgcolor\": \"white\", \"lakecolor\": \"white\", \"landcolor\": \"#E5ECF6\", \"showlakes\": true, \"showland\": true, \"subunitcolor\": \"white\"}, \"hoverlabel\": {\"align\": \"left\"}, \"hovermode\": \"closest\", \"mapbox\": {\"style\": \"light\"}, \"paper_bgcolor\": \"white\", \"plot_bgcolor\": \"#E5ECF6\", \"polar\": {\"angularaxis\": {\"gridcolor\": \"white\", \"linecolor\": \"white\", \"ticks\": \"\"}, \"bgcolor\": \"#E5ECF6\", \"radialaxis\": {\"gridcolor\": \"white\", \"linecolor\": \"white\", \"ticks\": \"\"}}, \"scene\": {\"xaxis\": {\"backgroundcolor\": \"#E5ECF6\", \"gridcolor\": \"white\", \"gridwidth\": 2, \"linecolor\": \"white\", \"showbackground\": true, \"ticks\": \"\", \"zerolinecolor\": \"white\"}, \"yaxis\": {\"backgroundcolor\": \"#E5ECF6\", \"gridcolor\": \"white\", \"gridwidth\": 2, \"linecolor\": \"white\", \"showbackground\": true, \"ticks\": \"\", \"zerolinecolor\": \"white\"}, \"zaxis\": {\"backgroundcolor\": \"#E5ECF6\", \"gridcolor\": \"white\", \"gridwidth\": 2, \"linecolor\": \"white\", \"showbackground\": true, \"ticks\": \"\", \"zerolinecolor\": \"white\"}}, \"shapedefaults\": {\"line\": {\"color\": \"#2a3f5f\"}}, \"ternary\": {\"aaxis\": {\"gridcolor\": \"white\", \"linecolor\": \"white\", \"ticks\": \"\"}, \"baxis\": {\"gridcolor\": \"white\", \"linecolor\": \"white\", \"ticks\": \"\"}, \"bgcolor\": \"#E5ECF6\", \"caxis\": {\"gridcolor\": \"white\", \"linecolor\": \"white\", \"ticks\": \"\"}}, \"title\": {\"x\": 0.05}, \"xaxis\": {\"automargin\": true, \"gridcolor\": \"white\", \"linecolor\": \"white\", \"ticks\": \"\", \"title\": {\"standoff\": 15}, \"zerolinecolor\": \"white\", \"zerolinewidth\": 2}, \"yaxis\": {\"automargin\": true, \"gridcolor\": \"white\", \"linecolor\": \"white\", \"ticks\": \"\", \"title\": {\"standoff\": 15}, \"zerolinecolor\": \"white\", \"zerolinewidth\": 2}}}, \"title\": {\"text\": \"Spektrum a pozad\\u00ed\"}},\n",
              "                        {\"responsive\": true}\n",
              "                    ).then(function(){\n",
              "                            \n",
              "var gd = document.getElementById('a2319250-2d8f-4738-ac02-fc076854d3ad');\n",
              "var x = new MutationObserver(function (mutations, observer) {{\n",
              "        var display = window.getComputedStyle(gd).display;\n",
              "        if (!display || display === 'none') {{\n",
              "            console.log([gd, 'removed!']);\n",
              "            Plotly.purge(gd);\n",
              "            observer.disconnect();\n",
              "        }}\n",
              "}});\n",
              "\n",
              "// Listen for the removal of the full notebook cells\n",
              "var notebookContainer = gd.closest('#notebook-container');\n",
              "if (notebookContainer) {{\n",
              "    x.observe(notebookContainer, {childList: true});\n",
              "}}\n",
              "\n",
              "// Listen for the clearing of the current output cell\n",
              "var outputEl = gd.closest('.output');\n",
              "if (outputEl) {{\n",
              "    x.observe(outputEl, {childList: true});\n",
              "}}\n",
              "\n",
              "                        })\n",
              "                };\n",
              "                \n",
              "            </script>\n",
              "        </div>\n",
              "</body>\n",
              "</html>"
            ]
          },
          "metadata": {
            "tags": []
          }
        },
        {
          "output_type": "stream",
          "text": [
            "PEAK FIT SUMMARY:\n"
          ],
          "name": "stdout"
        },
        {
          "output_type": "execute_result",
          "data": {
            "text/html": [
              "<div>\n",
              "<style scoped>\n",
              "    .dataframe tbody tr th:only-of-type {\n",
              "        vertical-align: middle;\n",
              "    }\n",
              "\n",
              "    .dataframe tbody tr th {\n",
              "        vertical-align: top;\n",
              "    }\n",
              "\n",
              "    .dataframe thead th {\n",
              "        text-align: right;\n",
              "    }\n",
              "</style>\n",
              "<table border=\"1\" class=\"dataframe\">\n",
              "  <thead>\n",
              "    <tr style=\"text-align: right;\">\n",
              "      <th></th>\n",
              "      <th>Parameter</th>\n",
              "      <th>Unit</th>\n",
              "      <th>Value</th>\n",
              "      <th>Error</th>\n",
              "    </tr>\n",
              "  </thead>\n",
              "  <tbody>\n",
              "    <tr>\n",
              "      <th>0</th>\n",
              "      <td>left_edge</td>\n",
              "      <td>keV</td>\n",
              "      <td>22.16</td>\n",
              "      <td>nan</td>\n",
              "    </tr>\n",
              "    <tr>\n",
              "      <th>1</th>\n",
              "      <td>right_edge</td>\n",
              "      <td>keV</td>\n",
              "      <td>27.76</td>\n",
              "      <td>nan</td>\n",
              "    </tr>\n",
              "    <tr>\n",
              "      <th>2</th>\n",
              "      <td>centroid</td>\n",
              "      <td>keV</td>\n",
              "      <td>25.17</td>\n",
              "      <td>0.01</td>\n",
              "    </tr>\n",
              "    <tr>\n",
              "      <th>3</th>\n",
              "      <td>FWHM</td>\n",
              "      <td>keV</td>\n",
              "      <td>1.70</td>\n",
              "      <td>0.03</td>\n",
              "    </tr>\n",
              "    <tr>\n",
              "      <th>4</th>\n",
              "      <td>N_total</td>\n",
              "      <td></td>\n",
              "      <td>15862.00</td>\n",
              "      <td>nan</td>\n",
              "    </tr>\n",
              "    <tr>\n",
              "      <th>5</th>\n",
              "      <td>N_peak</td>\n",
              "      <td></td>\n",
              "      <td>13030.25</td>\n",
              "      <td>258.02</td>\n",
              "    </tr>\n",
              "    <tr>\n",
              "      <th>6</th>\n",
              "      <td>N_bg</td>\n",
              "      <td></td>\n",
              "      <td>2831.75</td>\n",
              "      <td>258.02</td>\n",
              "    </tr>\n",
              "    <tr>\n",
              "      <th>7</th>\n",
              "      <td>Acc. time</td>\n",
              "      <td>s</td>\n",
              "      <td>134.00</td>\n",
              "      <td>0.00</td>\n",
              "    </tr>\n",
              "    <tr>\n",
              "      <th>8</th>\n",
              "      <td>Rate</td>\n",
              "      <td>Hz</td>\n",
              "      <td>97.24</td>\n",
              "      <td>1.93</td>\n",
              "    </tr>\n",
              "  </tbody>\n",
              "</table>\n",
              "</div>"
            ],
            "text/plain": [
              "    Parameter Unit    Value  Error\n",
              "0   left_edge  keV    22.16    nan\n",
              "1  right_edge  keV    27.76    nan\n",
              "2    centroid  keV    25.17   0.01\n",
              "3        FWHM  keV     1.70   0.03\n",
              "4     N_total      15862.00    nan\n",
              "5      N_peak      13030.25 258.02\n",
              "6        N_bg       2831.75 258.02\n",
              "7   Acc. time    s   134.00   0.00\n",
              "8        Rate   Hz    97.24   1.93"
            ]
          },
          "metadata": {
            "tags": []
          },
          "execution_count": 28
        }
      ]
    },
    {
      "cell_type": "markdown",
      "metadata": {
        "id": "-6fOyEH6IX9V"
      },
      "source": [
        "Může se stát, že fit neskonverguje nebo bude špatný. V takovém případě \n",
        "* zkuste mírně změnit výběr oblasti fitování ve 3. kroku\n",
        "* zkuste jiný tvar pozadí\n",
        "\n",
        "Postup můžete opakovat pro další píky i bez resetování notebooku, od 3. kroku. Pokud se chcete zbavit předchozích fitů, vymažte výstup ve 3. kroku kliknutím na symbol pod spouštěcí šipkou.\n",
        "\n",
        "**Důležité** Tabulka parametrů píku se dalším fitem přepíše, takže si ji zkopírujte, než přejdete k novému spektru."
      ]
    }
  ]
}