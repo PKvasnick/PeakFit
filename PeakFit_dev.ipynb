{
  "nbformat": 4,
  "nbformat_minor": 0,
  "metadata": {
    "colab": {
      "name": "PeakFit_dev.ipynb",
      "provenance": [],
      "collapsed_sections": [],
      "include_colab_link": true
    },
    "kernelspec": {
      "name": "python3",
      "display_name": "Python 3"
    },
    "widgets": {
      "application/vnd.jupyter.widget-state+json": {
        "23b3f144d6d24e14a6d5f5c04f282f66": {
          "model_module": "@jupyter-widgets/controls",
          "model_name": "FloatRangeSliderModel",
          "state": {
            "_view_name": "FloatRangeSliderView",
            "style": "IPY_MODEL_0054a53bc2734b35b710ede164dfba57",
            "_dom_classes": [],
            "description": "ROI",
            "step": 0.05,
            "_model_name": "FloatRangeSliderModel",
            "orientation": "horizontal",
            "max": 84.514,
            "_view_module": "@jupyter-widgets/controls",
            "_model_module_version": "1.5.0",
            "value": [
              17.462,
              22.662
            ],
            "_view_count": null,
            "disabled": false,
            "_view_module_version": "1.5.0",
            "min": -0.33799999999999997,
            "continuous_update": false,
            "readout_format": ".1f",
            "description_tooltip": null,
            "readout": true,
            "_model_module": "@jupyter-widgets/controls",
            "layout": "IPY_MODEL_56058bfc3c834bc9928a89397a8000a5"
          }
        },
        "0054a53bc2734b35b710ede164dfba57": {
          "model_module": "@jupyter-widgets/controls",
          "model_name": "SliderStyleModel",
          "state": {
            "_view_name": "StyleView",
            "handle_color": null,
            "_model_name": "SliderStyleModel",
            "description_width": "",
            "_view_module": "@jupyter-widgets/base",
            "_model_module_version": "1.5.0",
            "_view_count": null,
            "_view_module_version": "1.2.0",
            "_model_module": "@jupyter-widgets/controls"
          }
        },
        "56058bfc3c834bc9928a89397a8000a5": {
          "model_module": "@jupyter-widgets/base",
          "model_name": "LayoutModel",
          "state": {
            "_view_name": "LayoutView",
            "grid_template_rows": null,
            "right": null,
            "justify_content": null,
            "_view_module": "@jupyter-widgets/base",
            "overflow": null,
            "_model_module_version": "1.2.0",
            "_view_count": null,
            "flex_flow": null,
            "width": "94%",
            "min_width": null,
            "border": null,
            "align_items": null,
            "bottom": null,
            "_model_module": "@jupyter-widgets/base",
            "top": null,
            "grid_column": null,
            "overflow_y": null,
            "overflow_x": null,
            "grid_auto_flow": null,
            "grid_area": null,
            "grid_template_columns": null,
            "flex": null,
            "_model_name": "LayoutModel",
            "justify_items": null,
            "grid_row": null,
            "max_height": null,
            "align_content": null,
            "visibility": null,
            "align_self": null,
            "height": null,
            "min_height": null,
            "padding": null,
            "grid_auto_rows": null,
            "grid_gap": null,
            "max_width": null,
            "order": null,
            "_view_module_version": "1.2.0",
            "grid_template_areas": null,
            "object_position": null,
            "object_fit": null,
            "grid_auto_columns": null,
            "margin": null,
            "display": null,
            "left": null
          }
        },
        "4cc39d699de841b5a31f456aa221d0d0": {
          "model_module": "@jupyter-widgets/controls",
          "model_name": "RadioButtonsModel",
          "state": {
            "_options_labels": [
              "Konstantní pozadí",
              "Lineární pozadí",
              "Kvadratické pozadí"
            ],
            "_view_name": "RadioButtonsView",
            "style": "IPY_MODEL_22e15dc281604ae3a6d97218504d0c8c",
            "_dom_classes": [],
            "description": "Typ pozadí:",
            "_model_name": "RadioButtonsModel",
            "index": 1,
            "_view_module": "@jupyter-widgets/controls",
            "_model_module_version": "1.5.0",
            "_view_count": null,
            "disabled": false,
            "_view_module_version": "1.5.0",
            "description_tooltip": null,
            "_model_module": "@jupyter-widgets/controls",
            "layout": "IPY_MODEL_f010a1b116e347e7b82e90af6945571c"
          }
        },
        "22e15dc281604ae3a6d97218504d0c8c": {
          "model_module": "@jupyter-widgets/controls",
          "model_name": "DescriptionStyleModel",
          "state": {
            "_view_name": "StyleView",
            "_model_name": "DescriptionStyleModel",
            "description_width": "",
            "_view_module": "@jupyter-widgets/base",
            "_model_module_version": "1.5.0",
            "_view_count": null,
            "_view_module_version": "1.2.0",
            "_model_module": "@jupyter-widgets/controls"
          }
        },
        "f010a1b116e347e7b82e90af6945571c": {
          "model_module": "@jupyter-widgets/base",
          "model_name": "LayoutModel",
          "state": {
            "_view_name": "LayoutView",
            "grid_template_rows": null,
            "right": null,
            "justify_content": null,
            "_view_module": "@jupyter-widgets/base",
            "overflow": null,
            "_model_module_version": "1.2.0",
            "_view_count": null,
            "flex_flow": null,
            "width": "max-content",
            "min_width": null,
            "border": null,
            "align_items": null,
            "bottom": null,
            "_model_module": "@jupyter-widgets/base",
            "top": null,
            "grid_column": null,
            "overflow_y": null,
            "overflow_x": null,
            "grid_auto_flow": null,
            "grid_area": null,
            "grid_template_columns": null,
            "flex": null,
            "_model_name": "LayoutModel",
            "justify_items": null,
            "grid_row": null,
            "max_height": null,
            "align_content": null,
            "visibility": null,
            "align_self": null,
            "height": null,
            "min_height": null,
            "padding": null,
            "grid_auto_rows": null,
            "grid_gap": null,
            "max_width": null,
            "order": null,
            "_view_module_version": "1.2.0",
            "grid_template_areas": null,
            "object_position": null,
            "object_fit": null,
            "grid_auto_columns": null,
            "margin": null,
            "display": null,
            "left": null
          }
        }
      }
    }
  },
  "cells": [
    {
      "cell_type": "markdown",
      "metadata": {
        "id": "view-in-github",
        "colab_type": "text"
      },
      "source": [
        "<a href=\"https://colab.research.google.com/github/PKvasnick/PeakFit/blob/master/PeakFit_dev.ipynb\" target=\"_parent\"><img src=\"https://colab.research.google.com/assets/colab-badge.svg\" alt=\"Open In Colab\"/></a>"
      ]
    },
    {
      "cell_type": "markdown",
      "metadata": {
        "id": "nfTpf0BLJhoj"
      },
      "source": [
        "# Fitování píků\n",
        "\n",
        "Nacházíte se v Google Colab notebooku, který vám pomůže vybrat a nafitovat píky v spektru. \n",
        "\n",
        "**Důležité**  Než začnete s notebookem cokoli dělat, vytvořte si vlastní kopii - z menu `File` vyberte jednu z možností `Save a Copy to...`. Tím nejen získáte lookálni kopii notebooku, kterou si případně můžete modifikovat dle libosti, ale také vytvoříte nové cloudové Pythonovské prostředí pro spouštění notebooku - tedy odlišné od těch, v nichž se práve pokouší spustit notebook vaši spolužáci. \n",
        "\n",
        "Jednotlivými kroky procházíte klikaním na trojúhelníčky na levém okraji příslušných buněk. Pokud se spletete, \n",
        "\n",
        "* jestli chcete zopakovat poslední krok, klikněte na symbol pro odchod pod šipkou (změní se na x, když na něj najedete myší). Tím se vymaže předchozí výstup buňky. Pak znova klikněte na šipku pro opakované spuštění kódu tohoto kroku.\n",
        "* prostě celý notebook znova načtěte, nebo zvolte z menu `Runtime -> Restart Runtime` a začněte znovu. \n",
        "\n",
        "Pokud vás zajímá kód, kterým se realizují jednotlivé kroky, klikněte pravým tlačítkem do šedého obdélníčku kolem šipečky, a zvolte `Form -> Show code`.\n",
        "\n",
        "Jakékoli stížnosti a připomínky prosím na `peter.kvasnicka@mff.cuni.cz`\n",
        "\n"
      ]
    },
    {
      "cell_type": "markdown",
      "metadata": {
        "id": "3Kz-GAIyeOxE"
      },
      "source": [
        "## 1. Načtení spektra vybraného vzorku a spektra pozadí\n",
        "V tomto kroku načtete ze soubovorého systému vašeho počítače datové soubory pro požadovaný vzorek a pro pozadí,`Vzorek-X_YYYs.dat` a `Vzorek-Ref_YYYs.dat`.\n",
        "\n",
        "Klikněte na šípku v levém horném rohu u následujících dvou buněk, a když ikonka ožije, klikněte na `Prohledávat` a vyberte požadovaný soubor. "
      ]
    },
    {
      "cell_type": "code",
      "metadata": {
        "id": "8ldJhMfXkkVA",
        "cellView": "form",
        "outputId": "d9e32025-d332-4a5f-8f2f-a3b84b80ab0b",
        "colab": {
          "resources": {
            "http://localhost:8080/nbextensions/google.colab/files.js": {
              "data": "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",
              "ok": true,
              "headers": [
                [
                  "content-type",
                  "application/javascript"
                ]
              ],
              "status": 200,
              "status_text": "OK"
            }
          },
          "base_uri": "https://localhost:8080/",
          "height": 148
        }
      },
      "source": [
        "#@title <-- Načtěte z počítače soubor pro požadovaný vzorek\n",
        "\n",
        "import sys\n",
        "from io import StringIO\n",
        "from google.colab import files\n",
        "import numpy as np\n",
        "import pandas as pd\n",
        "\n",
        "def read_spectrum():\n",
        "  '''\n",
        "  Načte datový soubor ze souborového systému do Pandas\n",
        "  dataframu a z názvu dekóduje označení dat a čas měření.\n",
        "  Název souboru se očekává ve tvaru Vzorek-XXX_YYYs.txt.\n",
        "  '''\n",
        "  uploaded = files.upload() # Widget, vrací dict (název, obsah)\n",
        "  filename = list(uploaded.keys())[0]\n",
        "\n",
        "  # Parse filename\n",
        "  print('Reading data from: {}'.format(filename))\n",
        "  sample_id = filename[(filename.find('-')+1):filename.find('_')]\n",
        "  print('Sample id        : {}'.format(sample_id))\n",
        "  acc_time_str = filename[(filename.find('_')+1):filename.find('s.txt')]\n",
        "  acc_time = int(acc_time_str)\n",
        "  print('Acc. time        : {} sec'.format(acc_time))\n",
        "  df = pd.read_table(filename, sep = \" \")\n",
        "  print('Read {} rows.'.format(len(df)))\n",
        "  return sample_id, acc_time, df\n",
        "\n",
        "sample_id, sample_time, df = read_spectrum()"
      ],
      "execution_count": null,
      "outputs": [
        {
          "output_type": "display_data",
          "data": {
            "text/html": [
              "\n",
              "     <input type=\"file\" id=\"files-d2ef9d07-f136-4f0d-8e0f-79cb31882e5c\" name=\"files[]\" multiple disabled\n",
              "        style=\"border:none\" />\n",
              "     <output id=\"result-d2ef9d07-f136-4f0d-8e0f-79cb31882e5c\">\n",
              "      Upload widget is only available when the cell has been executed in the\n",
              "      current browser session. Please rerun this cell to enable.\n",
              "      </output>\n",
              "      <script src=\"/nbextensions/google.colab/files.js\"></script> "
            ],
            "text/plain": [
              "<IPython.core.display.HTML object>"
            ]
          },
          "metadata": {
            "tags": []
          }
        },
        {
          "output_type": "stream",
          "text": [
            "Saving Vzorek-3_101s.txt to Vzorek-3_101s.txt\n",
            "Reading data from: Vzorek-3_101s.txt\n",
            "Sample id        : 3\n",
            "Acc. time        : 101 sec\n",
            "Read 400 rows.\n"
          ],
          "name": "stdout"
        }
      ]
    },
    {
      "cell_type": "code",
      "metadata": {
        "id": "FEqirY2Tilk1",
        "cellView": "form",
        "outputId": "6818d439-03e9-4334-e7d6-5d2d76b76c17",
        "colab": {
          "resources": {
            "http://localhost:8080/nbextensions/google.colab/files.js": {
              "data": "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",
              "ok": true,
              "headers": [
                [
                  "content-type",
                  "application/javascript"
                ]
              ],
              "status": 200,
              "status_text": "OK"
            }
          },
          "base_uri": "https://localhost:8080/",
          "height": 148
        }
      },
      "source": [
        "#@title <-- Načtěte z počítače soubor pro pozadí\n",
        "\n",
        "bg_id, bg_time, bg_df = read_spectrum()\n",
        "\n",
        "# Kontrola\n",
        "if bg_id != 'Ref':\n",
        "  print('VAROVÁNÍ: Načtené spektrum není spektrum pozadí!')\n",
        "  print('Pokud jste se spletli, můžete tento krok zopakovat.')\n",
        "#\n",
        "\n",
        "\n",
        "\n"
      ],
      "execution_count": null,
      "outputs": [
        {
          "output_type": "display_data",
          "data": {
            "text/html": [
              "\n",
              "     <input type=\"file\" id=\"files-c364fbd4-a08c-4611-8abb-cbf1d7196d2c\" name=\"files[]\" multiple disabled\n",
              "        style=\"border:none\" />\n",
              "     <output id=\"result-c364fbd4-a08c-4611-8abb-cbf1d7196d2c\">\n",
              "      Upload widget is only available when the cell has been executed in the\n",
              "      current browser session. Please rerun this cell to enable.\n",
              "      </output>\n",
              "      <script src=\"/nbextensions/google.colab/files.js\"></script> "
            ],
            "text/plain": [
              "<IPython.core.display.HTML object>"
            ]
          },
          "metadata": {
            "tags": []
          }
        },
        {
          "output_type": "stream",
          "text": [
            "Saving Vzorek-Ref_958s.txt to Vzorek-Ref_958s.txt\n",
            "Reading data from: Vzorek-Ref_958s.txt\n",
            "Sample id        : Ref\n",
            "Acc. time        : 958 sec\n",
            "Read 400 rows.\n"
          ],
          "name": "stdout"
        }
      ]
    },
    {
      "cell_type": "markdown",
      "metadata": {
        "id": "S47pqR2LwPNI"
      },
      "source": [
        "## Sjednocení a zobrazení dat\n",
        "\n",
        "Pozadí je nutno přeškálovat podle doby měření, aby ho bylo možno odečíst od spektra vzorku. Pak si zobrazíme výslednou tabulku, abychom viděli, že se data načetla rozumně. "
      ]
    },
    {
      "cell_type": "code",
      "metadata": {
        "id": "PVccC89bIjRk",
        "cellView": "form",
        "outputId": "c21f1054-46f3-4078-e6e7-25e2a083476f",
        "colab": {
          "base_uri": "https://localhost:8080/",
          "height": 423
        }
      },
      "source": [
        "#@title <-- Sjednocení a zobrazení dat\n",
        "\n",
        "# Sjednotíme data - careful with data types\n",
        "# FIXME: Normalizing with a Bulgarian constant\n",
        "bg_correction = 1.0 / 3.2 if bg_time==309 else 1.0\n",
        "amplif = sample_time / bg_time * bg_correction\n",
        "df['Bg_counts'] = (bg_df.Counts * amplif + 0.5).astype(int)\n",
        "\n",
        "# Initial range for plot\n",
        "xmin = np.min(df.Energy_keV.values)\n",
        "xmax = np.max(df.Energy_keV.values)\n",
        "xm = 0.5 * (xmin + xmax)\n",
        "d = 0.5 * (xmax - xmin)\n",
        "x0 = xm - 0.5 * d\n",
        "x1 = xm + 0.5 * d\n",
        "\n",
        "df"
      ],
      "execution_count": null,
      "outputs": [
        {
          "output_type": "execute_result",
          "data": {
            "text/html": [
              "<div>\n",
              "<style scoped>\n",
              "    .dataframe tbody tr th:only-of-type {\n",
              "        vertical-align: middle;\n",
              "    }\n",
              "\n",
              "    .dataframe tbody tr th {\n",
              "        vertical-align: top;\n",
              "    }\n",
              "\n",
              "    .dataframe thead th {\n",
              "        text-align: right;\n",
              "    }\n",
              "</style>\n",
              "<table border=\"1\" class=\"dataframe\">\n",
              "  <thead>\n",
              "    <tr style=\"text-align: right;\">\n",
              "      <th></th>\n",
              "      <th>Energy_keV</th>\n",
              "      <th>Counts</th>\n",
              "      <th>Bg_counts</th>\n",
              "    </tr>\n",
              "  </thead>\n",
              "  <tbody>\n",
              "    <tr>\n",
              "      <th>0</th>\n",
              "      <td>-0.338</td>\n",
              "      <td>0</td>\n",
              "      <td>0</td>\n",
              "    </tr>\n",
              "    <tr>\n",
              "      <th>1</th>\n",
              "      <td>-0.125</td>\n",
              "      <td>0</td>\n",
              "      <td>0</td>\n",
              "    </tr>\n",
              "    <tr>\n",
              "      <th>2</th>\n",
              "      <td>0.087</td>\n",
              "      <td>0</td>\n",
              "      <td>0</td>\n",
              "    </tr>\n",
              "    <tr>\n",
              "      <th>3</th>\n",
              "      <td>0.300</td>\n",
              "      <td>0</td>\n",
              "      <td>0</td>\n",
              "    </tr>\n",
              "    <tr>\n",
              "      <th>4</th>\n",
              "      <td>0.513</td>\n",
              "      <td>0</td>\n",
              "      <td>0</td>\n",
              "    </tr>\n",
              "    <tr>\n",
              "      <th>...</th>\n",
              "      <td>...</td>\n",
              "      <td>...</td>\n",
              "      <td>...</td>\n",
              "    </tr>\n",
              "    <tr>\n",
              "      <th>395</th>\n",
              "      <td>83.663</td>\n",
              "      <td>33</td>\n",
              "      <td>27</td>\n",
              "    </tr>\n",
              "    <tr>\n",
              "      <th>396</th>\n",
              "      <td>83.876</td>\n",
              "      <td>37</td>\n",
              "      <td>25</td>\n",
              "    </tr>\n",
              "    <tr>\n",
              "      <th>397</th>\n",
              "      <td>84.089</td>\n",
              "      <td>42</td>\n",
              "      <td>25</td>\n",
              "    </tr>\n",
              "    <tr>\n",
              "      <th>398</th>\n",
              "      <td>84.301</td>\n",
              "      <td>39</td>\n",
              "      <td>24</td>\n",
              "    </tr>\n",
              "    <tr>\n",
              "      <th>399</th>\n",
              "      <td>84.514</td>\n",
              "      <td>34</td>\n",
              "      <td>27</td>\n",
              "    </tr>\n",
              "  </tbody>\n",
              "</table>\n",
              "<p>400 rows × 3 columns</p>\n",
              "</div>"
            ],
            "text/plain": [
              "     Energy_keV  Counts  Bg_counts\n",
              "0        -0.338       0          0\n",
              "1        -0.125       0          0\n",
              "2         0.087       0          0\n",
              "3         0.300       0          0\n",
              "4         0.513       0          0\n",
              "..          ...     ...        ...\n",
              "395      83.663      33         27\n",
              "396      83.876      37         25\n",
              "397      84.089      42         25\n",
              "398      84.301      39         24\n",
              "399      84.514      34         27\n",
              "\n",
              "[400 rows x 3 columns]"
            ]
          },
          "metadata": {
            "tags": []
          },
          "execution_count": 3
        }
      ]
    },
    {
      "cell_type": "markdown",
      "metadata": {
        "id": "DXE5wP3MxRSc"
      },
      "source": [
        "## 3. Vykreslení spektra a pozadí\n",
        "\n",
        "V tomto kroku si nakreslíme spektrum a pozadí, abychom si mohli vybrat oblast, kde chceme nafitovat pík, a zvolit typ pozadí. "
      ]
    },
    {
      "cell_type": "code",
      "metadata": {
        "id": "Lt9tXtQ8nfli",
        "cellView": "form",
        "outputId": "6997ef7f-a0a3-45ef-bf71-59302cc8265b",
        "colab": {
          "base_uri": "https://localhost:8080/",
          "height": 1000,
          "referenced_widgets": [
            "23b3f144d6d24e14a6d5f5c04f282f66",
            "0054a53bc2734b35b710ede164dfba57",
            "56058bfc3c834bc9928a89397a8000a5",
            "4cc39d699de841b5a31f456aa221d0d0",
            "22e15dc281604ae3a6d97218504d0c8c",
            "f010a1b116e347e7b82e90af6945571c"
          ]
        }
      },
      "source": [
        "#@title <-- V zobrazeném spektru vyberte oblast kolem píku (ROI) a zvolte tvar pozadí\n",
        "\n",
        "from plotly import graph_objects as go\n",
        "from IPython.display import display, clear_output\n",
        "import ipywidgets as widgets\n",
        "\n",
        "# Create figure\n",
        "fig = go.Figure()\n",
        "\n",
        "fig.add_trace(\n",
        "        go.Scatter(x=df.Energy_keV, y=df.Bg_counts, name='Background')\n",
        "    ).add_trace(\n",
        "    go.Scatter(x=df.Energy_keV, y=df.Counts, name='Sample')\n",
        "    )\n",
        "\n",
        "# Set title\n",
        "fig.update_layout(\n",
        "    title_text=\"Spektrum a pozadí\"\n",
        ")\n",
        "\n",
        "# -------------------------------------------------------\n",
        "# Oblast ROI\n",
        "# -------------------------------------------------------\n",
        "\n",
        "fig.update_layout(\n",
        "    shapes = [\n",
        "      {\n",
        "        \"x0\": x0,\n",
        "        \"x1\": x1,\n",
        "        \"y0\": 0,\n",
        "        \"y1\": 1,\n",
        "        \"type\": \"rect\",\n",
        "        \"xref\": \"x\",\n",
        "        \"yref\": \"paper\",\n",
        "        \"opacity\": 0.2,\n",
        "        \"fillcolor\": \"#d3d3d3\"\n",
        "      }]\n",
        ")\n",
        "\n",
        "# -------------------------------------------------------\n",
        "# ROI slider\n",
        "# -------------------------------------------------------\n",
        "\n",
        "rs = widgets.FloatRangeSlider(\n",
        "    value=[x0, x1],\n",
        "    min=xmin,\n",
        "    max=xmax,\n",
        "    step=0.05,\n",
        "    description='ROI',\n",
        "    disabled=False,\n",
        "    continuous_update=False,\n",
        "    orientation='horizontal',\n",
        "    readout=True,\n",
        "    readout_format='.1f',\n",
        "    layout = widgets.Layout(width = '94%')\n",
        ")\n",
        "\n",
        "def on_range_update(slider):\n",
        "  fig.update_shapes(dict(x0 = rs.value[0], x1 = rs.value[1]))\n",
        "  clear_output()\n",
        "  fig.show()\n",
        "  display(rs)\n",
        "  display(bg_buttons)\n",
        "\n",
        "rs.observe(on_range_update)\n",
        "\n",
        "# -----------------------------------------------------------------------\n",
        "# Tvar pozadí\n",
        "# -----------------------------------------------------------------------\n",
        "bg_labels = ['Konstantní pozadí', \n",
        "             'Lineární pozadí', \n",
        "             'Kvadratické pozadí']\n",
        "\n",
        "bg_buttons = widgets.RadioButtons(\n",
        "    options=bg_labels,\n",
        "    value=bg_labels[2],\n",
        "    description='Typ pozadí:',\n",
        "    layout={'width': 'max-content'}, \n",
        "    disabled=False\n",
        ")\n",
        "\n",
        "def bg_buttons_observer(sender):\n",
        "    output_radio_selected.value = bg_buttons.value\n",
        "\n",
        "bg_buttons.observe(bg_buttons_observer, names=['value'])\n",
        "# -------------------------------------------------------\n",
        "# Vysypeme na displej\n",
        "# -------------------------------------------------------\n",
        "\n",
        "fig.show()\n",
        "display(rs)\n",
        "display(bg_buttons)"
      ],
      "execution_count": null,
      "outputs": [
        {
          "output_type": "display_data",
          "data": {
            "text/html": [
              "<html>\n",
              "<head><meta charset=\"utf-8\" /></head>\n",
              "<body>\n",
              "    <div>\n",
              "            <script src=\"https://cdnjs.cloudflare.com/ajax/libs/mathjax/2.7.5/MathJax.js?config=TeX-AMS-MML_SVG\"></script><script type=\"text/javascript\">if (window.MathJax) {MathJax.Hub.Config({SVG: {font: \"STIX-Web\"}});}</script>\n",
              "                <script type=\"text/javascript\">window.PlotlyConfig = {MathJaxConfig: 'local'};</script>\n",
              "        <script src=\"https://cdn.plot.ly/plotly-latest.min.js\"></script>    \n",
              "            <div id=\"42250560-957b-435e-af56-50974058f542\" class=\"plotly-graph-div\" style=\"height:525px; width:100%;\"></div>\n",
              "            <script type=\"text/javascript\">\n",
              "                \n",
              "                    window.PLOTLYENV=window.PLOTLYENV || {};\n",
              "                    \n",
              "                if (document.getElementById(\"42250560-957b-435e-af56-50974058f542\")) {\n",
              "                    Plotly.newPlot(\n",
              "                        '42250560-957b-435e-af56-50974058f542',\n",
              "                        [{\"name\": \"Background\", \"type\": \"scatter\", \"x\": [-0.33799999999999997, -0.125, 0.087, 0.3, 0.513, 0.725, 0.938, 1.15, 1.3630000000000002, 1.5759999999999998, 1.788, 2.001, 2.214, 2.426, 2.639, 2.852, 3.0639999999999996, 3.2769999999999997, 3.49, 3.702, 3.915, 4.128, 4.34, 4.553, 4.766, 4.978, 5.191, 5.404, 5.6160000000000005, 5.829, 6.042000000000001, 6.254, 6.4670000000000005, 6.68, 6.892, 7.105, 7.318, 7.53, 7.742999999999999, 7.956, 8.168, 8.381, 8.594, 8.806000000000001, 9.019, 9.232000000000001, 9.443999999999999, 9.657, 9.87, 10.082, 10.295, 10.508, 10.72, 10.933, 11.145999999999999, 11.357999999999999, 11.571, 11.784, 11.995999999999999, 12.209000000000001, 12.422, 12.634, 12.847000000000001, 13.06, 13.272, 13.485, 13.698, 13.91, 14.123, 14.335999999999999, 14.548, 14.761, 14.974, 15.186, 15.399000000000001, 15.610999999999999, 15.824000000000002, 16.037, 16.249000000000002, 16.462, 16.675, 16.887, 17.1, 17.313, 17.525, 17.738, 17.951, 18.163, 18.375999999999998, 18.589000000000002, 18.801, 19.014, 19.227, 19.439, 19.652, 19.865, 20.077, 20.29, 20.503, 20.715, 20.928, 21.141, 21.353, 21.566, 21.779, 21.991, 22.204, 22.416999999999998, 22.629, 22.842, 23.055, 23.267, 23.48, 23.693, 23.905, 24.118000000000002, 24.331, 24.543000000000003, 24.756, 24.969, 25.180999999999997, 25.394000000000002, 25.607, 25.819000000000003, 26.031999999999996, 26.245, 26.456999999999997, 26.67, 26.883000000000003, 27.095, 27.308000000000003, 27.521, 27.733, 27.945999999999998, 28.159000000000002, 28.371, 28.584, 28.796999999999997, 29.009, 29.221999999999998, 29.435, 29.647, 29.86, 30.072, 30.285, 30.498, 30.71, 30.923000000000002, 31.136, 31.348000000000003, 31.561, 31.774, 31.986, 32.199, 32.412, 32.624, 32.836999999999996, 33.05, 33.262, 33.475, 33.688, 33.9, 34.113, 34.326, 34.538000000000004, 34.751, 34.964, 35.176, 35.389, 35.602, 35.814, 36.027, 36.24, 36.452, 36.665, 36.878, 37.09, 37.303000000000004, 37.516, 37.728, 37.941, 38.154, 38.366, 38.579, 38.792, 39.004, 39.217, 39.43, 39.641999999999996, 39.855, 40.068000000000005, 40.28, 40.493, 40.705999999999996, 40.918, 41.131, 41.343999999999994, 41.556000000000004, 41.769, 41.982, 42.193999999999996, 42.407, 42.62, 42.832, 43.045, 43.258, 43.47, 43.683, 43.895, 44.108000000000004, 44.321000000000005, 44.533, 44.746, 44.958999999999996, 45.17100000000001, 45.38399999999999, 45.597, 45.809, 46.022, 46.235, 46.446999999999996, 46.66, 46.873000000000005, 47.085, 47.298, 47.511, 47.723, 47.93600000000001, 48.148999999999994, 48.361000000000004, 48.574, 48.787, 48.998999999999995, 49.211999999999996, 49.425, 49.637, 49.85, 50.063, 50.275, 50.488, 50.701, 50.913000000000004, 51.126000000000005, 51.339, 51.551, 51.763999999999996, 51.977, 52.18899999999999, 52.402, 52.615, 52.827, 53.04, 53.253, 53.465, 53.678000000000004, 53.891000000000005, 54.103, 54.316, 54.528999999999996, 54.74100000000001, 54.95399999999999, 55.167, 55.379, 55.592, 55.805, 56.016999999999996, 56.23, 56.443000000000005, 56.655, 56.868, 57.081, 57.293, 57.506, 57.718999999999994, 57.931000000000004, 58.144, 58.356, 58.568999999999996, 58.782, 58.994, 59.207, 59.42, 59.632, 59.845, 60.058, 60.27, 60.483000000000004, 60.696000000000005, 60.908, 61.121, 61.333999999999996, 61.54600000000001, 61.75899999999999, 61.972, 62.184, 62.397, 62.61, 62.821999999999996, 63.035, 63.248000000000005, 63.46, 63.673, 63.886, 64.098, 64.311, 64.524, 64.736, 64.949, 65.16199999999999, 65.374, 65.587, 65.8, 66.012, 66.225, 66.438, 66.65, 66.863, 67.07600000000001, 67.288, 67.501, 67.714, 67.926, 68.139, 68.352, 68.564, 68.777, 68.99, 69.202, 69.415, 69.628, 69.84, 70.053, 70.266, 70.47800000000001, 70.691, 70.904, 71.116, 71.329, 71.542, 71.75399999999999, 71.967, 72.18, 72.392, 72.605, 72.817, 73.03, 73.243, 73.455, 73.668, 73.881, 74.093, 74.306, 74.51899999999999, 74.73100000000001, 74.944, 75.157, 75.369, 75.582, 75.795, 76.007, 76.22, 76.433, 76.645, 76.858, 77.071, 77.283, 77.49600000000001, 77.709, 77.921, 78.134, 78.347, 78.559, 78.77199999999999, 78.985, 79.197, 79.41, 79.623, 79.835, 80.048, 80.26100000000001, 80.473, 80.686, 80.899, 81.111, 81.324, 81.53699999999999, 81.749, 81.962, 82.175, 82.387, 82.6, 82.81299999999999, 83.025, 83.238, 83.45100000000001, 83.663, 83.876, 84.089, 84.301, 84.514], \"y\": [0, 0, 0, 0, 0, 479, 356, 237, 151, 90, 48, 26, 11, 4, 2, 2, 0, 1, 1, 1, 2, 2, 2, 3, 3, 3, 4, 4, 7, 8, 10, 12, 15, 21, 21, 22, 28, 30, 30, 35, 36, 31, 35, 32, 26, 32, 29, 33, 37, 42, 46, 44, 47, 46, 44, 41, 39, 42, 49, 52, 58, 64, 72, 75, 79, 73, 76, 68, 66, 62, 50, 45, 48, 43, 42, 48, 56, 65, 75, 87, 95, 112, 110, 114, 106, 98, 85, 61, 58, 49, 42, 41, 36, 37, 39, 44, 41, 46, 44, 40, 40, 34, 29, 28, 23, 20, 15, 15, 15, 14, 16, 16, 19, 22, 26, 30, 34, 36, 39, 42, 44, 39, 40, 35, 35, 30, 25, 24, 18, 18, 15, 16, 13, 12, 14, 14, 15, 12, 13, 13, 13, 13, 11, 10, 13, 11, 11, 11, 12, 12, 13, 12, 13, 13, 12, 15, 13, 12, 14, 12, 15, 17, 14, 14, 16, 14, 15, 16, 17, 19, 22, 22, 22, 21, 26, 24, 30, 28, 29, 36, 35, 39, 39, 45, 47, 45, 53, 48, 54, 60, 64, 63, 75, 76, 81, 89, 88, 90, 107, 112, 109, 124, 121, 136, 139, 146, 153, 158, 160, 162, 170, 167, 183, 176, 185, 184, 195, 190, 197, 207, 210, 226, 235, 246, 252, 276, 290, 304, 332, 347, 392, 431, 480, 515, 575, 623, 667, 722, 767, 804, 854, 871, 905, 920, 953, 955, 992, 981, 966, 946, 983, 957, 954, 929, 910, 873, 868, 817, 815, 773, 741, 735, 691, 679, 645, 613, 586, 553, 509, 506, 463, 455, 423, 406, 432, 441, 496, 563, 642, 720, 725, 729, 672, 570, 442, 324, 223, 146, 88, 54, 39, 27, 21, 20, 20, 21, 22, 21, 22, 21, 21, 21, 21, 21, 24, 21, 22, 22, 21, 21, 22, 22, 20, 21, 20, 21, 22, 23, 22, 21, 23, 21, 23, 21, 23, 23, 22, 21, 22, 24, 23, 21, 23, 21, 24, 24, 24, 25, 25, 25, 26, 26, 28, 29, 30, 29, 28, 30, 29, 28, 32, 31, 36, 36, 35, 31, 33, 26, 30, 31, 26, 25, 24, 24, 27, 25, 30, 26, 24, 24, 24, 23, 26, 24, 25, 25, 20, 26, 23, 27, 22, 24, 23, 23, 26, 22, 25, 26, 24, 24, 25, 24, 23, 26, 28, 27, 25, 25, 24, 27]}, {\"name\": \"Sample\", \"type\": \"scatter\", \"x\": [-0.33799999999999997, -0.125, 0.087, 0.3, 0.513, 0.725, 0.938, 1.15, 1.3630000000000002, 1.5759999999999998, 1.788, 2.001, 2.214, 2.426, 2.639, 2.852, 3.0639999999999996, 3.2769999999999997, 3.49, 3.702, 3.915, 4.128, 4.34, 4.553, 4.766, 4.978, 5.191, 5.404, 5.6160000000000005, 5.829, 6.042000000000001, 6.254, 6.4670000000000005, 6.68, 6.892, 7.105, 7.318, 7.53, 7.742999999999999, 7.956, 8.168, 8.381, 8.594, 8.806000000000001, 9.019, 9.232000000000001, 9.443999999999999, 9.657, 9.87, 10.082, 10.295, 10.508, 10.72, 10.933, 11.145999999999999, 11.357999999999999, 11.571, 11.784, 11.995999999999999, 12.209000000000001, 12.422, 12.634, 12.847000000000001, 13.06, 13.272, 13.485, 13.698, 13.91, 14.123, 14.335999999999999, 14.548, 14.761, 14.974, 15.186, 15.399000000000001, 15.610999999999999, 15.824000000000002, 16.037, 16.249000000000002, 16.462, 16.675, 16.887, 17.1, 17.313, 17.525, 17.738, 17.951, 18.163, 18.375999999999998, 18.589000000000002, 18.801, 19.014, 19.227, 19.439, 19.652, 19.865, 20.077, 20.29, 20.503, 20.715, 20.928, 21.141, 21.353, 21.566, 21.779, 21.991, 22.204, 22.416999999999998, 22.629, 22.842, 23.055, 23.267, 23.48, 23.693, 23.905, 24.118000000000002, 24.331, 24.543000000000003, 24.756, 24.969, 25.180999999999997, 25.394000000000002, 25.607, 25.819000000000003, 26.031999999999996, 26.245, 26.456999999999997, 26.67, 26.883000000000003, 27.095, 27.308000000000003, 27.521, 27.733, 27.945999999999998, 28.159000000000002, 28.371, 28.584, 28.796999999999997, 29.009, 29.221999999999998, 29.435, 29.647, 29.86, 30.072, 30.285, 30.498, 30.71, 30.923000000000002, 31.136, 31.348000000000003, 31.561, 31.774, 31.986, 32.199, 32.412, 32.624, 32.836999999999996, 33.05, 33.262, 33.475, 33.688, 33.9, 34.113, 34.326, 34.538000000000004, 34.751, 34.964, 35.176, 35.389, 35.602, 35.814, 36.027, 36.24, 36.452, 36.665, 36.878, 37.09, 37.303000000000004, 37.516, 37.728, 37.941, 38.154, 38.366, 38.579, 38.792, 39.004, 39.217, 39.43, 39.641999999999996, 39.855, 40.068000000000005, 40.28, 40.493, 40.705999999999996, 40.918, 41.131, 41.343999999999994, 41.556000000000004, 41.769, 41.982, 42.193999999999996, 42.407, 42.62, 42.832, 43.045, 43.258, 43.47, 43.683, 43.895, 44.108000000000004, 44.321000000000005, 44.533, 44.746, 44.958999999999996, 45.17100000000001, 45.38399999999999, 45.597, 45.809, 46.022, 46.235, 46.446999999999996, 46.66, 46.873000000000005, 47.085, 47.298, 47.511, 47.723, 47.93600000000001, 48.148999999999994, 48.361000000000004, 48.574, 48.787, 48.998999999999995, 49.211999999999996, 49.425, 49.637, 49.85, 50.063, 50.275, 50.488, 50.701, 50.913000000000004, 51.126000000000005, 51.339, 51.551, 51.763999999999996, 51.977, 52.18899999999999, 52.402, 52.615, 52.827, 53.04, 53.253, 53.465, 53.678000000000004, 53.891000000000005, 54.103, 54.316, 54.528999999999996, 54.74100000000001, 54.95399999999999, 55.167, 55.379, 55.592, 55.805, 56.016999999999996, 56.23, 56.443000000000005, 56.655, 56.868, 57.081, 57.293, 57.506, 57.718999999999994, 57.931000000000004, 58.144, 58.356, 58.568999999999996, 58.782, 58.994, 59.207, 59.42, 59.632, 59.845, 60.058, 60.27, 60.483000000000004, 60.696000000000005, 60.908, 61.121, 61.333999999999996, 61.54600000000001, 61.75899999999999, 61.972, 62.184, 62.397, 62.61, 62.821999999999996, 63.035, 63.248000000000005, 63.46, 63.673, 63.886, 64.098, 64.311, 64.524, 64.736, 64.949, 65.16199999999999, 65.374, 65.587, 65.8, 66.012, 66.225, 66.438, 66.65, 66.863, 67.07600000000001, 67.288, 67.501, 67.714, 67.926, 68.139, 68.352, 68.564, 68.777, 68.99, 69.202, 69.415, 69.628, 69.84, 70.053, 70.266, 70.47800000000001, 70.691, 70.904, 71.116, 71.329, 71.542, 71.75399999999999, 71.967, 72.18, 72.392, 72.605, 72.817, 73.03, 73.243, 73.455, 73.668, 73.881, 74.093, 74.306, 74.51899999999999, 74.73100000000001, 74.944, 75.157, 75.369, 75.582, 75.795, 76.007, 76.22, 76.433, 76.645, 76.858, 77.071, 77.283, 77.49600000000001, 77.709, 77.921, 78.134, 78.347, 78.559, 78.77199999999999, 78.985, 79.197, 79.41, 79.623, 79.835, 80.048, 80.26100000000001, 80.473, 80.686, 80.899, 81.111, 81.324, 81.53699999999999, 81.749, 81.962, 82.175, 82.387, 82.6, 82.81299999999999, 83.025, 83.238, 83.45100000000001, 83.663, 83.876, 84.089, 84.301, 84.514], \"y\": [0, 0, 0, 0, 0, 750, 586, 385, 240, 159, 69, 46, 18, 8, 4, 0, 0, 1, 1, 0, 3, 2, 2, 4, 7, 5, 6, 11, 12, 12, 19, 24, 20, 27, 32, 30, 48, 41, 49, 46, 58, 80, 59, 55, 69, 78, 97, 94, 112, 107, 140, 120, 134, 111, 103, 87, 86, 68, 68, 83, 99, 88, 110, 126, 120, 117, 118, 112, 111, 79, 82, 73, 64, 56, 71, 63, 74, 96, 104, 105, 144, 171, 182, 161, 181, 181, 140, 142, 132, 168, 215, 280, 385, 546, 705, 842, 933, 958, 943, 806, 632, 492, 382, 309, 264, 214, 242, 229, 235, 258, 246, 214, 182, 140, 141, 93, 50, 66, 66, 54, 57, 35, 43, 44, 41, 39, 46, 40, 29, 23, 21, 36, 22, 16, 18, 19, 11, 10, 21, 19, 14, 16, 17, 17, 18, 22, 25, 21, 16, 20, 20, 16, 13, 22, 13, 15, 12, 31, 24, 15, 13, 19, 19, 29, 16, 16, 12, 16, 19, 22, 30, 24, 31, 33, 25, 35, 33, 49, 33, 33, 45, 42, 51, 50, 56, 55, 62, 61, 73, 64, 64, 107, 100, 98, 117, 111, 114, 119, 107, 132, 151, 149, 140, 166, 157, 197, 186, 186, 223, 217, 194, 214, 207, 211, 217, 239, 233, 234, 257, 234, 260, 262, 283, 289, 315, 351, 346, 375, 404, 457, 511, 514, 621, 667, 738, 794, 824, 923, 933, 1015, 1040, 1063, 1102, 1078, 1108, 1187, 1074, 1124, 1147, 1111, 1103, 1123, 1160, 1175, 1048, 1133, 1148, 1079, 1065, 1035, 1059, 1060, 1005, 1021, 1018, 894, 909, 871, 833, 795, 740, 728, 708, 672, 650, 651, 781, 870, 1041, 1115, 1212, 1163, 1074, 964, 770, 568, 387, 273, 186, 90, 66, 44, 39, 30, 30, 25, 27, 25, 31, 23, 41, 32, 35, 30, 31, 32, 33, 30, 28, 30, 30, 36, 45, 31, 31, 35, 39, 44, 37, 22, 38, 29, 31, 28, 40, 46, 29, 39, 31, 22, 40, 58, 39, 36, 41, 34, 41, 49, 33, 45, 43, 39, 36, 53, 37, 46, 43, 41, 47, 44, 63, 53, 49, 47, 56, 56, 42, 58, 44, 42, 50, 21, 43, 36, 39, 30, 32, 36, 38, 42, 35, 26, 32, 35, 32, 41, 40, 33, 48, 42, 33, 28, 36, 28, 41, 36, 34, 40, 31, 37, 30, 42, 31, 43, 48, 33, 37, 42, 39, 34]}],\n",
              "                        {\"shapes\": [{\"fillcolor\": \"#d3d3d3\", \"opacity\": 0.2, \"type\": \"rect\", \"x0\": 17.462, \"x1\": 22.662, \"xref\": \"x\", \"y0\": 0, \"y1\": 1, \"yref\": \"paper\"}], \"template\": {\"data\": {\"bar\": [{\"error_x\": {\"color\": \"#2a3f5f\"}, \"error_y\": {\"color\": \"#2a3f5f\"}, \"marker\": {\"line\": {\"color\": \"#E5ECF6\", \"width\": 0.5}}, \"type\": \"bar\"}], \"barpolar\": [{\"marker\": {\"line\": {\"color\": \"#E5ECF6\", \"width\": 0.5}}, \"type\": \"barpolar\"}], \"carpet\": [{\"aaxis\": {\"endlinecolor\": \"#2a3f5f\", \"gridcolor\": \"white\", \"linecolor\": \"white\", \"minorgridcolor\": \"white\", \"startlinecolor\": \"#2a3f5f\"}, \"baxis\": {\"endlinecolor\": \"#2a3f5f\", \"gridcolor\": \"white\", \"linecolor\": \"white\", \"minorgridcolor\": \"white\", \"startlinecolor\": \"#2a3f5f\"}, \"type\": \"carpet\"}], \"choropleth\": [{\"colorbar\": {\"outlinewidth\": 0, \"ticks\": \"\"}, \"type\": \"choropleth\"}], \"contour\": [{\"colorbar\": {\"outlinewidth\": 0, \"ticks\": \"\"}, \"colorscale\": [[0.0, \"#0d0887\"], [0.1111111111111111, \"#46039f\"], [0.2222222222222222, \"#7201a8\"], [0.3333333333333333, \"#9c179e\"], [0.4444444444444444, \"#bd3786\"], [0.5555555555555556, \"#d8576b\"], [0.6666666666666666, \"#ed7953\"], [0.7777777777777778, \"#fb9f3a\"], [0.8888888888888888, \"#fdca26\"], [1.0, \"#f0f921\"]], \"type\": \"contour\"}], \"contourcarpet\": [{\"colorbar\": {\"outlinewidth\": 0, \"ticks\": \"\"}, \"type\": \"contourcarpet\"}], \"heatmap\": [{\"colorbar\": {\"outlinewidth\": 0, \"ticks\": \"\"}, \"colorscale\": [[0.0, \"#0d0887\"], [0.1111111111111111, \"#46039f\"], [0.2222222222222222, \"#7201a8\"], [0.3333333333333333, \"#9c179e\"], [0.4444444444444444, \"#bd3786\"], [0.5555555555555556, \"#d8576b\"], [0.6666666666666666, \"#ed7953\"], [0.7777777777777778, \"#fb9f3a\"], [0.8888888888888888, \"#fdca26\"], [1.0, \"#f0f921\"]], \"type\": \"heatmap\"}], \"heatmapgl\": [{\"colorbar\": {\"outlinewidth\": 0, \"ticks\": \"\"}, \"colorscale\": [[0.0, \"#0d0887\"], [0.1111111111111111, \"#46039f\"], [0.2222222222222222, \"#7201a8\"], [0.3333333333333333, \"#9c179e\"], [0.4444444444444444, \"#bd3786\"], [0.5555555555555556, \"#d8576b\"], [0.6666666666666666, \"#ed7953\"], [0.7777777777777778, \"#fb9f3a\"], [0.8888888888888888, \"#fdca26\"], [1.0, \"#f0f921\"]], \"type\": \"heatmapgl\"}], \"histogram\": [{\"marker\": {\"colorbar\": {\"outlinewidth\": 0, \"ticks\": \"\"}}, \"type\": \"histogram\"}], \"histogram2d\": [{\"colorbar\": {\"outlinewidth\": 0, \"ticks\": \"\"}, \"colorscale\": [[0.0, \"#0d0887\"], [0.1111111111111111, \"#46039f\"], [0.2222222222222222, \"#7201a8\"], [0.3333333333333333, \"#9c179e\"], [0.4444444444444444, \"#bd3786\"], [0.5555555555555556, \"#d8576b\"], [0.6666666666666666, \"#ed7953\"], [0.7777777777777778, \"#fb9f3a\"], [0.8888888888888888, \"#fdca26\"], [1.0, \"#f0f921\"]], \"type\": \"histogram2d\"}], \"histogram2dcontour\": [{\"colorbar\": {\"outlinewidth\": 0, \"ticks\": \"\"}, \"colorscale\": [[0.0, \"#0d0887\"], [0.1111111111111111, \"#46039f\"], [0.2222222222222222, \"#7201a8\"], [0.3333333333333333, \"#9c179e\"], [0.4444444444444444, \"#bd3786\"], [0.5555555555555556, \"#d8576b\"], [0.6666666666666666, \"#ed7953\"], [0.7777777777777778, \"#fb9f3a\"], [0.8888888888888888, \"#fdca26\"], [1.0, \"#f0f921\"]], \"type\": \"histogram2dcontour\"}], \"mesh3d\": [{\"colorbar\": {\"outlinewidth\": 0, \"ticks\": \"\"}, \"type\": \"mesh3d\"}], \"parcoords\": [{\"line\": {\"colorbar\": {\"outlinewidth\": 0, \"ticks\": \"\"}}, \"type\": \"parcoords\"}], \"pie\": [{\"automargin\": true, \"type\": \"pie\"}], \"scatter\": [{\"marker\": {\"colorbar\": {\"outlinewidth\": 0, \"ticks\": \"\"}}, \"type\": \"scatter\"}], \"scatter3d\": [{\"line\": {\"colorbar\": {\"outlinewidth\": 0, \"ticks\": \"\"}}, \"marker\": {\"colorbar\": {\"outlinewidth\": 0, \"ticks\": \"\"}}, \"type\": \"scatter3d\"}], \"scattercarpet\": [{\"marker\": {\"colorbar\": {\"outlinewidth\": 0, \"ticks\": \"\"}}, \"type\": \"scattercarpet\"}], \"scattergeo\": [{\"marker\": {\"colorbar\": {\"outlinewidth\": 0, \"ticks\": \"\"}}, \"type\": \"scattergeo\"}], \"scattergl\": [{\"marker\": {\"colorbar\": {\"outlinewidth\": 0, \"ticks\": \"\"}}, \"type\": \"scattergl\"}], \"scattermapbox\": [{\"marker\": {\"colorbar\": {\"outlinewidth\": 0, \"ticks\": \"\"}}, \"type\": \"scattermapbox\"}], \"scatterpolar\": [{\"marker\": {\"colorbar\": {\"outlinewidth\": 0, \"ticks\": \"\"}}, \"type\": \"scatterpolar\"}], \"scatterpolargl\": [{\"marker\": {\"colorbar\": {\"outlinewidth\": 0, \"ticks\": \"\"}}, \"type\": \"scatterpolargl\"}], \"scatterternary\": [{\"marker\": {\"colorbar\": {\"outlinewidth\": 0, \"ticks\": \"\"}}, \"type\": \"scatterternary\"}], \"surface\": [{\"colorbar\": {\"outlinewidth\": 0, \"ticks\": \"\"}, \"colorscale\": [[0.0, \"#0d0887\"], [0.1111111111111111, \"#46039f\"], [0.2222222222222222, \"#7201a8\"], [0.3333333333333333, \"#9c179e\"], [0.4444444444444444, \"#bd3786\"], [0.5555555555555556, \"#d8576b\"], [0.6666666666666666, \"#ed7953\"], [0.7777777777777778, \"#fb9f3a\"], [0.8888888888888888, \"#fdca26\"], [1.0, \"#f0f921\"]], \"type\": \"surface\"}], \"table\": [{\"cells\": {\"fill\": {\"color\": \"#EBF0F8\"}, \"line\": {\"color\": \"white\"}}, \"header\": {\"fill\": {\"color\": \"#C8D4E3\"}, \"line\": {\"color\": \"white\"}}, \"type\": \"table\"}]}, \"layout\": {\"annotationdefaults\": {\"arrowcolor\": \"#2a3f5f\", \"arrowhead\": 0, \"arrowwidth\": 1}, \"coloraxis\": {\"colorbar\": {\"outlinewidth\": 0, \"ticks\": \"\"}}, \"colorscale\": {\"diverging\": [[0, \"#8e0152\"], [0.1, \"#c51b7d\"], [0.2, \"#de77ae\"], [0.3, \"#f1b6da\"], [0.4, \"#fde0ef\"], [0.5, \"#f7f7f7\"], [0.6, \"#e6f5d0\"], [0.7, \"#b8e186\"], [0.8, \"#7fbc41\"], [0.9, \"#4d9221\"], [1, \"#276419\"]], \"sequential\": [[0.0, \"#0d0887\"], [0.1111111111111111, \"#46039f\"], [0.2222222222222222, \"#7201a8\"], [0.3333333333333333, \"#9c179e\"], [0.4444444444444444, \"#bd3786\"], [0.5555555555555556, \"#d8576b\"], [0.6666666666666666, \"#ed7953\"], [0.7777777777777778, \"#fb9f3a\"], [0.8888888888888888, \"#fdca26\"], [1.0, \"#f0f921\"]], \"sequentialminus\": [[0.0, \"#0d0887\"], [0.1111111111111111, \"#46039f\"], [0.2222222222222222, \"#7201a8\"], [0.3333333333333333, \"#9c179e\"], [0.4444444444444444, \"#bd3786\"], [0.5555555555555556, \"#d8576b\"], [0.6666666666666666, \"#ed7953\"], [0.7777777777777778, \"#fb9f3a\"], [0.8888888888888888, \"#fdca26\"], [1.0, \"#f0f921\"]]}, \"colorway\": [\"#636efa\", \"#EF553B\", \"#00cc96\", \"#ab63fa\", \"#FFA15A\", \"#19d3f3\", \"#FF6692\", \"#B6E880\", \"#FF97FF\", \"#FECB52\"], \"font\": {\"color\": \"#2a3f5f\"}, \"geo\": {\"bgcolor\": \"white\", \"lakecolor\": \"white\", \"landcolor\": \"#E5ECF6\", \"showlakes\": true, \"showland\": true, \"subunitcolor\": \"white\"}, \"hoverlabel\": {\"align\": \"left\"}, \"hovermode\": \"closest\", \"mapbox\": {\"style\": \"light\"}, \"paper_bgcolor\": \"white\", \"plot_bgcolor\": \"#E5ECF6\", \"polar\": {\"angularaxis\": {\"gridcolor\": \"white\", \"linecolor\": \"white\", \"ticks\": \"\"}, \"bgcolor\": \"#E5ECF6\", \"radialaxis\": {\"gridcolor\": \"white\", \"linecolor\": \"white\", \"ticks\": \"\"}}, \"scene\": {\"xaxis\": {\"backgroundcolor\": \"#E5ECF6\", \"gridcolor\": \"white\", \"gridwidth\": 2, \"linecolor\": \"white\", \"showbackground\": true, \"ticks\": \"\", \"zerolinecolor\": \"white\"}, \"yaxis\": {\"backgroundcolor\": \"#E5ECF6\", \"gridcolor\": \"white\", \"gridwidth\": 2, \"linecolor\": \"white\", \"showbackground\": true, \"ticks\": \"\", \"zerolinecolor\": \"white\"}, \"zaxis\": {\"backgroundcolor\": \"#E5ECF6\", \"gridcolor\": \"white\", \"gridwidth\": 2, \"linecolor\": \"white\", \"showbackground\": true, \"ticks\": \"\", \"zerolinecolor\": \"white\"}}, \"shapedefaults\": {\"line\": {\"color\": \"#2a3f5f\"}}, \"ternary\": {\"aaxis\": {\"gridcolor\": \"white\", \"linecolor\": \"white\", \"ticks\": \"\"}, \"baxis\": {\"gridcolor\": \"white\", \"linecolor\": \"white\", \"ticks\": \"\"}, \"bgcolor\": \"#E5ECF6\", \"caxis\": {\"gridcolor\": \"white\", \"linecolor\": \"white\", \"ticks\": \"\"}}, \"title\": {\"x\": 0.05}, \"xaxis\": {\"automargin\": true, \"gridcolor\": \"white\", \"linecolor\": \"white\", \"ticks\": \"\", \"title\": {\"standoff\": 15}, \"zerolinecolor\": \"white\", \"zerolinewidth\": 2}, \"yaxis\": {\"automargin\": true, \"gridcolor\": \"white\", \"linecolor\": \"white\", \"ticks\": \"\", \"title\": {\"standoff\": 15}, \"zerolinecolor\": \"white\", \"zerolinewidth\": 2}}}, \"title\": {\"text\": \"Spektrum a pozad\\u00ed\"}},\n",
              "                        {\"responsive\": true}\n",
              "                    ).then(function(){\n",
              "                            \n",
              "var gd = document.getElementById('42250560-957b-435e-af56-50974058f542');\n",
              "var x = new MutationObserver(function (mutations, observer) {{\n",
              "        var display = window.getComputedStyle(gd).display;\n",
              "        if (!display || display === 'none') {{\n",
              "            console.log([gd, 'removed!']);\n",
              "            Plotly.purge(gd);\n",
              "            observer.disconnect();\n",
              "        }}\n",
              "}});\n",
              "\n",
              "// Listen for the removal of the full notebook cells\n",
              "var notebookContainer = gd.closest('#notebook-container');\n",
              "if (notebookContainer) {{\n",
              "    x.observe(notebookContainer, {childList: true});\n",
              "}}\n",
              "\n",
              "// Listen for the clearing of the current output cell\n",
              "var outputEl = gd.closest('.output');\n",
              "if (outputEl) {{\n",
              "    x.observe(outputEl, {childList: true});\n",
              "}}\n",
              "\n",
              "                        })\n",
              "                };\n",
              "                \n",
              "            </script>\n",
              "        </div>\n",
              "</body>\n",
              "</html>"
            ]
          },
          "metadata": {
            "tags": []
          }
        },
        {
          "output_type": "display_data",
          "data": {
            "application/vnd.jupyter.widget-view+json": {
              "model_id": "23b3f144d6d24e14a6d5f5c04f282f66",
              "version_minor": 0,
              "version_major": 2
            },
            "text/plain": [
              "FloatRangeSlider(value=(17.462, 22.662), continuous_update=False, description='ROI', layout=Layout(width='94%'…"
            ]
          },
          "metadata": {
            "tags": []
          }
        },
        {
          "output_type": "display_data",
          "data": {
            "application/vnd.jupyter.widget-view+json": {
              "model_id": "4cc39d699de841b5a31f456aa221d0d0",
              "version_minor": 0,
              "version_major": 2
            },
            "text/plain": [
              "RadioButtons(description='Typ pozadí:', index=2, layout=Layout(width='max-content'), options=('Konstantní poza…"
            ]
          },
          "metadata": {
            "tags": []
          }
        },
        {
          "output_type": "error",
          "ename": "NameError",
          "evalue": "ignored",
          "traceback": [
            "\u001b[0;31m---------------------------------------------------------------------------\u001b[0m",
            "\u001b[0;31mNameError\u001b[0m                                 Traceback (most recent call last)",
            "\u001b[0;32m/usr/local/lib/python3.6/dist-packages/ipywidgets/widgets/widget.py\u001b[0m in \u001b[0;36m_handle_msg\u001b[0;34m(self, msg)\u001b[0m\n\u001b[1;32m    674\u001b[0m                 \u001b[0;32mif\u001b[0m \u001b[0;34m'buffer_paths'\u001b[0m \u001b[0;32min\u001b[0m \u001b[0mdata\u001b[0m\u001b[0;34m:\u001b[0m\u001b[0;34m\u001b[0m\u001b[0;34m\u001b[0m\u001b[0m\n\u001b[1;32m    675\u001b[0m                     \u001b[0m_put_buffers\u001b[0m\u001b[0;34m(\u001b[0m\u001b[0mstate\u001b[0m\u001b[0;34m,\u001b[0m \u001b[0mdata\u001b[0m\u001b[0;34m[\u001b[0m\u001b[0;34m'buffer_paths'\u001b[0m\u001b[0;34m]\u001b[0m\u001b[0;34m,\u001b[0m \u001b[0mmsg\u001b[0m\u001b[0;34m[\u001b[0m\u001b[0;34m'buffers'\u001b[0m\u001b[0;34m]\u001b[0m\u001b[0;34m)\u001b[0m\u001b[0;34m\u001b[0m\u001b[0;34m\u001b[0m\u001b[0m\n\u001b[0;32m--> 676\u001b[0;31m                 \u001b[0mself\u001b[0m\u001b[0;34m.\u001b[0m\u001b[0mset_state\u001b[0m\u001b[0;34m(\u001b[0m\u001b[0mstate\u001b[0m\u001b[0;34m)\u001b[0m\u001b[0;34m\u001b[0m\u001b[0;34m\u001b[0m\u001b[0m\n\u001b[0m\u001b[1;32m    677\u001b[0m \u001b[0;34m\u001b[0m\u001b[0m\n\u001b[1;32m    678\u001b[0m         \u001b[0;31m# Handle a state request.\u001b[0m\u001b[0;34m\u001b[0m\u001b[0;34m\u001b[0m\u001b[0;34m\u001b[0m\u001b[0m\n",
            "\u001b[0;32m/usr/local/lib/python3.6/dist-packages/ipywidgets/widgets/widget.py\u001b[0m in \u001b[0;36mset_state\u001b[0;34m(self, sync_data)\u001b[0m\n\u001b[1;32m    543\u001b[0m                     from_json = self.trait_metadata(name, 'from_json',\n\u001b[1;32m    544\u001b[0m                                                     self._trait_from_json)\n\u001b[0;32m--> 545\u001b[0;31m                     \u001b[0mself\u001b[0m\u001b[0;34m.\u001b[0m\u001b[0mset_trait\u001b[0m\u001b[0;34m(\u001b[0m\u001b[0mname\u001b[0m\u001b[0;34m,\u001b[0m \u001b[0mfrom_json\u001b[0m\u001b[0;34m(\u001b[0m\u001b[0msync_data\u001b[0m\u001b[0;34m[\u001b[0m\u001b[0mname\u001b[0m\u001b[0;34m]\u001b[0m\u001b[0;34m,\u001b[0m \u001b[0mself\u001b[0m\u001b[0;34m)\u001b[0m\u001b[0;34m)\u001b[0m\u001b[0;34m\u001b[0m\u001b[0;34m\u001b[0m\u001b[0m\n\u001b[0m\u001b[1;32m    546\u001b[0m \u001b[0;34m\u001b[0m\u001b[0m\n\u001b[1;32m    547\u001b[0m     \u001b[0;32mdef\u001b[0m \u001b[0msend\u001b[0m\u001b[0;34m(\u001b[0m\u001b[0mself\u001b[0m\u001b[0;34m,\u001b[0m \u001b[0mcontent\u001b[0m\u001b[0;34m,\u001b[0m \u001b[0mbuffers\u001b[0m\u001b[0;34m=\u001b[0m\u001b[0;32mNone\u001b[0m\u001b[0;34m)\u001b[0m\u001b[0;34m:\u001b[0m\u001b[0;34m\u001b[0m\u001b[0;34m\u001b[0m\u001b[0m\n",
            "\u001b[0;32m/usr/lib/python3.6/contextlib.py\u001b[0m in \u001b[0;36m__exit__\u001b[0;34m(self, type, value, traceback)\u001b[0m\n\u001b[1;32m     86\u001b[0m         \u001b[0;32mif\u001b[0m \u001b[0mtype\u001b[0m \u001b[0;32mis\u001b[0m \u001b[0;32mNone\u001b[0m\u001b[0;34m:\u001b[0m\u001b[0;34m\u001b[0m\u001b[0;34m\u001b[0m\u001b[0m\n\u001b[1;32m     87\u001b[0m             \u001b[0;32mtry\u001b[0m\u001b[0;34m:\u001b[0m\u001b[0;34m\u001b[0m\u001b[0;34m\u001b[0m\u001b[0m\n\u001b[0;32m---> 88\u001b[0;31m                 \u001b[0mnext\u001b[0m\u001b[0;34m(\u001b[0m\u001b[0mself\u001b[0m\u001b[0;34m.\u001b[0m\u001b[0mgen\u001b[0m\u001b[0;34m)\u001b[0m\u001b[0;34m\u001b[0m\u001b[0;34m\u001b[0m\u001b[0m\n\u001b[0m\u001b[1;32m     89\u001b[0m             \u001b[0;32mexcept\u001b[0m \u001b[0mStopIteration\u001b[0m\u001b[0;34m:\u001b[0m\u001b[0;34m\u001b[0m\u001b[0;34m\u001b[0m\u001b[0m\n\u001b[1;32m     90\u001b[0m                 \u001b[0;32mreturn\u001b[0m \u001b[0;32mFalse\u001b[0m\u001b[0;34m\u001b[0m\u001b[0;34m\u001b[0m\u001b[0m\n",
            "\u001b[0;32m/usr/local/lib/python3.6/dist-packages/traitlets/traitlets.py\u001b[0m in \u001b[0;36mhold_trait_notifications\u001b[0;34m(self)\u001b[0m\n\u001b[1;32m   1129\u001b[0m                 \u001b[0;32mfor\u001b[0m \u001b[0mchanges\u001b[0m \u001b[0;32min\u001b[0m \u001b[0mcache\u001b[0m\u001b[0;34m.\u001b[0m\u001b[0mvalues\u001b[0m\u001b[0;34m(\u001b[0m\u001b[0;34m)\u001b[0m\u001b[0;34m:\u001b[0m\u001b[0;34m\u001b[0m\u001b[0;34m\u001b[0m\u001b[0m\n\u001b[1;32m   1130\u001b[0m                     \u001b[0;32mfor\u001b[0m \u001b[0mchange\u001b[0m \u001b[0;32min\u001b[0m \u001b[0mchanges\u001b[0m\u001b[0;34m:\u001b[0m\u001b[0;34m\u001b[0m\u001b[0;34m\u001b[0m\u001b[0m\n\u001b[0;32m-> 1131\u001b[0;31m                         \u001b[0mself\u001b[0m\u001b[0;34m.\u001b[0m\u001b[0mnotify_change\u001b[0m\u001b[0;34m(\u001b[0m\u001b[0mchange\u001b[0m\u001b[0;34m)\u001b[0m\u001b[0;34m\u001b[0m\u001b[0;34m\u001b[0m\u001b[0m\n\u001b[0m\u001b[1;32m   1132\u001b[0m \u001b[0;34m\u001b[0m\u001b[0m\n\u001b[1;32m   1133\u001b[0m     \u001b[0;32mdef\u001b[0m \u001b[0m_notify_trait\u001b[0m\u001b[0;34m(\u001b[0m\u001b[0mself\u001b[0m\u001b[0;34m,\u001b[0m \u001b[0mname\u001b[0m\u001b[0;34m,\u001b[0m \u001b[0mold_value\u001b[0m\u001b[0;34m,\u001b[0m \u001b[0mnew_value\u001b[0m\u001b[0;34m)\u001b[0m\u001b[0;34m:\u001b[0m\u001b[0;34m\u001b[0m\u001b[0;34m\u001b[0m\u001b[0m\n",
            "\u001b[0;32m/usr/local/lib/python3.6/dist-packages/ipywidgets/widgets/widget.py\u001b[0m in \u001b[0;36mnotify_change\u001b[0;34m(self, change)\u001b[0m\n\u001b[1;32m    604\u001b[0m                 \u001b[0;31m# Send new state to front-end\u001b[0m\u001b[0;34m\u001b[0m\u001b[0;34m\u001b[0m\u001b[0;34m\u001b[0m\u001b[0m\n\u001b[1;32m    605\u001b[0m                 \u001b[0mself\u001b[0m\u001b[0;34m.\u001b[0m\u001b[0msend_state\u001b[0m\u001b[0;34m(\u001b[0m\u001b[0mkey\u001b[0m\u001b[0;34m=\u001b[0m\u001b[0mname\u001b[0m\u001b[0;34m)\u001b[0m\u001b[0;34m\u001b[0m\u001b[0;34m\u001b[0m\u001b[0m\n\u001b[0;32m--> 606\u001b[0;31m         \u001b[0msuper\u001b[0m\u001b[0;34m(\u001b[0m\u001b[0mWidget\u001b[0m\u001b[0;34m,\u001b[0m \u001b[0mself\u001b[0m\u001b[0;34m)\u001b[0m\u001b[0;34m.\u001b[0m\u001b[0mnotify_change\u001b[0m\u001b[0;34m(\u001b[0m\u001b[0mchange\u001b[0m\u001b[0;34m)\u001b[0m\u001b[0;34m\u001b[0m\u001b[0;34m\u001b[0m\u001b[0m\n\u001b[0m\u001b[1;32m    607\u001b[0m \u001b[0;34m\u001b[0m\u001b[0m\n\u001b[1;32m    608\u001b[0m     \u001b[0;32mdef\u001b[0m \u001b[0m__repr__\u001b[0m\u001b[0;34m(\u001b[0m\u001b[0mself\u001b[0m\u001b[0;34m)\u001b[0m\u001b[0;34m:\u001b[0m\u001b[0;34m\u001b[0m\u001b[0;34m\u001b[0m\u001b[0m\n",
            "\u001b[0;32m/usr/local/lib/python3.6/dist-packages/traitlets/traitlets.py\u001b[0m in \u001b[0;36mnotify_change\u001b[0;34m(self, change)\u001b[0m\n\u001b[1;32m   1174\u001b[0m                 \u001b[0mc\u001b[0m \u001b[0;34m=\u001b[0m \u001b[0mgetattr\u001b[0m\u001b[0;34m(\u001b[0m\u001b[0mself\u001b[0m\u001b[0;34m,\u001b[0m \u001b[0mc\u001b[0m\u001b[0;34m.\u001b[0m\u001b[0mname\u001b[0m\u001b[0;34m)\u001b[0m\u001b[0;34m\u001b[0m\u001b[0;34m\u001b[0m\u001b[0m\n\u001b[1;32m   1175\u001b[0m \u001b[0;34m\u001b[0m\u001b[0m\n\u001b[0;32m-> 1176\u001b[0;31m             \u001b[0mc\u001b[0m\u001b[0;34m(\u001b[0m\u001b[0mchange\u001b[0m\u001b[0;34m)\u001b[0m\u001b[0;34m\u001b[0m\u001b[0;34m\u001b[0m\u001b[0m\n\u001b[0m\u001b[1;32m   1177\u001b[0m \u001b[0;34m\u001b[0m\u001b[0m\n\u001b[1;32m   1178\u001b[0m     \u001b[0;32mdef\u001b[0m \u001b[0m_add_notifiers\u001b[0m\u001b[0;34m(\u001b[0m\u001b[0mself\u001b[0m\u001b[0;34m,\u001b[0m \u001b[0mhandler\u001b[0m\u001b[0;34m,\u001b[0m \u001b[0mname\u001b[0m\u001b[0;34m,\u001b[0m \u001b[0mtype\u001b[0m\u001b[0;34m)\u001b[0m\u001b[0;34m:\u001b[0m\u001b[0;34m\u001b[0m\u001b[0;34m\u001b[0m\u001b[0m\n",
            "\u001b[0;32m/usr/local/lib/python3.6/dist-packages/ipywidgets/widgets/widget_selection.py\u001b[0m in \u001b[0;36m_propagate_index\u001b[0;34m(self, change)\u001b[0m\n\u001b[1;32m    233\u001b[0m             \u001b[0mself\u001b[0m\u001b[0;34m.\u001b[0m\u001b[0mlabel\u001b[0m \u001b[0;34m=\u001b[0m \u001b[0mlabel\u001b[0m\u001b[0;34m\u001b[0m\u001b[0;34m\u001b[0m\u001b[0m\n\u001b[1;32m    234\u001b[0m         \u001b[0;32mif\u001b[0m \u001b[0mself\u001b[0m\u001b[0;34m.\u001b[0m\u001b[0mvalue\u001b[0m \u001b[0;32mis\u001b[0m \u001b[0;32mnot\u001b[0m \u001b[0mvalue\u001b[0m\u001b[0;34m:\u001b[0m\u001b[0;34m\u001b[0m\u001b[0;34m\u001b[0m\u001b[0m\n\u001b[0;32m--> 235\u001b[0;31m             \u001b[0mself\u001b[0m\u001b[0;34m.\u001b[0m\u001b[0mvalue\u001b[0m \u001b[0;34m=\u001b[0m \u001b[0mvalue\u001b[0m\u001b[0;34m\u001b[0m\u001b[0;34m\u001b[0m\u001b[0m\n\u001b[0m\u001b[1;32m    236\u001b[0m \u001b[0;34m\u001b[0m\u001b[0m\n\u001b[1;32m    237\u001b[0m     \u001b[0;34m@\u001b[0m\u001b[0mvalidate\u001b[0m\u001b[0;34m(\u001b[0m\u001b[0;34m'value'\u001b[0m\u001b[0;34m)\u001b[0m\u001b[0;34m\u001b[0m\u001b[0;34m\u001b[0m\u001b[0m\n",
            "\u001b[0;32m/usr/local/lib/python3.6/dist-packages/traitlets/traitlets.py\u001b[0m in \u001b[0;36m__set__\u001b[0;34m(self, obj, value)\u001b[0m\n\u001b[1;32m    583\u001b[0m             \u001b[0;32mraise\u001b[0m \u001b[0mTraitError\u001b[0m\u001b[0;34m(\u001b[0m\u001b[0;34m'The \"%s\" trait is read-only.'\u001b[0m \u001b[0;34m%\u001b[0m \u001b[0mself\u001b[0m\u001b[0;34m.\u001b[0m\u001b[0mname\u001b[0m\u001b[0;34m)\u001b[0m\u001b[0;34m\u001b[0m\u001b[0;34m\u001b[0m\u001b[0m\n\u001b[1;32m    584\u001b[0m         \u001b[0;32melse\u001b[0m\u001b[0;34m:\u001b[0m\u001b[0;34m\u001b[0m\u001b[0;34m\u001b[0m\u001b[0m\n\u001b[0;32m--> 585\u001b[0;31m             \u001b[0mself\u001b[0m\u001b[0;34m.\u001b[0m\u001b[0mset\u001b[0m\u001b[0;34m(\u001b[0m\u001b[0mobj\u001b[0m\u001b[0;34m,\u001b[0m \u001b[0mvalue\u001b[0m\u001b[0;34m)\u001b[0m\u001b[0;34m\u001b[0m\u001b[0;34m\u001b[0m\u001b[0m\n\u001b[0m\u001b[1;32m    586\u001b[0m \u001b[0;34m\u001b[0m\u001b[0m\n\u001b[1;32m    587\u001b[0m     \u001b[0;32mdef\u001b[0m \u001b[0m_validate\u001b[0m\u001b[0;34m(\u001b[0m\u001b[0mself\u001b[0m\u001b[0;34m,\u001b[0m \u001b[0mobj\u001b[0m\u001b[0;34m,\u001b[0m \u001b[0mvalue\u001b[0m\u001b[0;34m)\u001b[0m\u001b[0;34m:\u001b[0m\u001b[0;34m\u001b[0m\u001b[0;34m\u001b[0m\u001b[0m\n",
            "\u001b[0;32m/usr/local/lib/python3.6/dist-packages/traitlets/traitlets.py\u001b[0m in \u001b[0;36mset\u001b[0;34m(self, obj, value)\u001b[0m\n\u001b[1;32m    572\u001b[0m             \u001b[0;31m# we explicitly compare silent to True just in case the equality\u001b[0m\u001b[0;34m\u001b[0m\u001b[0;34m\u001b[0m\u001b[0;34m\u001b[0m\u001b[0m\n\u001b[1;32m    573\u001b[0m             \u001b[0;31m# comparison above returns something other than True/False\u001b[0m\u001b[0;34m\u001b[0m\u001b[0;34m\u001b[0m\u001b[0;34m\u001b[0m\u001b[0m\n\u001b[0;32m--> 574\u001b[0;31m             \u001b[0mobj\u001b[0m\u001b[0;34m.\u001b[0m\u001b[0m_notify_trait\u001b[0m\u001b[0;34m(\u001b[0m\u001b[0mself\u001b[0m\u001b[0;34m.\u001b[0m\u001b[0mname\u001b[0m\u001b[0;34m,\u001b[0m \u001b[0mold_value\u001b[0m\u001b[0;34m,\u001b[0m \u001b[0mnew_value\u001b[0m\u001b[0;34m)\u001b[0m\u001b[0;34m\u001b[0m\u001b[0;34m\u001b[0m\u001b[0m\n\u001b[0m\u001b[1;32m    575\u001b[0m \u001b[0;34m\u001b[0m\u001b[0m\n\u001b[1;32m    576\u001b[0m     \u001b[0;32mdef\u001b[0m \u001b[0m__set__\u001b[0m\u001b[0;34m(\u001b[0m\u001b[0mself\u001b[0m\u001b[0;34m,\u001b[0m \u001b[0mobj\u001b[0m\u001b[0;34m,\u001b[0m \u001b[0mvalue\u001b[0m\u001b[0;34m)\u001b[0m\u001b[0;34m:\u001b[0m\u001b[0;34m\u001b[0m\u001b[0;34m\u001b[0m\u001b[0m\n",
            "\u001b[0;32m/usr/local/lib/python3.6/dist-packages/traitlets/traitlets.py\u001b[0m in \u001b[0;36m_notify_trait\u001b[0;34m(self, name, old_value, new_value)\u001b[0m\n\u001b[1;32m   1137\u001b[0m             \u001b[0mnew\u001b[0m\u001b[0;34m=\u001b[0m\u001b[0mnew_value\u001b[0m\u001b[0;34m,\u001b[0m\u001b[0;34m\u001b[0m\u001b[0;34m\u001b[0m\u001b[0m\n\u001b[1;32m   1138\u001b[0m             \u001b[0mowner\u001b[0m\u001b[0;34m=\u001b[0m\u001b[0mself\u001b[0m\u001b[0;34m,\u001b[0m\u001b[0;34m\u001b[0m\u001b[0;34m\u001b[0m\u001b[0m\n\u001b[0;32m-> 1139\u001b[0;31m             \u001b[0mtype\u001b[0m\u001b[0;34m=\u001b[0m\u001b[0;34m'change'\u001b[0m\u001b[0;34m,\u001b[0m\u001b[0;34m\u001b[0m\u001b[0;34m\u001b[0m\u001b[0m\n\u001b[0m\u001b[1;32m   1140\u001b[0m         ))\n\u001b[1;32m   1141\u001b[0m \u001b[0;34m\u001b[0m\u001b[0m\n",
            "\u001b[0;32m/usr/local/lib/python3.6/dist-packages/ipywidgets/widgets/widget.py\u001b[0m in \u001b[0;36mnotify_change\u001b[0;34m(self, change)\u001b[0m\n\u001b[1;32m    604\u001b[0m                 \u001b[0;31m# Send new state to front-end\u001b[0m\u001b[0;34m\u001b[0m\u001b[0;34m\u001b[0m\u001b[0;34m\u001b[0m\u001b[0m\n\u001b[1;32m    605\u001b[0m                 \u001b[0mself\u001b[0m\u001b[0;34m.\u001b[0m\u001b[0msend_state\u001b[0m\u001b[0;34m(\u001b[0m\u001b[0mkey\u001b[0m\u001b[0;34m=\u001b[0m\u001b[0mname\u001b[0m\u001b[0;34m)\u001b[0m\u001b[0;34m\u001b[0m\u001b[0;34m\u001b[0m\u001b[0m\n\u001b[0;32m--> 606\u001b[0;31m         \u001b[0msuper\u001b[0m\u001b[0;34m(\u001b[0m\u001b[0mWidget\u001b[0m\u001b[0;34m,\u001b[0m \u001b[0mself\u001b[0m\u001b[0;34m)\u001b[0m\u001b[0;34m.\u001b[0m\u001b[0mnotify_change\u001b[0m\u001b[0;34m(\u001b[0m\u001b[0mchange\u001b[0m\u001b[0;34m)\u001b[0m\u001b[0;34m\u001b[0m\u001b[0;34m\u001b[0m\u001b[0m\n\u001b[0m\u001b[1;32m    607\u001b[0m \u001b[0;34m\u001b[0m\u001b[0m\n\u001b[1;32m    608\u001b[0m     \u001b[0;32mdef\u001b[0m \u001b[0m__repr__\u001b[0m\u001b[0;34m(\u001b[0m\u001b[0mself\u001b[0m\u001b[0;34m)\u001b[0m\u001b[0;34m:\u001b[0m\u001b[0;34m\u001b[0m\u001b[0;34m\u001b[0m\u001b[0m\n",
            "\u001b[0;32m/usr/local/lib/python3.6/dist-packages/traitlets/traitlets.py\u001b[0m in \u001b[0;36mnotify_change\u001b[0;34m(self, change)\u001b[0m\n\u001b[1;32m   1174\u001b[0m                 \u001b[0mc\u001b[0m \u001b[0;34m=\u001b[0m \u001b[0mgetattr\u001b[0m\u001b[0;34m(\u001b[0m\u001b[0mself\u001b[0m\u001b[0;34m,\u001b[0m \u001b[0mc\u001b[0m\u001b[0;34m.\u001b[0m\u001b[0mname\u001b[0m\u001b[0;34m)\u001b[0m\u001b[0;34m\u001b[0m\u001b[0;34m\u001b[0m\u001b[0m\n\u001b[1;32m   1175\u001b[0m \u001b[0;34m\u001b[0m\u001b[0m\n\u001b[0;32m-> 1176\u001b[0;31m             \u001b[0mc\u001b[0m\u001b[0;34m(\u001b[0m\u001b[0mchange\u001b[0m\u001b[0;34m)\u001b[0m\u001b[0;34m\u001b[0m\u001b[0;34m\u001b[0m\u001b[0m\n\u001b[0m\u001b[1;32m   1177\u001b[0m \u001b[0;34m\u001b[0m\u001b[0m\n\u001b[1;32m   1178\u001b[0m     \u001b[0;32mdef\u001b[0m \u001b[0m_add_notifiers\u001b[0m\u001b[0;34m(\u001b[0m\u001b[0mself\u001b[0m\u001b[0;34m,\u001b[0m \u001b[0mhandler\u001b[0m\u001b[0;34m,\u001b[0m \u001b[0mname\u001b[0m\u001b[0;34m,\u001b[0m \u001b[0mtype\u001b[0m\u001b[0;34m)\u001b[0m\u001b[0;34m:\u001b[0m\u001b[0;34m\u001b[0m\u001b[0;34m\u001b[0m\u001b[0m\n",
            "\u001b[0;32m<ipython-input-4-09af0c47ba11>\u001b[0m in \u001b[0;36mbg_buttons_observer\u001b[0;34m(sender)\u001b[0m\n\u001b[1;32m     81\u001b[0m \u001b[0;34m\u001b[0m\u001b[0m\n\u001b[1;32m     82\u001b[0m \u001b[0;32mdef\u001b[0m \u001b[0mbg_buttons_observer\u001b[0m\u001b[0;34m(\u001b[0m\u001b[0msender\u001b[0m\u001b[0;34m)\u001b[0m\u001b[0;34m:\u001b[0m\u001b[0;34m\u001b[0m\u001b[0;34m\u001b[0m\u001b[0m\n\u001b[0;32m---> 83\u001b[0;31m     \u001b[0moutput_radio_selected\u001b[0m\u001b[0;34m.\u001b[0m\u001b[0mvalue\u001b[0m \u001b[0;34m=\u001b[0m \u001b[0mbg_buttons\u001b[0m\u001b[0;34m.\u001b[0m\u001b[0mvalue\u001b[0m\u001b[0;34m\u001b[0m\u001b[0;34m\u001b[0m\u001b[0m\n\u001b[0m\u001b[1;32m     84\u001b[0m \u001b[0;34m\u001b[0m\u001b[0m\n\u001b[1;32m     85\u001b[0m \u001b[0mbg_buttons\u001b[0m\u001b[0;34m.\u001b[0m\u001b[0mobserve\u001b[0m\u001b[0;34m(\u001b[0m\u001b[0mbg_buttons_observer\u001b[0m\u001b[0;34m,\u001b[0m \u001b[0mnames\u001b[0m\u001b[0;34m=\u001b[0m\u001b[0;34m[\u001b[0m\u001b[0;34m'value'\u001b[0m\u001b[0;34m]\u001b[0m\u001b[0;34m)\u001b[0m\u001b[0;34m\u001b[0m\u001b[0;34m\u001b[0m\u001b[0m\n",
            "\u001b[0;31mNameError\u001b[0m: name 'output_radio_selected' is not defined"
          ]
        }
      ]
    },
    {
      "cell_type": "markdown",
      "metadata": {
        "id": "SYWEpahMKaS3"
      },
      "source": [
        "Několik rad:\n",
        "* Může se stát, že vaše spektrum je široké a úzký pík se vám pomocí slajdru špatně vybírá. Nic nezkazíte, když ze zdrojových dat odmažete nezajímavou část spektra a začnete znovu, z užšího spektra se vám bude vybírat pohodlněji. \n",
        "* Vybírejte pík vždy i s malým okolím. Pozadí se fituje kvadratickým polynomem, a fit bude hezčí, když se bude mít čeho chytit. \n",
        "* Pokud fitujete hodně asymetrický pík, zkuste fit s lineárním nebo konstantním pozadím.\n",
        "* Zvolte konstantní pozadí, fitujete-li osamělý pík."
      ]
    },
    {
      "cell_type": "markdown",
      "metadata": {
        "id": "q43WR4llyIjK"
      },
      "source": [
        "## 4. Fitování píku\n",
        "\n",
        "Po spuštění se program pokusí nalézt optimální kombinaci gaussiánu a polynomu zvoleného stupně, která co nejlépe vystihujte spektrum ve zvolené oblasti. Nemusí se vám to povest napoprvé, v případě neúspěchu klidně začněte od 3. kroku."
      ]
    },
    {
      "cell_type": "code",
      "metadata": {
        "id": "P2qnMzX6XekC",
        "cellView": "form",
        "outputId": "859f2e4a-2389-47c2-8a06-2b6cb65461aa",
        "colab": {
          "base_uri": "https://localhost:8080/",
          "height": 875
        }
      },
      "source": [
        "#@title <-- Nafitujte vybraný pík\n",
        "\n",
        "from scipy.stats import norm\n",
        "from scipy.optimize import curve_fit\n",
        "from math import sqrt, exp, log\n",
        "\n",
        "# Subset df acc to ROI\n",
        "low, high = rs.value\n",
        "\n",
        "df_fit = df[np.logical_and(df.Energy_keV > low, df.Energy_keV < high)].copy()\n",
        "df_fit['Errors'] = np.sqrt(df_fit.Counts)\n",
        "\n",
        "# Dynamic definition of polynomial part\n",
        "bg_degree = 0\n",
        "while bg_buttons.value != bg_labels[bg_degree]:\n",
        "  bg_degree += 1\n",
        "\n",
        "init_polyvals = [0] * (bg_degree + 1)\n",
        "\n",
        "def bg_poly(x, a):\n",
        "  p = np.zeros_like(x)\n",
        "  for i in range(len(a)):\n",
        "    p = p*x + a[i]\n",
        "  return p\n",
        "\n",
        "def gauss(x, N0, mean, sigma):\n",
        "  return N0 * norm.pdf(x, mean, sigma)\n",
        "\n",
        "def gauss_and_bg(x, N0, mean, sigma, *polyvals):\n",
        "  return bg_poly(x, polyvals) + gauss(x, N0, mean, sigma)\n",
        "  \n",
        "popt, pcov = curve_fit(\n",
        "    gauss_and_bg, \n",
        "    df_fit.Energy_keV, \n",
        "    df_fit.Counts, \n",
        "    [1000,0.5*(high+low), 0.5*(high-low), *init_polyvals] \n",
        ")\n",
        "\n",
        "# Peak stats:\n",
        "N0 = np.sum(df_fit.Counts)\n",
        "sig2fwhm = 2*sqrt(2*log(2))\n",
        "peak_stats = pd.DataFrame(dict(\n",
        "    Parameter=['left_edge', 'right_edge','centroid', 'FWHM', 'N_total', 'N_peak', 'N_bg', 'Acc. time', 'Rate'],\n",
        "    Unit=['keV', 'keV', 'keV', 'keV', '', '', '', 's', 'Hz'],\n",
        "    Value=[low, high, popt[1], sig2fwhm*popt[2], N0, popt[0], N0 - popt[0], sample_time, popt[0]/sample_time],\n",
        "    Error=[None,None,sqrt(pcov[1,1]),sig2fwhm*sqrt(pcov[2,2]),None,sqrt(pcov[0,0]),None, 0, sqrt(pcov[0,0])/sample_time]\n",
        "))\n",
        "\n",
        "df_fit['Fit'] = df_fit.apply(lambda row: gauss_and_bg(row.Energy_keV, *popt), axis = 1)\n",
        "df_fit['Bg'] = df_fit.apply(lambda row: bg_poly(row.Energy_keV, popt[3:]), axis = 1)\n",
        "\n",
        "fig.add_trace(\n",
        "    go.Scatter(x=df_fit.Energy_keV, y=df_fit.Fit)\n",
        ")\n",
        "fig.add_trace(\n",
        "    go.Scatter(x=df_fit.Energy_keV, y=df_fit.Bg)\n",
        ")\n",
        "fig.show()\n",
        "\n",
        "print('PEAK FIT SUMMARY:')\n",
        "peak_stats"
      ],
      "execution_count": null,
      "outputs": [
        {
          "output_type": "display_data",
          "data": {
            "text/html": [
              "<html>\n",
              "<head><meta charset=\"utf-8\" /></head>\n",
              "<body>\n",
              "    <div>\n",
              "            <script src=\"https://cdnjs.cloudflare.com/ajax/libs/mathjax/2.7.5/MathJax.js?config=TeX-AMS-MML_SVG\"></script><script type=\"text/javascript\">if (window.MathJax) {MathJax.Hub.Config({SVG: {font: \"STIX-Web\"}});}</script>\n",
              "                <script type=\"text/javascript\">window.PlotlyConfig = {MathJaxConfig: 'local'};</script>\n",
              "        <script src=\"https://cdn.plot.ly/plotly-latest.min.js\"></script>    \n",
              "            <div id=\"b03ed7de-f36b-4c59-90d8-327a773a95a6\" class=\"plotly-graph-div\" style=\"height:525px; width:100%;\"></div>\n",
              "            <script type=\"text/javascript\">\n",
              "                \n",
              "                    window.PLOTLYENV=window.PLOTLYENV || {};\n",
              "                    \n",
              "                if (document.getElementById(\"b03ed7de-f36b-4c59-90d8-327a773a95a6\")) {\n",
              "                    Plotly.newPlot(\n",
              "                        'b03ed7de-f36b-4c59-90d8-327a773a95a6',\n",
              "                        [{\"name\": \"Background\", \"type\": \"scatter\", \"x\": [-0.33799999999999997, -0.125, 0.087, 0.3, 0.513, 0.725, 0.938, 1.15, 1.3630000000000002, 1.5759999999999998, 1.788, 2.001, 2.214, 2.426, 2.639, 2.852, 3.0639999999999996, 3.2769999999999997, 3.49, 3.702, 3.915, 4.128, 4.34, 4.553, 4.766, 4.978, 5.191, 5.404, 5.6160000000000005, 5.829, 6.042000000000001, 6.254, 6.4670000000000005, 6.68, 6.892, 7.105, 7.318, 7.53, 7.742999999999999, 7.956, 8.168, 8.381, 8.594, 8.806000000000001, 9.019, 9.232000000000001, 9.443999999999999, 9.657, 9.87, 10.082, 10.295, 10.508, 10.72, 10.933, 11.145999999999999, 11.357999999999999, 11.571, 11.784, 11.995999999999999, 12.209000000000001, 12.422, 12.634, 12.847000000000001, 13.06, 13.272, 13.485, 13.698, 13.91, 14.123, 14.335999999999999, 14.548, 14.761, 14.974, 15.186, 15.399000000000001, 15.610999999999999, 15.824000000000002, 16.037, 16.249000000000002, 16.462, 16.675, 16.887, 17.1, 17.313, 17.525, 17.738, 17.951, 18.163, 18.375999999999998, 18.589000000000002, 18.801, 19.014, 19.227, 19.439, 19.652, 19.865, 20.077, 20.29, 20.503, 20.715, 20.928, 21.141, 21.353, 21.566, 21.779, 21.991, 22.204, 22.416999999999998, 22.629, 22.842, 23.055, 23.267, 23.48, 23.693, 23.905, 24.118000000000002, 24.331, 24.543000000000003, 24.756, 24.969, 25.180999999999997, 25.394000000000002, 25.607, 25.819000000000003, 26.031999999999996, 26.245, 26.456999999999997, 26.67, 26.883000000000003, 27.095, 27.308000000000003, 27.521, 27.733, 27.945999999999998, 28.159000000000002, 28.371, 28.584, 28.796999999999997, 29.009, 29.221999999999998, 29.435, 29.647, 29.86, 30.072, 30.285, 30.498, 30.71, 30.923000000000002, 31.136, 31.348000000000003, 31.561, 31.774, 31.986, 32.199, 32.412, 32.624, 32.836999999999996, 33.05, 33.262, 33.475, 33.688, 33.9, 34.113, 34.326, 34.538000000000004, 34.751, 34.964, 35.176, 35.389, 35.602, 35.814, 36.027, 36.24, 36.452, 36.665, 36.878, 37.09, 37.303000000000004, 37.516, 37.728, 37.941, 38.154, 38.366, 38.579, 38.792, 39.004, 39.217, 39.43, 39.641999999999996, 39.855, 40.068000000000005, 40.28, 40.493, 40.705999999999996, 40.918, 41.131, 41.343999999999994, 41.556000000000004, 41.769, 41.982, 42.193999999999996, 42.407, 42.62, 42.832, 43.045, 43.258, 43.47, 43.683, 43.895, 44.108000000000004, 44.321000000000005, 44.533, 44.746, 44.958999999999996, 45.17100000000001, 45.38399999999999, 45.597, 45.809, 46.022, 46.235, 46.446999999999996, 46.66, 46.873000000000005, 47.085, 47.298, 47.511, 47.723, 47.93600000000001, 48.148999999999994, 48.361000000000004, 48.574, 48.787, 48.998999999999995, 49.211999999999996, 49.425, 49.637, 49.85, 50.063, 50.275, 50.488, 50.701, 50.913000000000004, 51.126000000000005, 51.339, 51.551, 51.763999999999996, 51.977, 52.18899999999999, 52.402, 52.615, 52.827, 53.04, 53.253, 53.465, 53.678000000000004, 53.891000000000005, 54.103, 54.316, 54.528999999999996, 54.74100000000001, 54.95399999999999, 55.167, 55.379, 55.592, 55.805, 56.016999999999996, 56.23, 56.443000000000005, 56.655, 56.868, 57.081, 57.293, 57.506, 57.718999999999994, 57.931000000000004, 58.144, 58.356, 58.568999999999996, 58.782, 58.994, 59.207, 59.42, 59.632, 59.845, 60.058, 60.27, 60.483000000000004, 60.696000000000005, 60.908, 61.121, 61.333999999999996, 61.54600000000001, 61.75899999999999, 61.972, 62.184, 62.397, 62.61, 62.821999999999996, 63.035, 63.248000000000005, 63.46, 63.673, 63.886, 64.098, 64.311, 64.524, 64.736, 64.949, 65.16199999999999, 65.374, 65.587, 65.8, 66.012, 66.225, 66.438, 66.65, 66.863, 67.07600000000001, 67.288, 67.501, 67.714, 67.926, 68.139, 68.352, 68.564, 68.777, 68.99, 69.202, 69.415, 69.628, 69.84, 70.053, 70.266, 70.47800000000001, 70.691, 70.904, 71.116, 71.329, 71.542, 71.75399999999999, 71.967, 72.18, 72.392, 72.605, 72.817, 73.03, 73.243, 73.455, 73.668, 73.881, 74.093, 74.306, 74.51899999999999, 74.73100000000001, 74.944, 75.157, 75.369, 75.582, 75.795, 76.007, 76.22, 76.433, 76.645, 76.858, 77.071, 77.283, 77.49600000000001, 77.709, 77.921, 78.134, 78.347, 78.559, 78.77199999999999, 78.985, 79.197, 79.41, 79.623, 79.835, 80.048, 80.26100000000001, 80.473, 80.686, 80.899, 81.111, 81.324, 81.53699999999999, 81.749, 81.962, 82.175, 82.387, 82.6, 82.81299999999999, 83.025, 83.238, 83.45100000000001, 83.663, 83.876, 84.089, 84.301, 84.514], \"y\": [0, 0, 0, 0, 0, 479, 356, 237, 151, 90, 48, 26, 11, 4, 2, 2, 0, 1, 1, 1, 2, 2, 2, 3, 3, 3, 4, 4, 7, 8, 10, 12, 15, 21, 21, 22, 28, 30, 30, 35, 36, 31, 35, 32, 26, 32, 29, 33, 37, 42, 46, 44, 47, 46, 44, 41, 39, 42, 49, 52, 58, 64, 72, 75, 79, 73, 76, 68, 66, 62, 50, 45, 48, 43, 42, 48, 56, 65, 75, 87, 95, 112, 110, 114, 106, 98, 85, 61, 58, 49, 42, 41, 36, 37, 39, 44, 41, 46, 44, 40, 40, 34, 29, 28, 23, 20, 15, 15, 15, 14, 16, 16, 19, 22, 26, 30, 34, 36, 39, 42, 44, 39, 40, 35, 35, 30, 25, 24, 18, 18, 15, 16, 13, 12, 14, 14, 15, 12, 13, 13, 13, 13, 11, 10, 13, 11, 11, 11, 12, 12, 13, 12, 13, 13, 12, 15, 13, 12, 14, 12, 15, 17, 14, 14, 16, 14, 15, 16, 17, 19, 22, 22, 22, 21, 26, 24, 30, 28, 29, 36, 35, 39, 39, 45, 47, 45, 53, 48, 54, 60, 64, 63, 75, 76, 81, 89, 88, 90, 107, 112, 109, 124, 121, 136, 139, 146, 153, 158, 160, 162, 170, 167, 183, 176, 185, 184, 195, 190, 197, 207, 210, 226, 235, 246, 252, 276, 290, 304, 332, 347, 392, 431, 480, 515, 575, 623, 667, 722, 767, 804, 854, 871, 905, 920, 953, 955, 992, 981, 966, 946, 983, 957, 954, 929, 910, 873, 868, 817, 815, 773, 741, 735, 691, 679, 645, 613, 586, 553, 509, 506, 463, 455, 423, 406, 432, 441, 496, 563, 642, 720, 725, 729, 672, 570, 442, 324, 223, 146, 88, 54, 39, 27, 21, 20, 20, 21, 22, 21, 22, 21, 21, 21, 21, 21, 24, 21, 22, 22, 21, 21, 22, 22, 20, 21, 20, 21, 22, 23, 22, 21, 23, 21, 23, 21, 23, 23, 22, 21, 22, 24, 23, 21, 23, 21, 24, 24, 24, 25, 25, 25, 26, 26, 28, 29, 30, 29, 28, 30, 29, 28, 32, 31, 36, 36, 35, 31, 33, 26, 30, 31, 26, 25, 24, 24, 27, 25, 30, 26, 24, 24, 24, 23, 26, 24, 25, 25, 20, 26, 23, 27, 22, 24, 23, 23, 26, 22, 25, 26, 24, 24, 25, 24, 23, 26, 28, 27, 25, 25, 24, 27]}, {\"name\": \"Sample\", \"type\": \"scatter\", \"x\": [-0.33799999999999997, -0.125, 0.087, 0.3, 0.513, 0.725, 0.938, 1.15, 1.3630000000000002, 1.5759999999999998, 1.788, 2.001, 2.214, 2.426, 2.639, 2.852, 3.0639999999999996, 3.2769999999999997, 3.49, 3.702, 3.915, 4.128, 4.34, 4.553, 4.766, 4.978, 5.191, 5.404, 5.6160000000000005, 5.829, 6.042000000000001, 6.254, 6.4670000000000005, 6.68, 6.892, 7.105, 7.318, 7.53, 7.742999999999999, 7.956, 8.168, 8.381, 8.594, 8.806000000000001, 9.019, 9.232000000000001, 9.443999999999999, 9.657, 9.87, 10.082, 10.295, 10.508, 10.72, 10.933, 11.145999999999999, 11.357999999999999, 11.571, 11.784, 11.995999999999999, 12.209000000000001, 12.422, 12.634, 12.847000000000001, 13.06, 13.272, 13.485, 13.698, 13.91, 14.123, 14.335999999999999, 14.548, 14.761, 14.974, 15.186, 15.399000000000001, 15.610999999999999, 15.824000000000002, 16.037, 16.249000000000002, 16.462, 16.675, 16.887, 17.1, 17.313, 17.525, 17.738, 17.951, 18.163, 18.375999999999998, 18.589000000000002, 18.801, 19.014, 19.227, 19.439, 19.652, 19.865, 20.077, 20.29, 20.503, 20.715, 20.928, 21.141, 21.353, 21.566, 21.779, 21.991, 22.204, 22.416999999999998, 22.629, 22.842, 23.055, 23.267, 23.48, 23.693, 23.905, 24.118000000000002, 24.331, 24.543000000000003, 24.756, 24.969, 25.180999999999997, 25.394000000000002, 25.607, 25.819000000000003, 26.031999999999996, 26.245, 26.456999999999997, 26.67, 26.883000000000003, 27.095, 27.308000000000003, 27.521, 27.733, 27.945999999999998, 28.159000000000002, 28.371, 28.584, 28.796999999999997, 29.009, 29.221999999999998, 29.435, 29.647, 29.86, 30.072, 30.285, 30.498, 30.71, 30.923000000000002, 31.136, 31.348000000000003, 31.561, 31.774, 31.986, 32.199, 32.412, 32.624, 32.836999999999996, 33.05, 33.262, 33.475, 33.688, 33.9, 34.113, 34.326, 34.538000000000004, 34.751, 34.964, 35.176, 35.389, 35.602, 35.814, 36.027, 36.24, 36.452, 36.665, 36.878, 37.09, 37.303000000000004, 37.516, 37.728, 37.941, 38.154, 38.366, 38.579, 38.792, 39.004, 39.217, 39.43, 39.641999999999996, 39.855, 40.068000000000005, 40.28, 40.493, 40.705999999999996, 40.918, 41.131, 41.343999999999994, 41.556000000000004, 41.769, 41.982, 42.193999999999996, 42.407, 42.62, 42.832, 43.045, 43.258, 43.47, 43.683, 43.895, 44.108000000000004, 44.321000000000005, 44.533, 44.746, 44.958999999999996, 45.17100000000001, 45.38399999999999, 45.597, 45.809, 46.022, 46.235, 46.446999999999996, 46.66, 46.873000000000005, 47.085, 47.298, 47.511, 47.723, 47.93600000000001, 48.148999999999994, 48.361000000000004, 48.574, 48.787, 48.998999999999995, 49.211999999999996, 49.425, 49.637, 49.85, 50.063, 50.275, 50.488, 50.701, 50.913000000000004, 51.126000000000005, 51.339, 51.551, 51.763999999999996, 51.977, 52.18899999999999, 52.402, 52.615, 52.827, 53.04, 53.253, 53.465, 53.678000000000004, 53.891000000000005, 54.103, 54.316, 54.528999999999996, 54.74100000000001, 54.95399999999999, 55.167, 55.379, 55.592, 55.805, 56.016999999999996, 56.23, 56.443000000000005, 56.655, 56.868, 57.081, 57.293, 57.506, 57.718999999999994, 57.931000000000004, 58.144, 58.356, 58.568999999999996, 58.782, 58.994, 59.207, 59.42, 59.632, 59.845, 60.058, 60.27, 60.483000000000004, 60.696000000000005, 60.908, 61.121, 61.333999999999996, 61.54600000000001, 61.75899999999999, 61.972, 62.184, 62.397, 62.61, 62.821999999999996, 63.035, 63.248000000000005, 63.46, 63.673, 63.886, 64.098, 64.311, 64.524, 64.736, 64.949, 65.16199999999999, 65.374, 65.587, 65.8, 66.012, 66.225, 66.438, 66.65, 66.863, 67.07600000000001, 67.288, 67.501, 67.714, 67.926, 68.139, 68.352, 68.564, 68.777, 68.99, 69.202, 69.415, 69.628, 69.84, 70.053, 70.266, 70.47800000000001, 70.691, 70.904, 71.116, 71.329, 71.542, 71.75399999999999, 71.967, 72.18, 72.392, 72.605, 72.817, 73.03, 73.243, 73.455, 73.668, 73.881, 74.093, 74.306, 74.51899999999999, 74.73100000000001, 74.944, 75.157, 75.369, 75.582, 75.795, 76.007, 76.22, 76.433, 76.645, 76.858, 77.071, 77.283, 77.49600000000001, 77.709, 77.921, 78.134, 78.347, 78.559, 78.77199999999999, 78.985, 79.197, 79.41, 79.623, 79.835, 80.048, 80.26100000000001, 80.473, 80.686, 80.899, 81.111, 81.324, 81.53699999999999, 81.749, 81.962, 82.175, 82.387, 82.6, 82.81299999999999, 83.025, 83.238, 83.45100000000001, 83.663, 83.876, 84.089, 84.301, 84.514], \"y\": [0, 0, 0, 0, 0, 750, 586, 385, 240, 159, 69, 46, 18, 8, 4, 0, 0, 1, 1, 0, 3, 2, 2, 4, 7, 5, 6, 11, 12, 12, 19, 24, 20, 27, 32, 30, 48, 41, 49, 46, 58, 80, 59, 55, 69, 78, 97, 94, 112, 107, 140, 120, 134, 111, 103, 87, 86, 68, 68, 83, 99, 88, 110, 126, 120, 117, 118, 112, 111, 79, 82, 73, 64, 56, 71, 63, 74, 96, 104, 105, 144, 171, 182, 161, 181, 181, 140, 142, 132, 168, 215, 280, 385, 546, 705, 842, 933, 958, 943, 806, 632, 492, 382, 309, 264, 214, 242, 229, 235, 258, 246, 214, 182, 140, 141, 93, 50, 66, 66, 54, 57, 35, 43, 44, 41, 39, 46, 40, 29, 23, 21, 36, 22, 16, 18, 19, 11, 10, 21, 19, 14, 16, 17, 17, 18, 22, 25, 21, 16, 20, 20, 16, 13, 22, 13, 15, 12, 31, 24, 15, 13, 19, 19, 29, 16, 16, 12, 16, 19, 22, 30, 24, 31, 33, 25, 35, 33, 49, 33, 33, 45, 42, 51, 50, 56, 55, 62, 61, 73, 64, 64, 107, 100, 98, 117, 111, 114, 119, 107, 132, 151, 149, 140, 166, 157, 197, 186, 186, 223, 217, 194, 214, 207, 211, 217, 239, 233, 234, 257, 234, 260, 262, 283, 289, 315, 351, 346, 375, 404, 457, 511, 514, 621, 667, 738, 794, 824, 923, 933, 1015, 1040, 1063, 1102, 1078, 1108, 1187, 1074, 1124, 1147, 1111, 1103, 1123, 1160, 1175, 1048, 1133, 1148, 1079, 1065, 1035, 1059, 1060, 1005, 1021, 1018, 894, 909, 871, 833, 795, 740, 728, 708, 672, 650, 651, 781, 870, 1041, 1115, 1212, 1163, 1074, 964, 770, 568, 387, 273, 186, 90, 66, 44, 39, 30, 30, 25, 27, 25, 31, 23, 41, 32, 35, 30, 31, 32, 33, 30, 28, 30, 30, 36, 45, 31, 31, 35, 39, 44, 37, 22, 38, 29, 31, 28, 40, 46, 29, 39, 31, 22, 40, 58, 39, 36, 41, 34, 41, 49, 33, 45, 43, 39, 36, 53, 37, 46, 43, 41, 47, 44, 63, 53, 49, 47, 56, 56, 42, 58, 44, 42, 50, 21, 43, 36, 39, 30, 32, 36, 38, 42, 35, 26, 32, 35, 32, 41, 40, 33, 48, 42, 33, 28, 36, 28, 41, 36, 34, 40, 31, 37, 30, 42, 31, 43, 48, 33, 37, 42, 39, 34]}, {\"type\": \"scatter\", \"x\": [17.525, 17.738, 17.951, 18.163, 18.375999999999998, 18.589000000000002, 18.801, 19.014, 19.227, 19.439, 19.652, 19.865, 20.077, 20.29, 20.503, 20.715, 20.928, 21.141, 21.353, 21.566, 21.779, 21.991, 22.204, 22.416999999999998, 22.629], \"y\": [142.69863932762556, 146.52155134403904, 150.94044433354762, 157.02764854157758, 167.39058963083525, 187.0342229529589, 223.91496277487204, 288.7787028879137, 390.33900570858566, 528.3324315608385, 689.5308985846758, 842.5317844892129, 948.2436493215353, 977.0112523265661, 920.1965044507364, 797.3707735437035, 643.49384081799, 496.07926025221116, 379.9892116522751, 301.7408086835302, 257.05050079437086, 235.78046419207502, 228.00387833386435, 227.02645672087814, 228.97251619951584]}, {\"type\": \"scatter\", \"x\": [17.525, 17.738, 17.951, 18.163, 18.375999999999998, 18.589000000000002, 18.801, 19.014, 19.227, 19.439, 19.652, 19.865, 20.077, 20.29, 20.503, 20.715, 20.928, 21.141, 21.353, 21.566, 21.779, 21.991, 22.204, 22.416999999999998, 22.629], \"y\": [142.61486451886483, 146.189519444622, 149.76417437037915, 153.32204687864444, 156.89670180440154, 160.47135673015876, 164.029229238424, 167.60388416418115, 171.1785390899383, 174.7364115982036, 178.31106652396076, 181.8857214497178, 185.4435939579832, 189.0182488837403, 192.59290380949741, 196.15077631776276, 199.72543124351992, 203.30008616927697, 206.85795867754237, 210.43261360329942, 214.00726852905657, 217.56514103732192, 221.13979596307902, 224.71445088883613, 228.27232339710153]}],\n",
              "                        {\"shapes\": [{\"fillcolor\": \"#d3d3d3\", \"opacity\": 0.2, \"type\": \"rect\", \"x0\": 17.462, \"x1\": 22.662, \"xref\": \"x\", \"y0\": 0, \"y1\": 1, \"yref\": \"paper\"}], \"template\": {\"data\": {\"bar\": [{\"error_x\": {\"color\": \"#2a3f5f\"}, \"error_y\": {\"color\": \"#2a3f5f\"}, \"marker\": {\"line\": {\"color\": \"#E5ECF6\", \"width\": 0.5}}, \"type\": \"bar\"}], \"barpolar\": [{\"marker\": {\"line\": {\"color\": \"#E5ECF6\", \"width\": 0.5}}, \"type\": \"barpolar\"}], \"carpet\": [{\"aaxis\": {\"endlinecolor\": \"#2a3f5f\", \"gridcolor\": \"white\", \"linecolor\": \"white\", \"minorgridcolor\": \"white\", \"startlinecolor\": \"#2a3f5f\"}, \"baxis\": {\"endlinecolor\": \"#2a3f5f\", \"gridcolor\": \"white\", \"linecolor\": \"white\", \"minorgridcolor\": \"white\", \"startlinecolor\": \"#2a3f5f\"}, \"type\": \"carpet\"}], \"choropleth\": [{\"colorbar\": {\"outlinewidth\": 0, \"ticks\": \"\"}, \"type\": \"choropleth\"}], \"contour\": [{\"colorbar\": {\"outlinewidth\": 0, \"ticks\": \"\"}, \"colorscale\": [[0.0, \"#0d0887\"], [0.1111111111111111, \"#46039f\"], [0.2222222222222222, \"#7201a8\"], [0.3333333333333333, \"#9c179e\"], [0.4444444444444444, \"#bd3786\"], [0.5555555555555556, \"#d8576b\"], [0.6666666666666666, \"#ed7953\"], [0.7777777777777778, \"#fb9f3a\"], [0.8888888888888888, \"#fdca26\"], [1.0, \"#f0f921\"]], \"type\": \"contour\"}], \"contourcarpet\": [{\"colorbar\": {\"outlinewidth\": 0, \"ticks\": \"\"}, \"type\": \"contourcarpet\"}], \"heatmap\": [{\"colorbar\": {\"outlinewidth\": 0, \"ticks\": \"\"}, \"colorscale\": [[0.0, \"#0d0887\"], [0.1111111111111111, \"#46039f\"], [0.2222222222222222, \"#7201a8\"], [0.3333333333333333, \"#9c179e\"], [0.4444444444444444, \"#bd3786\"], [0.5555555555555556, \"#d8576b\"], [0.6666666666666666, \"#ed7953\"], [0.7777777777777778, \"#fb9f3a\"], [0.8888888888888888, \"#fdca26\"], [1.0, \"#f0f921\"]], \"type\": \"heatmap\"}], \"heatmapgl\": [{\"colorbar\": {\"outlinewidth\": 0, \"ticks\": \"\"}, \"colorscale\": [[0.0, \"#0d0887\"], [0.1111111111111111, \"#46039f\"], [0.2222222222222222, \"#7201a8\"], [0.3333333333333333, \"#9c179e\"], [0.4444444444444444, \"#bd3786\"], [0.5555555555555556, \"#d8576b\"], [0.6666666666666666, \"#ed7953\"], [0.7777777777777778, \"#fb9f3a\"], [0.8888888888888888, \"#fdca26\"], [1.0, \"#f0f921\"]], \"type\": \"heatmapgl\"}], \"histogram\": [{\"marker\": {\"colorbar\": {\"outlinewidth\": 0, \"ticks\": \"\"}}, \"type\": \"histogram\"}], \"histogram2d\": [{\"colorbar\": {\"outlinewidth\": 0, \"ticks\": \"\"}, \"colorscale\": [[0.0, \"#0d0887\"], [0.1111111111111111, \"#46039f\"], [0.2222222222222222, \"#7201a8\"], [0.3333333333333333, \"#9c179e\"], [0.4444444444444444, \"#bd3786\"], [0.5555555555555556, \"#d8576b\"], [0.6666666666666666, \"#ed7953\"], [0.7777777777777778, \"#fb9f3a\"], [0.8888888888888888, \"#fdca26\"], [1.0, \"#f0f921\"]], \"type\": \"histogram2d\"}], \"histogram2dcontour\": [{\"colorbar\": {\"outlinewidth\": 0, \"ticks\": \"\"}, \"colorscale\": [[0.0, \"#0d0887\"], [0.1111111111111111, \"#46039f\"], [0.2222222222222222, \"#7201a8\"], [0.3333333333333333, \"#9c179e\"], [0.4444444444444444, \"#bd3786\"], [0.5555555555555556, \"#d8576b\"], [0.6666666666666666, \"#ed7953\"], [0.7777777777777778, \"#fb9f3a\"], [0.8888888888888888, \"#fdca26\"], [1.0, \"#f0f921\"]], \"type\": \"histogram2dcontour\"}], \"mesh3d\": [{\"colorbar\": {\"outlinewidth\": 0, \"ticks\": \"\"}, \"type\": \"mesh3d\"}], \"parcoords\": [{\"line\": {\"colorbar\": {\"outlinewidth\": 0, \"ticks\": \"\"}}, \"type\": \"parcoords\"}], \"pie\": [{\"automargin\": true, \"type\": \"pie\"}], \"scatter\": [{\"marker\": {\"colorbar\": {\"outlinewidth\": 0, \"ticks\": \"\"}}, \"type\": \"scatter\"}], \"scatter3d\": [{\"line\": {\"colorbar\": {\"outlinewidth\": 0, \"ticks\": \"\"}}, \"marker\": {\"colorbar\": {\"outlinewidth\": 0, \"ticks\": \"\"}}, \"type\": \"scatter3d\"}], \"scattercarpet\": [{\"marker\": {\"colorbar\": {\"outlinewidth\": 0, \"ticks\": \"\"}}, \"type\": \"scattercarpet\"}], \"scattergeo\": [{\"marker\": {\"colorbar\": {\"outlinewidth\": 0, \"ticks\": \"\"}}, \"type\": \"scattergeo\"}], \"scattergl\": [{\"marker\": {\"colorbar\": {\"outlinewidth\": 0, \"ticks\": \"\"}}, \"type\": \"scattergl\"}], \"scattermapbox\": [{\"marker\": {\"colorbar\": {\"outlinewidth\": 0, \"ticks\": \"\"}}, \"type\": \"scattermapbox\"}], \"scatterpolar\": [{\"marker\": {\"colorbar\": {\"outlinewidth\": 0, \"ticks\": \"\"}}, \"type\": \"scatterpolar\"}], \"scatterpolargl\": [{\"marker\": {\"colorbar\": {\"outlinewidth\": 0, \"ticks\": \"\"}}, \"type\": \"scatterpolargl\"}], \"scatterternary\": [{\"marker\": {\"colorbar\": {\"outlinewidth\": 0, \"ticks\": \"\"}}, \"type\": \"scatterternary\"}], \"surface\": [{\"colorbar\": {\"outlinewidth\": 0, \"ticks\": \"\"}, \"colorscale\": [[0.0, \"#0d0887\"], [0.1111111111111111, \"#46039f\"], [0.2222222222222222, \"#7201a8\"], [0.3333333333333333, \"#9c179e\"], [0.4444444444444444, \"#bd3786\"], [0.5555555555555556, \"#d8576b\"], [0.6666666666666666, \"#ed7953\"], [0.7777777777777778, \"#fb9f3a\"], [0.8888888888888888, \"#fdca26\"], [1.0, \"#f0f921\"]], \"type\": \"surface\"}], \"table\": [{\"cells\": {\"fill\": {\"color\": \"#EBF0F8\"}, \"line\": {\"color\": \"white\"}}, \"header\": {\"fill\": {\"color\": \"#C8D4E3\"}, \"line\": {\"color\": \"white\"}}, \"type\": \"table\"}]}, \"layout\": {\"annotationdefaults\": {\"arrowcolor\": \"#2a3f5f\", \"arrowhead\": 0, \"arrowwidth\": 1}, \"coloraxis\": {\"colorbar\": {\"outlinewidth\": 0, \"ticks\": \"\"}}, \"colorscale\": {\"diverging\": [[0, \"#8e0152\"], [0.1, \"#c51b7d\"], [0.2, \"#de77ae\"], [0.3, \"#f1b6da\"], [0.4, \"#fde0ef\"], [0.5, \"#f7f7f7\"], [0.6, \"#e6f5d0\"], [0.7, \"#b8e186\"], [0.8, \"#7fbc41\"], [0.9, \"#4d9221\"], [1, \"#276419\"]], \"sequential\": [[0.0, \"#0d0887\"], [0.1111111111111111, \"#46039f\"], [0.2222222222222222, \"#7201a8\"], [0.3333333333333333, \"#9c179e\"], [0.4444444444444444, \"#bd3786\"], [0.5555555555555556, \"#d8576b\"], [0.6666666666666666, \"#ed7953\"], [0.7777777777777778, \"#fb9f3a\"], [0.8888888888888888, \"#fdca26\"], [1.0, \"#f0f921\"]], \"sequentialminus\": [[0.0, \"#0d0887\"], [0.1111111111111111, \"#46039f\"], [0.2222222222222222, \"#7201a8\"], [0.3333333333333333, \"#9c179e\"], [0.4444444444444444, \"#bd3786\"], [0.5555555555555556, \"#d8576b\"], [0.6666666666666666, \"#ed7953\"], [0.7777777777777778, \"#fb9f3a\"], [0.8888888888888888, \"#fdca26\"], [1.0, \"#f0f921\"]]}, \"colorway\": [\"#636efa\", \"#EF553B\", \"#00cc96\", \"#ab63fa\", \"#FFA15A\", \"#19d3f3\", \"#FF6692\", \"#B6E880\", \"#FF97FF\", \"#FECB52\"], \"font\": {\"color\": \"#2a3f5f\"}, \"geo\": {\"bgcolor\": \"white\", \"lakecolor\": \"white\", \"landcolor\": \"#E5ECF6\", \"showlakes\": true, \"showland\": true, \"subunitcolor\": \"white\"}, \"hoverlabel\": {\"align\": \"left\"}, \"hovermode\": \"closest\", \"mapbox\": {\"style\": \"light\"}, \"paper_bgcolor\": \"white\", \"plot_bgcolor\": \"#E5ECF6\", \"polar\": {\"angularaxis\": {\"gridcolor\": \"white\", \"linecolor\": \"white\", \"ticks\": \"\"}, \"bgcolor\": \"#E5ECF6\", \"radialaxis\": {\"gridcolor\": \"white\", \"linecolor\": \"white\", \"ticks\": \"\"}}, \"scene\": {\"xaxis\": {\"backgroundcolor\": \"#E5ECF6\", \"gridcolor\": \"white\", \"gridwidth\": 2, \"linecolor\": \"white\", \"showbackground\": true, \"ticks\": \"\", \"zerolinecolor\": \"white\"}, \"yaxis\": {\"backgroundcolor\": \"#E5ECF6\", \"gridcolor\": \"white\", \"gridwidth\": 2, \"linecolor\": \"white\", \"showbackground\": true, \"ticks\": \"\", \"zerolinecolor\": \"white\"}, \"zaxis\": {\"backgroundcolor\": \"#E5ECF6\", \"gridcolor\": \"white\", \"gridwidth\": 2, \"linecolor\": \"white\", \"showbackground\": true, \"ticks\": \"\", \"zerolinecolor\": \"white\"}}, \"shapedefaults\": {\"line\": {\"color\": \"#2a3f5f\"}}, \"ternary\": {\"aaxis\": {\"gridcolor\": \"white\", \"linecolor\": \"white\", \"ticks\": \"\"}, \"baxis\": {\"gridcolor\": \"white\", \"linecolor\": \"white\", \"ticks\": \"\"}, \"bgcolor\": \"#E5ECF6\", \"caxis\": {\"gridcolor\": \"white\", \"linecolor\": \"white\", \"ticks\": \"\"}}, \"title\": {\"x\": 0.05}, \"xaxis\": {\"automargin\": true, \"gridcolor\": \"white\", \"linecolor\": \"white\", \"ticks\": \"\", \"title\": {\"standoff\": 15}, \"zerolinecolor\": \"white\", \"zerolinewidth\": 2}, \"yaxis\": {\"automargin\": true, \"gridcolor\": \"white\", \"linecolor\": \"white\", \"ticks\": \"\", \"title\": {\"standoff\": 15}, \"zerolinecolor\": \"white\", \"zerolinewidth\": 2}}}, \"title\": {\"text\": \"Spektrum a pozad\\u00ed\"}},\n",
              "                        {\"responsive\": true}\n",
              "                    ).then(function(){\n",
              "                            \n",
              "var gd = document.getElementById('b03ed7de-f36b-4c59-90d8-327a773a95a6');\n",
              "var x = new MutationObserver(function (mutations, observer) {{\n",
              "        var display = window.getComputedStyle(gd).display;\n",
              "        if (!display || display === 'none') {{\n",
              "            console.log([gd, 'removed!']);\n",
              "            Plotly.purge(gd);\n",
              "            observer.disconnect();\n",
              "        }}\n",
              "}});\n",
              "\n",
              "// Listen for the removal of the full notebook cells\n",
              "var notebookContainer = gd.closest('#notebook-container');\n",
              "if (notebookContainer) {{\n",
              "    x.observe(notebookContainer, {childList: true});\n",
              "}}\n",
              "\n",
              "// Listen for the clearing of the current output cell\n",
              "var outputEl = gd.closest('.output');\n",
              "if (outputEl) {{\n",
              "    x.observe(outputEl, {childList: true});\n",
              "}}\n",
              "\n",
              "                        })\n",
              "                };\n",
              "                \n",
              "            </script>\n",
              "        </div>\n",
              "</body>\n",
              "</html>"
            ]
          },
          "metadata": {
            "tags": []
          }
        },
        {
          "output_type": "stream",
          "text": [
            "PEAK FIT SUMMARY:\n"
          ],
          "name": "stdout"
        },
        {
          "output_type": "execute_result",
          "data": {
            "text/html": [
              "<div>\n",
              "<style scoped>\n",
              "    .dataframe tbody tr th:only-of-type {\n",
              "        vertical-align: middle;\n",
              "    }\n",
              "\n",
              "    .dataframe tbody tr th {\n",
              "        vertical-align: top;\n",
              "    }\n",
              "\n",
              "    .dataframe thead th {\n",
              "        text-align: right;\n",
              "    }\n",
              "</style>\n",
              "<table border=\"1\" class=\"dataframe\">\n",
              "  <thead>\n",
              "    <tr style=\"text-align: right;\">\n",
              "      <th></th>\n",
              "      <th>Parameter</th>\n",
              "      <th>Unit</th>\n",
              "      <th>Value</th>\n",
              "      <th>Error</th>\n",
              "    </tr>\n",
              "  </thead>\n",
              "  <tbody>\n",
              "    <tr>\n",
              "      <th>0</th>\n",
              "      <td>left_edge</td>\n",
              "      <td>keV</td>\n",
              "      <td>17.462000</td>\n",
              "      <td>NaN</td>\n",
              "    </tr>\n",
              "    <tr>\n",
              "      <th>1</th>\n",
              "      <td>right_edge</td>\n",
              "      <td>keV</td>\n",
              "      <td>22.662000</td>\n",
              "      <td>NaN</td>\n",
              "    </tr>\n",
              "    <tr>\n",
              "      <th>2</th>\n",
              "      <td>centroid</td>\n",
              "      <td>keV</td>\n",
              "      <td>20.245171</td>\n",
              "      <td>0.010381</td>\n",
              "    </tr>\n",
              "    <tr>\n",
              "      <th>3</th>\n",
              "      <td>FWHM</td>\n",
              "      <td>keV</td>\n",
              "      <td>1.497237</td>\n",
              "      <td>0.028546</td>\n",
              "    </tr>\n",
              "    <tr>\n",
              "      <th>4</th>\n",
              "      <td>N_total</td>\n",
              "      <td></td>\n",
              "      <td>10556.000000</td>\n",
              "      <td>NaN</td>\n",
              "    </tr>\n",
              "    <tr>\n",
              "      <th>5</th>\n",
              "      <td>N_peak</td>\n",
              "      <td></td>\n",
              "      <td>1258.996363</td>\n",
              "      <td>27.529142</td>\n",
              "    </tr>\n",
              "    <tr>\n",
              "      <th>6</th>\n",
              "      <td>N_bg</td>\n",
              "      <td></td>\n",
              "      <td>9297.003637</td>\n",
              "      <td>NaN</td>\n",
              "    </tr>\n",
              "    <tr>\n",
              "      <th>7</th>\n",
              "      <td>Acc. time</td>\n",
              "      <td>s</td>\n",
              "      <td>101.000000</td>\n",
              "      <td>0.000000</td>\n",
              "    </tr>\n",
              "    <tr>\n",
              "      <th>8</th>\n",
              "      <td>Rate</td>\n",
              "      <td>Hz</td>\n",
              "      <td>12.465311</td>\n",
              "      <td>0.272566</td>\n",
              "    </tr>\n",
              "  </tbody>\n",
              "</table>\n",
              "</div>"
            ],
            "text/plain": [
              "    Parameter Unit         Value      Error\n",
              "0   left_edge  keV     17.462000        NaN\n",
              "1  right_edge  keV     22.662000        NaN\n",
              "2    centroid  keV     20.245171   0.010381\n",
              "3        FWHM  keV      1.497237   0.028546\n",
              "4     N_total       10556.000000        NaN\n",
              "5      N_peak        1258.996363  27.529142\n",
              "6        N_bg        9297.003637        NaN\n",
              "7   Acc. time    s    101.000000   0.000000\n",
              "8        Rate   Hz     12.465311   0.272566"
            ]
          },
          "metadata": {
            "tags": []
          },
          "execution_count": 5
        }
      ]
    },
    {
      "cell_type": "markdown",
      "metadata": {
        "id": "-6fOyEH6IX9V"
      },
      "source": [
        "Může se stát, že fit neskonverguje nebo bude špatný. V takovém případě \n",
        "* zkuste mírně změnit výběr oblasti fitování ve 3. kroku\n",
        "* zkuste jiný tvar pozadí\n",
        "\n",
        "Postup můžete opakovat pro další píky i bez resetování notebooku, od 3. kroku. Pokud se chcete zbavit předchozích fitů, vymažte výstup ve 3. kroku kliknutím na symbol pod spouštěcí šipkou.\n",
        "\n",
        "**Důležité** Tabulka parametrů píku se dalším fitem přepíše, takže si ji zkopírujte, než přejdete k novému spektru."
      ]
    }
  ]
}