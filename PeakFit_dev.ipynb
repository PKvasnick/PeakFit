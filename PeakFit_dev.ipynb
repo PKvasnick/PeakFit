{
  "nbformat": 4,
  "nbformat_minor": 0,
  "metadata": {
    "colab": {
      "name": "PeakFit_dev.ipynb",
      "provenance": [],
      "collapsed_sections": [],
      "include_colab_link": true
    },
    "kernelspec": {
      "name": "python3",
      "display_name": "Python 3"
    }
  },
  "cells": [
    {
      "cell_type": "markdown",
      "metadata": {
        "id": "view-in-github",
        "colab_type": "text"
      },
      "source": [
        "<a href=\"https://colab.research.google.com/github/PKvasnick/PeakFit/blob/master/PeakFit_dev.ipynb\" target=\"_parent\"><img src=\"https://colab.research.google.com/assets/colab-badge.svg\" alt=\"Open In Colab\"/></a>"
      ]
    },
    {
      "cell_type": "markdown",
      "metadata": {
        "id": "nfTpf0BLJhoj"
      },
      "source": [
        "# Fitování píků\n",
        "\n",
        "Nacházíte se v Google Colab notebooku, který vám pomůže vybrat a nafitovat píky v spektru. Notebook sídlí v GitHub repozitáři na adrese `https://github.com/PKvasnick/PeakFit/blob/master/PeakFit_dev.ipynb`. Z repozitáře ho otevřete kliknutím na modré tlačítko `Open in Colab`.\n",
        "\n",
        "**Důležité**  Než začnete s notebookem cokoli dělat, vytvořte si vlastní kopii - z menu `File` vyberte jednu z možností `Save a Copy to...`. Tím nejen získáte lookálni kopii notebooku, kterou si případně můžete modifikovat dle libosti, ale také vytvoříte nové cloudové Pythonovské prostředí pro spouštění notebooku - tedy odlišné od těch, v nichž se práve pokouší spustit notebook vaši spolužáci. \n",
        "\n",
        "Jednotlivými kroky procházíte klikaním na trojúhelníčky ▷ v černém poli na levém okraji příslušných buněk. Pokud se spletete, \n",
        "\n",
        "* jestli chcete zopakovat poslední krok, klikněte na symbol pro odchod pod šipkou (změní se na x, když na něj najedete myší). Tím se vymaže předchozí výstup buňky. Pak znova klikněte na trojúhelníček pro opakované spuštění kódu tohoto kroku.\n",
        "* prostě celý notebook znova načtěte, nebo zvolte z menu `Runtime -> Restart Runtime` a začněte znovu. \n",
        "\n",
        "Pokud vás zajímá kód, kterým se realizují jednotlivé kroky, klikněte pravým tlačítkem do šedého pásu kolem trojúhelníčku, a zvolte `Form -> Show code`.\n",
        "\n",
        "Jakékoli stížnosti a připomínky prosím na `peter.kvasnicka@mff.cuni.cz`\n",
        "\n"
      ]
    },
    {
      "cell_type": "markdown",
      "metadata": {
        "id": "3Kz-GAIyeOxE"
      },
      "source": [
        "## 1. Načtení spektra vybraného vzorku a spektra pozadí\n",
        "V tomto kroku načtete ze soubovorého systému vašeho počítače datové soubory pro požadovaný vzorek a pro pozadí,`Vzorek-X_YYYs.dat` a `Vzorek-Ref_YYYs.dat`.\n",
        "\n",
        "Klikněte na trojúhelníček ▷ v černém poli v levém horném rohu u následujících dvou buněk, a když ikonka ožije, klikněte na `Prohledávat` a vyberte požadovaný soubor. "
      ]
    },
    {
      "cell_type": "code",
      "metadata": {
        "id": "8ldJhMfXkkVA",
        "cellView": "form"
      },
      "source": [
        "#@title <-- Načtěte z počítače soubor pro požadovaný vzorek\n",
        "\n",
        "import sys\n",
        "from io import StringIO\n",
        "from google.colab import files\n",
        "import numpy as np\n",
        "import pandas as pd\n",
        "\n",
        "def read_spectrum():\n",
        "  '''\n",
        "  Načte datový soubor ze souborového systému do Pandas\n",
        "  dataframu a z názvu dekóduje označení dat a čas měření.\n",
        "  Název souboru se očekává ve tvaru Vzorek-XXX_YYYs.txt.\n",
        "  '''\n",
        "  uploaded = files.upload() # Widget, vrací dict (název, obsah)\n",
        "  filename = list(uploaded.keys())[0]\n",
        "\n",
        "  # Parse filename\n",
        "  print('Reading data from: {}'.format(filename))\n",
        "  sample_id = filename[(filename.find('-')+1):filename.find('_')]\n",
        "  print('Sample id        : {}'.format(sample_id))\n",
        "  acc_time_str = filename[(filename.find('_')+1):filename.find('s.txt')]\n",
        "  acc_time = int(acc_time_str)\n",
        "  print('Acc. time        : {} sec'.format(acc_time))\n",
        "  df = pd.read_table(filename, sep = \" \")\n",
        "  print('Read {} rows.'.format(len(df)))\n",
        "  return sample_id, acc_time, df\n",
        "\n",
        "sample_id, sample_time, df = read_spectrum()"
      ],
      "execution_count": null,
      "outputs": []
    },
    {
      "cell_type": "code",
      "metadata": {
        "id": "FEqirY2Tilk1",
        "cellView": "form"
      },
      "source": [
        "#@title <-- Načtěte z počítače soubor pro pozadí\n",
        "\n",
        "bg_id, bg_time, bg_df = read_spectrum()\n",
        "\n",
        "# Kontrola\n",
        "if bg_id != 'Ref':\n",
        "  print('VAROVÁNÍ: Načtené spektrum není spektrum pozadí!')\n",
        "  print('Pokud jste se spletli, můžete tento krok zopakovat.')\n",
        "#\n",
        "\n",
        "\n",
        "\n"
      ],
      "execution_count": null,
      "outputs": []
    },
    {
      "cell_type": "markdown",
      "metadata": {
        "id": "S47pqR2LwPNI"
      },
      "source": [
        "## Sjednocení a zobrazení dat\n",
        "\n",
        "Pozadí je nutno přeškálovat podle doby měření, aby ho bylo možno odečíst od spektra vzorku. Pak si zobrazíme výslednou tabulku, abychom viděli, že se data načetla rozumně. "
      ]
    },
    {
      "cell_type": "code",
      "metadata": {
        "id": "PVccC89bIjRk",
        "cellView": "form"
      },
      "source": [
        "#@title <-- Sjednocení a zobrazení dat\n",
        "\n",
        "# Sjednotíme data - careful with data types\n",
        "# FIXME: Normalizing with a Bulgarian constant\n",
        "amplif = sample_time / bg_time\n",
        "df['Bg_counts'] = (bg_df.Counts * amplif + 0.5).astype(int)\n",
        "df['Net_counts'] = df.Counts - df.Bg_counts\n",
        "\n",
        "# Initial range for plot\n",
        "xmin = np.min(df.Energy_keV.values)\n",
        "xmax = np.max(df.Energy_keV.values)\n",
        "xm = 0.5 * (xmin + xmax)\n",
        "d = 0.5 * (xmax - xmin)\n",
        "x0 = xm - 0.5 * d\n",
        "x1 = xm + 0.5 * d\n",
        "\n",
        "df"
      ],
      "execution_count": null,
      "outputs": []
    },
    {
      "cell_type": "markdown",
      "metadata": {
        "id": "DXE5wP3MxRSc"
      },
      "source": [
        "## 3. Vykreslení spektra vzorku a blanku\n",
        "\n",
        "V tomto kroku si nakreslíme spektra vzroku, blanku a jejich rozdílu, abychom si mohli vybrat oblast, kde chceme nafitovat pík, a zvolit typ pozadí. "
      ]
    },
    {
      "cell_type": "code",
      "metadata": {
        "id": "Lt9tXtQ8nfli",
        "cellView": "form"
      },
      "source": [
        "#@title <-- V zobrazeném spektru vyberte oblast kolem píku (ROI) a zvolte tvar pozadí\n",
        "\n",
        "from plotly import graph_objects as go\n",
        "from IPython.display import display, clear_output\n",
        "import ipywidgets as widgets\n",
        "\n",
        "# Create figure\n",
        "fig = go.Figure()\n",
        "\n",
        "fig.add_trace(\n",
        "    go.Scatter(x=df.Energy_keV, y=df.Bg_counts, name='Blank', mode = 'lines', line_width = 0.7)\n",
        "    ).add_trace(\n",
        "    go.Scatter(x=df.Energy_keV, y=df.Counts, name='Sample', mode = 'lines', line_width = 0.7)\n",
        "    ).add_trace(\n",
        "    go.Scatter(x=df.Energy_keV, y=df.Net_counts, name='Net sample')\n",
        "    )\n",
        "\n",
        "# Set title\n",
        "fig.update_layout(\n",
        "    title_text=\"Spektrum vzorku a pozadí\"\n",
        ")\n",
        "\n",
        "# -------------------------------------------------------\n",
        "# Oblast ROI\n",
        "# -------------------------------------------------------\n",
        "\n",
        "fig.update_layout(\n",
        "    shapes = [\n",
        "      {\n",
        "        \"x0\": x0,\n",
        "        \"x1\": x1,\n",
        "        \"y0\": 0,\n",
        "        \"y1\": 1,\n",
        "        \"type\": \"rect\",\n",
        "        \"xref\": \"x\",\n",
        "        \"yref\": \"paper\",\n",
        "        \"opacity\": 0.2,\n",
        "        \"fillcolor\": \"#d3d3d3\"\n",
        "      }]\n",
        ")\n",
        "\n",
        "# -------------------------------------------------------\n",
        "# ROI slider\n",
        "# -------------------------------------------------------\n",
        "\n",
        "rs = widgets.FloatRangeSlider(\n",
        "    value=[x0, x1],\n",
        "    min=xmin,\n",
        "    max=xmax,\n",
        "    step=0.05,\n",
        "    description='ROI',\n",
        "    disabled=False,\n",
        "    continuous_update=False,\n",
        "    orientation='horizontal',\n",
        "    readout=True,\n",
        "    readout_format='.1f',\n",
        "    layout = widgets.Layout(width = '94%')\n",
        ")\n",
        "\n",
        "def on_range_update(slider):\n",
        "  fig.update_shapes(dict(x0 = rs.value[0], x1 = rs.value[1]))\n",
        "  clear_output()\n",
        "  fig.show()\n",
        "  display(rs)\n",
        "  display(bg_buttons)\n",
        "\n",
        "rs.observe(on_range_update)\n",
        "\n",
        "# -----------------------------------------------------------------------\n",
        "# Tvar pozadí\n",
        "# -----------------------------------------------------------------------\n",
        "bg_labels = ['Konstantní pozadí', \n",
        "             'Lineární pozadí', \n",
        "             'Kvadratické pozadí']\n",
        "\n",
        "output_radio_selected = widgets.Text('Kvadratické pozadí')\n",
        "\n",
        "bg_buttons = widgets.RadioButtons(\n",
        "    options=bg_labels,\n",
        "    value=bg_labels[2],\n",
        "    description='Typ pozadí:',\n",
        "    layout={'width': 'max-content'}, \n",
        "    disabled=False\n",
        ")\n",
        "\n",
        "def bg_buttons_observer(sender):\n",
        "    output_radio_selected.value = bg_buttons.value\n",
        "\n",
        "bg_buttons.observe(bg_buttons_observer, names=['value'])\n",
        "# -------------------------------------------------------\n",
        "# Vysypeme na displej\n",
        "# -------------------------------------------------------\n",
        "\n",
        "fig.show()\n",
        "display(rs)\n",
        "display(bg_buttons)"
      ],
      "execution_count": null,
      "outputs": []
    },
    {
      "cell_type": "markdown",
      "metadata": {
        "id": "SYWEpahMKaS3"
      },
      "source": [
        "Několik rad:\n",
        "* Může se stát, že vaše spektrum je široké a úzký pík se vám pomocí slajdru špatně vybírá. Nic nezkazíte, když ze zdrojových dat odmažete nezajímavou část spektra a začnete znovu, z užšího spektra se vám bude vybírat pohodlněji. \n",
        "* Vybírejte pík vždy i s malým okolím. Pozadí se fituje kvadratickým polynomem, a fit bude hezčí, když se bude mít čeho chytit. \n",
        "* Pokud fitujete hodně asymetrický pík, zkuste fit s lineárním nebo konstantním pozadím.\n",
        "* Zvolte konstantní pozadí, fitujete-li osamělý pík."
      ]
    },
    {
      "cell_type": "markdown",
      "metadata": {
        "id": "q43WR4llyIjK"
      },
      "source": [
        "## 4. Fitování píku\n",
        "\n",
        "Po spuštění se program pokusí nalézt optimální kombinaci gaussiánu a polynomu zvoleného stupně, která co nejlépe vystihujte spektrum ve zvolené oblasti. Nemusí se vám to povest napoprvé, v případě neúspěchu klidně začněte od 3. kroku."
      ]
    },
    {
      "cell_type": "code",
      "metadata": {
        "id": "P2qnMzX6XekC",
        "cellView": "form"
      },
      "source": [
        "#@title <-- Nafitujte vybraný pík\n",
        "\n",
        "from scipy.stats import norm\n",
        "from scipy.optimize import curve_fit\n",
        "from math import sqrt, exp, log\n",
        "\n",
        "# Subset df acc to ROI\n",
        "low, high = rs.value\n",
        "\n",
        "df_fit = df[np.logical_and(df.Energy_keV > low, df.Energy_keV < high)].copy()\n",
        "df_fit['Errors'] = np.sqrt(df_fit.Counts)\n",
        "\n",
        "# Dynamic definition of polynomial part\n",
        "bg_degree = 0\n",
        "while bg_buttons.value != bg_labels[bg_degree]:\n",
        "  bg_degree += 1\n",
        "\n",
        "init_polyvals = [0] * (bg_degree + 1)\n",
        "\n",
        "def bg_poly(x, a):\n",
        "  p = np.zeros_like(x)\n",
        "  for i in range(len(a)):\n",
        "    p = p*x + a[i]\n",
        "  return p\n",
        "\n",
        "def gauss(x, N0, mean, sigma):\n",
        "  return N0 * norm.pdf(x, mean, sigma)\n",
        "\n",
        "def gauss_and_bg(x, N0, mean, sigma, *polyvals):\n",
        "  return bg_poly(x, polyvals) + gauss(x, N0, mean, sigma)\n",
        "  \n",
        "popt, pcov = curve_fit(\n",
        "    gauss_and_bg, \n",
        "    df_fit.Energy_keV, \n",
        "    df_fit.Net_counts, \n",
        "    [1000,0.5*(high+low), 0.5*(high-low), *init_polyvals] \n",
        ")\n",
        "\n",
        "# Peak stats:\n",
        "N0 = np.sum(df_fit.Net_counts)\n",
        "dE = np.mean(np.diff(df.Energy_keV))\n",
        "sig2fwhm = 2*sqrt(2*log(2))\n",
        "peak_stats = pd.DataFrame(dict(\n",
        "    Parameter=['left_edge', 'right_edge','centroid', 'FWHM', 'N_total', 'N_peak', 'N_bg', 'Acc. time', 'Rate'],\n",
        "    Unit=['keV', 'keV', 'keV', 'keV', '', '', '', 's', 'Hz'],\n",
        "    Value=[low, high, popt[1], sig2fwhm*popt[2], N0, popt[0]/dE, N0 - popt[0]/dE, sample_time, popt[0]/dE/sample_time],\n",
        "    Error=[None,None,sqrt(pcov[1,1]),sig2fwhm*sqrt(pcov[2,2]),None,sqrt(pcov[0,0])/dE,sqrt(pcov[0,0])/dE, 0, sqrt(pcov[0,0])/dE/sample_time]\n",
        "))\n",
        "\n",
        "df_fit['Fit'] = df_fit.apply(lambda row: gauss_and_bg(row.Energy_keV, *popt), axis = 1)\n",
        "df_fit['Bg'] = df_fit.apply(lambda row: bg_poly(row.Energy_keV, popt[3:]), axis = 1)\n",
        "\n",
        "fig.add_trace(\n",
        "    go.Scatter(x=df_fit.Energy_keV, y=df_fit.Fit)\n",
        ")\n",
        "fig.add_trace(\n",
        "    go.Scatter(x=df_fit.Energy_keV, y=df_fit.Bg)\n",
        ")\n",
        "fig.show()\n",
        "\n",
        "print('PEAK FIT SUMMARY:')\n",
        "pd.options.display.float_format = '{:.2f}'.format\n",
        "peak_stats"
      ],
      "execution_count": null,
      "outputs": []
    },
    {
      "cell_type": "markdown",
      "metadata": {
        "id": "-6fOyEH6IX9V"
      },
      "source": [
        "Může se stát, že fit neskonverguje nebo bude špatný. V takovém případě \n",
        "* zkuste mírně změnit výběr oblasti fitování ve 3. kroku\n",
        "* zkuste jiný tvar pozadí\n",
        "\n",
        "Postup můžete opakovat pro další píky i bez resetování notebooku, od 3. kroku. Pokud se chcete zbavit předchozích fitů, vymažte výstup ve 3. kroku kliknutím na symbol pod spouštěcí šipkou.\n",
        "\n",
        "**Důležité** Tabulka parametrů píku se dalším fitem přepíše, takže si ji zkopírujte, než přejdete k novému spektru."
      ]
    },
    {
      "cell_type": "markdown",
      "metadata": {
        "id": "LKCm-V9YAH5c"
      },
      "source": [
        "## Poznámky\n",
        "\n",
        "1. Pokud si chcete udělat pořádek v souborech, které jste už načetli, klikněte na symbol 📁 nahoře nalevo. \n",
        "2. Změny v původní notebooku, otevřeném z GitHub repozitáře, vám systém nedovolí uložit. Udělejte si vlastní kopii, nejsnadněji ho skopírujete na Google Drive."
      ]
    }
  ]
}