{
  "nbformat": 4,
  "nbformat_minor": 0,
  "metadata": {
    "colab": {
      "name": "PeakGen.ipynb",
      "provenance": [],
      "collapsed_sections": [],
      "include_colab_link": true
    },
    "kernelspec": {
      "name": "python3",
      "display_name": "Python 3"
    },
    "widgets": {
      "application/vnd.jupyter.widget-state+json": {
        "35973f6610de4a0f8c23a50361acdb9d": {
          "model_module": "@jupyter-widgets/controls",
          "model_name": "IntSliderModel",
          "state": {
            "_view_name": "IntSliderView",
            "style": "IPY_MODEL_15ca890a2372463baee9ed94294ab35e",
            "_dom_classes": [],
            "description": "Replicas:",
            "step": 1,
            "_model_name": "IntSliderModel",
            "orientation": "horizontal",
            "max": 20,
            "_view_module": "@jupyter-widgets/controls",
            "_model_module_version": "1.5.0",
            "value": 5,
            "_view_count": null,
            "disabled": false,
            "_view_module_version": "1.5.0",
            "min": 1,
            "continuous_update": false,
            "readout_format": "d",
            "description_tooltip": null,
            "readout": true,
            "_model_module": "@jupyter-widgets/controls",
            "layout": "IPY_MODEL_2f2ffc26a7e24efa95a2af3311ab026d"
          }
        },
        "15ca890a2372463baee9ed94294ab35e": {
          "model_module": "@jupyter-widgets/controls",
          "model_name": "SliderStyleModel",
          "state": {
            "_view_name": "StyleView",
            "handle_color": null,
            "_model_name": "SliderStyleModel",
            "description_width": "",
            "_view_module": "@jupyter-widgets/base",
            "_model_module_version": "1.5.0",
            "_view_count": null,
            "_view_module_version": "1.2.0",
            "_model_module": "@jupyter-widgets/controls"
          }
        },
        "2f2ffc26a7e24efa95a2af3311ab026d": {
          "model_module": "@jupyter-widgets/base",
          "model_name": "LayoutModel",
          "state": {
            "_view_name": "LayoutView",
            "grid_template_rows": null,
            "right": null,
            "justify_content": null,
            "_view_module": "@jupyter-widgets/base",
            "overflow": null,
            "_model_module_version": "1.2.0",
            "_view_count": null,
            "flex_flow": null,
            "width": null,
            "min_width": null,
            "border": null,
            "align_items": null,
            "bottom": null,
            "_model_module": "@jupyter-widgets/base",
            "top": null,
            "grid_column": null,
            "overflow_y": null,
            "overflow_x": null,
            "grid_auto_flow": null,
            "grid_area": null,
            "grid_template_columns": null,
            "flex": null,
            "_model_name": "LayoutModel",
            "justify_items": null,
            "grid_row": null,
            "max_height": null,
            "align_content": null,
            "visibility": null,
            "align_self": null,
            "height": null,
            "min_height": null,
            "padding": null,
            "grid_auto_rows": null,
            "grid_gap": null,
            "max_width": null,
            "order": null,
            "_view_module_version": "1.2.0",
            "grid_template_areas": null,
            "object_position": null,
            "object_fit": null,
            "grid_auto_columns": null,
            "margin": null,
            "display": null,
            "left": null
          }
        }
      }
    }
  },
  "cells": [
    {
      "cell_type": "markdown",
      "metadata": {
        "id": "view-in-github",
        "colab_type": "text"
      },
      "source": [
        "<a href=\"https://colab.research.google.com/github/PKvasnick/PeakFit/blob/master/PeakGen.ipynb\" target=\"_parent\"><img src=\"https://colab.research.google.com/assets/colab-badge.svg\" alt=\"Open In Colab\"/></a>"
      ]
    },
    {
      "cell_type": "markdown",
      "metadata": {
        "id": "nfTpf0BLJhoj"
      },
      "source": [
        "# Generátor spekter\n",
        "\n",
        "Tento skript generuje repliky měťených spekter k úloze A3.\n",
        "\n",
        "Repliky spekter se generují takto: \n",
        "\n",
        "1. Načteme vzorky a zadáme počet replik\n",
        "2. Vygenerujeme repliky spekter a uložíme je do souborového systému Colab notebooku. Repliky se generují takto:\n",
        "  - Vygenerujeme náhodný čas měření v intervalu (původní čas - 10 s, původní čas + 50 s). \n",
        "  - Vyhladíme spektrum vyhlazujícím splajnem.\n",
        "  - Pro každý kanál původního spektra vygenerujeme Poissonovskou intenzitu pro nové spektrum tak, že hodnotu vyhlazeného spektra přenormujeme na nový čas měření, vygenerovaný v kroku 1. \n",
        "  - Z Poissonovské intenzity vygenerujeme náhodný vzorek, a to bude hodnota generovaného spektra v tomto kanálu. \n",
        "$$\n",
        "I = S_{smooth} \\frac{t_{new}}{t_{orig}}, \\quad\n",
        "S_{new} \\sim P(N|I) = \\frac{I^N}{N!}e^{-I}\n",
        "$$\n",
        "3. Stáhneme vygenerovaná data.\n",
        "4. Skript zobrazí panel plotů s původními a replikovanými spektry."
      ]
    },
    {
      "cell_type": "markdown",
      "metadata": {
        "id": "3Kz-GAIyeOxE"
      },
      "source": [
        "## 1. Načtení vybraných spekter\n",
        "V tomto kroku načtete ze soubovorého systému vašeho počítače datové soubory pro požadované vzorky. Referenční vzorek se replikuje stejně jako ostatní vzorky a tedy nemá výsadné psotavení. Časy měření u replikovaných vzorků budou generovány náhodně. Názvy souborů očekáváme v tvaru `Vzorek-X_YYYs, kde X je identifik8tor vzorku a YYY čas nabírání dat.  \n",
        "\n",
        "Klikněte na šípku v levém horném rohu u následující buňky pro výběr požadovaných datových souborů a když ikonka ožije, klikněte na `Prohledávat` a vyberte požadované soubory pro načtení, všechny najednou.\n",
        "\n",
        "Po načtení se soubory zpracují - vytvoří se vyhlazená spektra s informacemi o identifikaci vzorku a času nabírání dat."
      ]
    },
    {
      "cell_type": "code",
      "metadata": {
        "id": "8ldJhMfXkkVA",
        "cellView": "form"
      },
      "source": [
        "#@title <-- Načtěte z počítače požadované datové soubory\n",
        "\n",
        "from google.colab import files\n",
        "import numpy as np\n",
        "import pandas as pd\n",
        "\n",
        "uploaded = files.upload() # Widget, vrací dict (název, obsah)\n",
        "filenames = list(uploaded.keys())\n",
        "\n",
        "print('Připravuji data ke generování...')\n",
        "# Prepare data\n",
        "import sys\n",
        "from io import StringIO\n",
        "from scipy.interpolate import UnivariateSpline\n",
        "from numpy.random import randint\n",
        "\n",
        "base_data = [] # Will be tuples (sample_id, time, spectrum, smooth_spectrum)\n",
        "\n",
        "for filename, file_bytes in uploaded.items():\n",
        "  seconds = int(filename[(filename.find('_')+1):filename.find('s.txt')])\n",
        "  sample_id = filename[filename.find('-')+1:filename.find('_')]\n",
        "\n",
        "  content = file_bytes.decode('utf-8')\n",
        "  df = pd.read_csv(StringIO(content), sep = ' ')\n",
        "\n",
        "  # Smoothing\n",
        "  firstpeak = 6   # Ostrý pík na začátku nejde vyhladit, vyhlazujeme od něj doprava\n",
        "  smoother = UnivariateSpline(df.Energy_keV[firstpeak:], df.Counts[firstpeak:], w=1.0/(1 + np.sqrt(df.Counts[firstpeak:])))\n",
        "  smoothed_spectrum = np.zeros_like(df.Energy_keV)\n",
        "  smoothed_spectrum[:firstpeak] = df.Counts[:firstpeak]\n",
        "  smoothed_spectrum[firstpeak:] = smoother(df.Energy_keV[firstpeak:])\n",
        "  np.clip(smoothed_spectrum, 0, 1000000, out = smoothed_spectrum)\n",
        "  smoothed_df = pd.DataFrame({\n",
        "      'Energy_keV': df.Energy_keV,\n",
        "      'Smooth': smoothed_spectrum,\n",
        "      'Counts': df.Counts\n",
        "  })\n",
        "\n",
        "  # Remember me\n",
        "  base_data.append((sample_id, seconds, smoothed_df))\n",
        "\n",
        "print('Hotovo.')"
      ],
      "execution_count": null,
      "outputs": []
    },
    {
      "cell_type": "code",
      "metadata": {
        "id": "FEqirY2Tilk1",
        "colab": {
          "base_uri": "https://localhost:8080/",
          "height": 49,
          "referenced_widgets": [
            "35973f6610de4a0f8c23a50361acdb9d",
            "15ca890a2372463baee9ed94294ab35e",
            "2f2ffc26a7e24efa95a2af3311ab026d"
          ]
        },
        "cellView": "form",
        "outputId": "4dd4da4e-4c84-44e5-facd-c4c983e7b985"
      },
      "source": [
        "#@title <-- Zvolte požadovaný počet replik\n",
        "\n",
        "import ipywidgets as widgets\n",
        "\n",
        "rep_slider = widgets.IntSlider(\n",
        "    value=1,\n",
        "    min=1,\n",
        "    max=20,\n",
        "    step=1,\n",
        "    description='Replicas:',\n",
        "    disabled=False,\n",
        "    continuous_update=False,\n",
        "    orientation='horizontal',\n",
        "    readout=True,\n",
        "    readout_format='d'\n",
        ")\n",
        "\n",
        "rep_slider\n"
      ],
      "execution_count": 16,
      "outputs": [
        {
          "output_type": "display_data",
          "data": {
            "application/vnd.jupyter.widget-view+json": {
              "model_id": "35973f6610de4a0f8c23a50361acdb9d",
              "version_minor": 0,
              "version_major": 2
            },
            "text/plain": [
              "IntSlider(value=1, continuous_update=False, description='Replicas:', max=20, min=1)"
            ]
          },
          "metadata": {
            "tags": []
          }
        }
      ]
    },
    {
      "cell_type": "markdown",
      "metadata": {
        "id": "0VSaFfzyHUHk"
      },
      "source": [
        "## 2. Generování replik\n",
        "\n",
        "Replikovaná spektra vyrábíme takto: \n",
        "1. Náhodně vygenerujeme čas měření v intervalu (aktuální čas - 10s, aktuální čas + 50s)\n",
        "2. Příslušným faktorem vynásobíme vyhlazené spektrum.\n",
        "3. Replikované spektrum je Poissonnovská náhodná proměnná s intenzitou danou body škálovaného vyhlazeného spektra. \n",
        "\n",
        "Časy měření se pro každou repliku generují zvlášť. Tedy jednotlivé repliky téhož spektra se liší škálou (časem měření) a šumem.\n",
        "\n",
        "### Ukládání dat\n",
        "Data se ukládají do adresářů `Replicas/replica0`, `Replicas/replica1` atd. Každý takový adresář obsahuje kompletní sadu spekter.\n",
        "\n",
        "Před naplněním generovanými daty se požadovaný adresář vytvoří, pokud neexistuje, a pokud existuje, vymažou se v něm všetchny soubory `*.txt`."
      ]
    },
    {
      "cell_type": "code",
      "metadata": {
        "id": "UA5dDpvxktEH",
        "cellView": "form"
      },
      "source": [
        "#@title <-- Vygenerujte repliky\n",
        "\n",
        "import os\n",
        "\n",
        "nreplicas = rep_slider.value\n",
        "\n",
        "print('Generuji {0} replik...'.format(nreplicas))\n",
        "\n",
        "#----------------------------------------------------------------\n",
        "# Připravíme grafy\n",
        "#----------------------------------------------------------------\n",
        "from plotly.subplots import make_subplots\n",
        "from plotly import graph_objects as go\n",
        "\n",
        "# Vypočteme počet subplotů\n",
        "sample_ids = [s for s, _, _ in base_data]\n",
        "titles = ['Vzorek {}'.format(s) for s in sample_ids]\n",
        "ncols = 2\n",
        "nsamples = len(sample_ids)\n",
        "nrows = nsamples // ncols + (1 if nsamples % ncols > 0 else 0)\n",
        "sample_cols = [i % ncols + 1 for i in range(nsamples)]\n",
        "sample_rows = [i // ncols + 1 for i in range(nsamples)]\n",
        "\n",
        "# Create figure\n",
        "\n",
        "fig = make_subplots(\n",
        "    rows = nrows,\n",
        "    cols = ncols,\n",
        "    shared_xaxes = True,\n",
        "    shared_yaxes = True,\n",
        "    subplot_titles = titles\n",
        "    )\n",
        "\n",
        "sample_no = 0\n",
        "for sample_id, time, df in base_data:\n",
        "  c = sample_cols[sample_no]\n",
        "  r = sample_rows[sample_no]\n",
        "  fig.add_trace(go.Scatter(\n",
        "    x=df.Energy_keV, \n",
        "    y=df.Counts, \n",
        "    mode = 'lines',\n",
        "    line = go.scatter.Line(color = 'red', width = 0.5),\n",
        "    name = 'Counts {}'.format(sample_id)),\n",
        "    row=r, col=c\n",
        "    )\n",
        "  if r == nrows:\n",
        "    fig.update_xaxes(title_text = \"Energy [keV]\", row = r, col = c)\n",
        "  if c == 1:\n",
        "    fig.update_yaxes(title_text = \"Counts\", row = r, col = c)\n",
        "  sample_no +=1\n",
        "\n",
        "#----------------------------------------------------------------\n",
        "# Připravíme adresáře pro repliky\n",
        "#----------------------------------------------------------------\n",
        "\n",
        "# Replicas folder\n",
        "if not os.path.isdir('./Replicas'): \n",
        "  os.mkdir('./Replicas')\n",
        "\n",
        "for replica in range(nreplicas):\n",
        "\n",
        "  # Prepare folders\n",
        "  path=''\n",
        "  replica_dir = './Replicas/replica{}'.format(replica)\n",
        "  if os.path.isdir(replica_dir): # clear files if dir exists\n",
        "    try: \n",
        "      os.remove(path + '/*.txt')\n",
        "    except OSError as error: \n",
        "      pass\n",
        "  else:                           # otherwise create dir\n",
        "    os.mkdir(replica_dir) \n",
        "\n",
        "#----------------------------------------------------------------\n",
        "# Generujeme repliky\n",
        "#----------------------------------------------------------------\n",
        "  sample_no = 0\n",
        "  for sample_id, time, df in base_data:\n",
        "    # Vygenerujeme čas měření\n",
        "    new_time = np.random.randint(time - 10, time + 50)\n",
        "    factor = 1.0 * new_time / time\n",
        "    replica_spectrum = np.random.poisson(df.Smooth * factor, len(df))\n",
        "    export_df = pd.DataFrame({\n",
        "      'Energy_keV': df.Energy_keV,\n",
        "      'Counts': replica_spectrum\n",
        "    })\n",
        "    export_path = '{0}/Vzorek-{1}_{2}s.txt'.format(replica_dir, sample_id, new_time)\n",
        "    export_df.to_csv(export_path, sep = ' ')\n",
        "\n",
        "    c = sample_cols[sample_no]\n",
        "    r = sample_rows[sample_no]\n",
        "    fig.add_trace(go.Scatter(\n",
        "      x=df.Energy_keV, \n",
        "      y=replica_spectrum, \n",
        "      mode = 'lines',\n",
        "      line = go.scatter.Line(color = 'blue', width = 0.1),\n",
        "      name = None),\n",
        "      row=r, col=c\n",
        "      )\n",
        "    sample_no += 1\n",
        "\n",
        "print('Hotovo.')\n",
        "\n",
        "fig.update_layout(height=1200, width=1000,\n",
        "                  showlegend = False,\n",
        "                  title_text=r'Zdrojová spektra a repliky')\n",
        "fig.show()"
      ],
      "execution_count": null,
      "outputs": []
    },
    {
      "cell_type": "markdown",
      "metadata": {
        "id": "SxL3OEZ3LOXC"
      },
      "source": [
        "Tyto grafy slouží pro kontrolu správné generace dat. Protože jednotlivé repliky se mírně liší časem měření, mají replikovaná spektra různé škály. Mají ale stejné aktivity a tedy spočtené výtěžky z rentgenových píků by měly být pro všechny repliky stejné. "
      ]
    },
    {
      "cell_type": "markdown",
      "metadata": {
        "id": "DXE5wP3MxRSc"
      },
      "source": [
        "## 3. Download\n",
        "\n",
        "Data jsou vygenerovaná, ale nachází se na cloudu Google Colabu, odkud je chceme stáhnout. Tento krok nejspolehlivěji provedeme manuálně. \n",
        "1. Zazipujeme vygenerované soubory "
      ]
    },
    {
      "cell_type": "code",
      "metadata": {
        "id": "8lQesxaJ5rQW",
        "cellView": "form"
      },
      "source": [
        "#@title <-- Zazipujte vygenerovaná data\n",
        "\n",
        "!zip -r Replicas.zip ./Replicas"
      ],
      "execution_count": null,
      "outputs": []
    },
    {
      "cell_type": "markdown",
      "metadata": {
        "id": "MfHC-b2g6wpE"
      },
      "source": [
        "\n",
        "2. Klikněte na `View -> Table of Contents`. \n",
        "3. Otevře se panel vlevo (mimochodem vůbec není šptatný nápad mít ho otevřený stále). \n",
        "4. Kliknout na 📁 úplně nalevo, a zobrazí se seznam souborů. \n",
        "5. Najedeme myší na soubor `Replicas.zip` a klikneme na symbol **⁝** vpravo, zvolíme `Upload` a stahneme ho do svého počítače. "
      ]
    },
    {
      "cell_type": "markdown",
      "metadata": {
        "id": "AycdDzFizXgW"
      },
      "source": [
        "## Operace se soubory\n",
        "\n",
        "Většinu lokálních operací s vygenerovanými soubory je nejpohodlnější udělat přímo z notebooku. Stačí si otebřít buňku pro kód (`Ctrl-M B) a zadat příslušný příkaz s vykřičníkem.\n",
        "\n",
        "Níže uvádím příklady. \n",
        "\n",
        "**Důležité**  U této buňky **neklikejte** na šipku pro vykonání, spouštějte jenom potřebné řádky (označit řádek + `Ctrl-Shift-Enter`) nebo obsah vymažte a zadejte příkaz, který potřebujete. "
      ]
    },
    {
      "cell_type": "code",
      "metadata": {
        "id": "81E_M_2izwQY"
      },
      "source": [
        "# Obsah lokálního adresáře notebooku\n",
        "!ls\n",
        "# Smazat všechna vygenerovaná data\n",
        "!rm -rf ./Replicas\n",
        "# Smazat všechny načtené textové soubory\n",
        "!rm -f *.txt"
      ],
      "execution_count": null,
      "outputs": []
    }
  ]
}